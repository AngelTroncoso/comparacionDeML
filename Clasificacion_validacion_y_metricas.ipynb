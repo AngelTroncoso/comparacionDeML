{
  "nbformat": 4,
  "nbformat_minor": 0,
  "metadata": {
    "colab": {
      "provenance": [],
      "include_colab_link": true
    },
    "kernelspec": {
      "name": "python3",
      "display_name": "Python 3"
    },
    "language_info": {
      "name": "python"
    }
  },
  "cells": [
    {
      "cell_type": "markdown",
      "metadata": {
        "id": "view-in-github",
        "colab_type": "text"
      },
      "source": [
        "<a href=\"https://colab.research.google.com/github/AngelTroncoso/comparacionDeML/blob/main/Clasificacion_validacion_y_metricas.ipynb\" target=\"_parent\"><img src=\"https://colab.research.google.com/assets/colab-badge.svg\" alt=\"Open In Colab\"/></a>"
      ]
    },
    {
      "cell_type": "markdown",
      "source": [
        "# <font color='dark'>**Clasificación: Validación de modelos y métricas de evaluación**</h1>"
      ],
      "metadata": {
        "id": "MCqTDybk4ShK"
      }
    },
    {
      "cell_type": "markdown",
      "source": [
        "### Proyecto\n",
        "\n",
        "Una empresa de Analisis de examenes de datos de pacientes a ser diagnosticados con diabetes o no.  \n",
        "Las variables explicativas son todas las columnas excepto la de diabetes."
      ],
      "metadata": {
        "id": "WscU3KG7a9No"
      }
    },
    {
      "cell_type": "markdown",
      "source": [
        "## <font color='dark'>Clasificando los datos</h1>"
      ],
      "metadata": {
        "id": "WgS8iF51Csrn"
      }
    },
    {
      "cell_type": "markdown",
      "source": [
        "### Creando un modelo inicial"
      ],
      "metadata": {
        "id": "6lExmBuKn-xe"
      }
    },
    {
      "cell_type": "code",
      "source": [
        "import pandas as pd\n",
        "url = \"https://raw.githubusercontent.com/alura-es-cursos/2162-clasificacion-validacion-de-modelos-y-metricas/refs/heads/desafios/diabetes.csv\"\n",
        "datos = pd.read_csv(url)\n",
        "datos.head()"
      ],
      "metadata": {
        "id": "ANJDC3LqP43q",
        "outputId": "e494964b-0be7-4044-cb90-8161822f876b",
        "colab": {
          "base_uri": "https://localhost:8080/",
          "height": 206
        }
      },
      "execution_count": 1,
      "outputs": [
        {
          "output_type": "execute_result",
          "data": {
            "text/plain": [
              "   glicemia  presion_sanguinea  grasa_subcutanea_triceps  insulina    imc  \\\n",
              "0        66                 23                        94      28.1  0.167   \n",
              "1        40                 35                       168      43.1  2.288   \n",
              "2        50                 32                        88      31.0  0.248   \n",
              "3        70                 45                       543      30.5  0.158   \n",
              "4        60                 23                       846      30.1  0.398   \n",
              "\n",
              "   diabetes  \n",
              "0         0  \n",
              "1         1  \n",
              "2         1  \n",
              "3         1  \n",
              "4         1  "
            ],
            "text/html": [
              "\n",
              "  <div id=\"df-bf021f50-d14c-4d5d-b758-a79c2442c06c\" class=\"colab-df-container\">\n",
              "    <div>\n",
              "<style scoped>\n",
              "    .dataframe tbody tr th:only-of-type {\n",
              "        vertical-align: middle;\n",
              "    }\n",
              "\n",
              "    .dataframe tbody tr th {\n",
              "        vertical-align: top;\n",
              "    }\n",
              "\n",
              "    .dataframe thead th {\n",
              "        text-align: right;\n",
              "    }\n",
              "</style>\n",
              "<table border=\"1\" class=\"dataframe\">\n",
              "  <thead>\n",
              "    <tr style=\"text-align: right;\">\n",
              "      <th></th>\n",
              "      <th>glicemia</th>\n",
              "      <th>presion_sanguinea</th>\n",
              "      <th>grasa_subcutanea_triceps</th>\n",
              "      <th>insulina</th>\n",
              "      <th>imc</th>\n",
              "      <th>diabetes</th>\n",
              "    </tr>\n",
              "  </thead>\n",
              "  <tbody>\n",
              "    <tr>\n",
              "      <th>0</th>\n",
              "      <td>66</td>\n",
              "      <td>23</td>\n",
              "      <td>94</td>\n",
              "      <td>28.1</td>\n",
              "      <td>0.167</td>\n",
              "      <td>0</td>\n",
              "    </tr>\n",
              "    <tr>\n",
              "      <th>1</th>\n",
              "      <td>40</td>\n",
              "      <td>35</td>\n",
              "      <td>168</td>\n",
              "      <td>43.1</td>\n",
              "      <td>2.288</td>\n",
              "      <td>1</td>\n",
              "    </tr>\n",
              "    <tr>\n",
              "      <th>2</th>\n",
              "      <td>50</td>\n",
              "      <td>32</td>\n",
              "      <td>88</td>\n",
              "      <td>31.0</td>\n",
              "      <td>0.248</td>\n",
              "      <td>1</td>\n",
              "    </tr>\n",
              "    <tr>\n",
              "      <th>3</th>\n",
              "      <td>70</td>\n",
              "      <td>45</td>\n",
              "      <td>543</td>\n",
              "      <td>30.5</td>\n",
              "      <td>0.158</td>\n",
              "      <td>1</td>\n",
              "    </tr>\n",
              "    <tr>\n",
              "      <th>4</th>\n",
              "      <td>60</td>\n",
              "      <td>23</td>\n",
              "      <td>846</td>\n",
              "      <td>30.1</td>\n",
              "      <td>0.398</td>\n",
              "      <td>1</td>\n",
              "    </tr>\n",
              "  </tbody>\n",
              "</table>\n",
              "</div>\n",
              "    <div class=\"colab-df-buttons\">\n",
              "\n",
              "  <div class=\"colab-df-container\">\n",
              "    <button class=\"colab-df-convert\" onclick=\"convertToInteractive('df-bf021f50-d14c-4d5d-b758-a79c2442c06c')\"\n",
              "            title=\"Convert this dataframe to an interactive table.\"\n",
              "            style=\"display:none;\">\n",
              "\n",
              "  <svg xmlns=\"http://www.w3.org/2000/svg\" height=\"24px\" viewBox=\"0 -960 960 960\">\n",
              "    <path d=\"M120-120v-720h720v720H120Zm60-500h600v-160H180v160Zm220 220h160v-160H400v160Zm0 220h160v-160H400v160ZM180-400h160v-160H180v160Zm440 0h160v-160H620v160ZM180-180h160v-160H180v160Zm440 0h160v-160H620v160Z\"/>\n",
              "  </svg>\n",
              "    </button>\n",
              "\n",
              "  <style>\n",
              "    .colab-df-container {\n",
              "      display:flex;\n",
              "      gap: 12px;\n",
              "    }\n",
              "\n",
              "    .colab-df-convert {\n",
              "      background-color: #E8F0FE;\n",
              "      border: none;\n",
              "      border-radius: 50%;\n",
              "      cursor: pointer;\n",
              "      display: none;\n",
              "      fill: #1967D2;\n",
              "      height: 32px;\n",
              "      padding: 0 0 0 0;\n",
              "      width: 32px;\n",
              "    }\n",
              "\n",
              "    .colab-df-convert:hover {\n",
              "      background-color: #E2EBFA;\n",
              "      box-shadow: 0px 1px 2px rgba(60, 64, 67, 0.3), 0px 1px 3px 1px rgba(60, 64, 67, 0.15);\n",
              "      fill: #174EA6;\n",
              "    }\n",
              "\n",
              "    .colab-df-buttons div {\n",
              "      margin-bottom: 4px;\n",
              "    }\n",
              "\n",
              "    [theme=dark] .colab-df-convert {\n",
              "      background-color: #3B4455;\n",
              "      fill: #D2E3FC;\n",
              "    }\n",
              "\n",
              "    [theme=dark] .colab-df-convert:hover {\n",
              "      background-color: #434B5C;\n",
              "      box-shadow: 0px 1px 3px 1px rgba(0, 0, 0, 0.15);\n",
              "      filter: drop-shadow(0px 1px 2px rgba(0, 0, 0, 0.3));\n",
              "      fill: #FFFFFF;\n",
              "    }\n",
              "  </style>\n",
              "\n",
              "    <script>\n",
              "      const buttonEl =\n",
              "        document.querySelector('#df-bf021f50-d14c-4d5d-b758-a79c2442c06c button.colab-df-convert');\n",
              "      buttonEl.style.display =\n",
              "        google.colab.kernel.accessAllowed ? 'block' : 'none';\n",
              "\n",
              "      async function convertToInteractive(key) {\n",
              "        const element = document.querySelector('#df-bf021f50-d14c-4d5d-b758-a79c2442c06c');\n",
              "        const dataTable =\n",
              "          await google.colab.kernel.invokeFunction('convertToInteractive',\n",
              "                                                    [key], {});\n",
              "        if (!dataTable) return;\n",
              "\n",
              "        const docLinkHtml = 'Like what you see? Visit the ' +\n",
              "          '<a target=\"_blank\" href=https://colab.research.google.com/notebooks/data_table.ipynb>data table notebook</a>'\n",
              "          + ' to learn more about interactive tables.';\n",
              "        element.innerHTML = '';\n",
              "        dataTable['output_type'] = 'display_data';\n",
              "        await google.colab.output.renderOutput(dataTable, element);\n",
              "        const docLink = document.createElement('div');\n",
              "        docLink.innerHTML = docLinkHtml;\n",
              "        element.appendChild(docLink);\n",
              "      }\n",
              "    </script>\n",
              "  </div>\n",
              "\n",
              "\n",
              "    <div id=\"df-ab4e00c8-8cdb-4d53-a7cf-60c47d233966\">\n",
              "      <button class=\"colab-df-quickchart\" onclick=\"quickchart('df-ab4e00c8-8cdb-4d53-a7cf-60c47d233966')\"\n",
              "                title=\"Suggest charts\"\n",
              "                style=\"display:none;\">\n",
              "\n",
              "<svg xmlns=\"http://www.w3.org/2000/svg\" height=\"24px\"viewBox=\"0 0 24 24\"\n",
              "     width=\"24px\">\n",
              "    <g>\n",
              "        <path d=\"M19 3H5c-1.1 0-2 .9-2 2v14c0 1.1.9 2 2 2h14c1.1 0 2-.9 2-2V5c0-1.1-.9-2-2-2zM9 17H7v-7h2v7zm4 0h-2V7h2v10zm4 0h-2v-4h2v4z\"/>\n",
              "    </g>\n",
              "</svg>\n",
              "      </button>\n",
              "\n",
              "<style>\n",
              "  .colab-df-quickchart {\n",
              "      --bg-color: #E8F0FE;\n",
              "      --fill-color: #1967D2;\n",
              "      --hover-bg-color: #E2EBFA;\n",
              "      --hover-fill-color: #174EA6;\n",
              "      --disabled-fill-color: #AAA;\n",
              "      --disabled-bg-color: #DDD;\n",
              "  }\n",
              "\n",
              "  [theme=dark] .colab-df-quickchart {\n",
              "      --bg-color: #3B4455;\n",
              "      --fill-color: #D2E3FC;\n",
              "      --hover-bg-color: #434B5C;\n",
              "      --hover-fill-color: #FFFFFF;\n",
              "      --disabled-bg-color: #3B4455;\n",
              "      --disabled-fill-color: #666;\n",
              "  }\n",
              "\n",
              "  .colab-df-quickchart {\n",
              "    background-color: var(--bg-color);\n",
              "    border: none;\n",
              "    border-radius: 50%;\n",
              "    cursor: pointer;\n",
              "    display: none;\n",
              "    fill: var(--fill-color);\n",
              "    height: 32px;\n",
              "    padding: 0;\n",
              "    width: 32px;\n",
              "  }\n",
              "\n",
              "  .colab-df-quickchart:hover {\n",
              "    background-color: var(--hover-bg-color);\n",
              "    box-shadow: 0 1px 2px rgba(60, 64, 67, 0.3), 0 1px 3px 1px rgba(60, 64, 67, 0.15);\n",
              "    fill: var(--button-hover-fill-color);\n",
              "  }\n",
              "\n",
              "  .colab-df-quickchart-complete:disabled,\n",
              "  .colab-df-quickchart-complete:disabled:hover {\n",
              "    background-color: var(--disabled-bg-color);\n",
              "    fill: var(--disabled-fill-color);\n",
              "    box-shadow: none;\n",
              "  }\n",
              "\n",
              "  .colab-df-spinner {\n",
              "    border: 2px solid var(--fill-color);\n",
              "    border-color: transparent;\n",
              "    border-bottom-color: var(--fill-color);\n",
              "    animation:\n",
              "      spin 1s steps(1) infinite;\n",
              "  }\n",
              "\n",
              "  @keyframes spin {\n",
              "    0% {\n",
              "      border-color: transparent;\n",
              "      border-bottom-color: var(--fill-color);\n",
              "      border-left-color: var(--fill-color);\n",
              "    }\n",
              "    20% {\n",
              "      border-color: transparent;\n",
              "      border-left-color: var(--fill-color);\n",
              "      border-top-color: var(--fill-color);\n",
              "    }\n",
              "    30% {\n",
              "      border-color: transparent;\n",
              "      border-left-color: var(--fill-color);\n",
              "      border-top-color: var(--fill-color);\n",
              "      border-right-color: var(--fill-color);\n",
              "    }\n",
              "    40% {\n",
              "      border-color: transparent;\n",
              "      border-right-color: var(--fill-color);\n",
              "      border-top-color: var(--fill-color);\n",
              "    }\n",
              "    60% {\n",
              "      border-color: transparent;\n",
              "      border-right-color: var(--fill-color);\n",
              "    }\n",
              "    80% {\n",
              "      border-color: transparent;\n",
              "      border-right-color: var(--fill-color);\n",
              "      border-bottom-color: var(--fill-color);\n",
              "    }\n",
              "    90% {\n",
              "      border-color: transparent;\n",
              "      border-bottom-color: var(--fill-color);\n",
              "    }\n",
              "  }\n",
              "</style>\n",
              "\n",
              "      <script>\n",
              "        async function quickchart(key) {\n",
              "          const quickchartButtonEl =\n",
              "            document.querySelector('#' + key + ' button');\n",
              "          quickchartButtonEl.disabled = true;  // To prevent multiple clicks.\n",
              "          quickchartButtonEl.classList.add('colab-df-spinner');\n",
              "          try {\n",
              "            const charts = await google.colab.kernel.invokeFunction(\n",
              "                'suggestCharts', [key], {});\n",
              "          } catch (error) {\n",
              "            console.error('Error during call to suggestCharts:', error);\n",
              "          }\n",
              "          quickchartButtonEl.classList.remove('colab-df-spinner');\n",
              "          quickchartButtonEl.classList.add('colab-df-quickchart-complete');\n",
              "        }\n",
              "        (() => {\n",
              "          let quickchartButtonEl =\n",
              "            document.querySelector('#df-ab4e00c8-8cdb-4d53-a7cf-60c47d233966 button');\n",
              "          quickchartButtonEl.style.display =\n",
              "            google.colab.kernel.accessAllowed ? 'block' : 'none';\n",
              "        })();\n",
              "      </script>\n",
              "    </div>\n",
              "\n",
              "    </div>\n",
              "  </div>\n"
            ],
            "application/vnd.google.colaboratory.intrinsic+json": {
              "type": "dataframe",
              "variable_name": "datos",
              "summary": "{\n  \"name\": \"datos\",\n  \"rows\": 394,\n  \"fields\": [\n    {\n      \"column\": \"glicemia\",\n      \"properties\": {\n        \"dtype\": \"number\",\n        \"std\": 12,\n        \"min\": 24,\n        \"max\": 110,\n        \"num_unique_values\": 37,\n        \"samples\": [\n          68,\n          64,\n          60\n        ],\n        \"semantic_type\": \"\",\n        \"description\": \"\"\n      }\n    },\n    {\n      \"column\": \"presion_sanguinea\",\n      \"properties\": {\n        \"dtype\": \"number\",\n        \"std\": 10,\n        \"min\": 7,\n        \"max\": 63,\n        \"num_unique_values\": 48,\n        \"samples\": [\n          51,\n          52,\n          18\n        ],\n        \"semantic_type\": \"\",\n        \"description\": \"\"\n      }\n    },\n    {\n      \"column\": \"grasa_subcutanea_triceps\",\n      \"properties\": {\n        \"dtype\": \"number\",\n        \"std\": 118,\n        \"min\": 14,\n        \"max\": 846,\n        \"num_unique_values\": 185,\n        \"samples\": [\n          240,\n          18,\n          274\n        ],\n        \"semantic_type\": \"\",\n        \"description\": \"\"\n      }\n    },\n    {\n      \"column\": \"insulina\",\n      \"properties\": {\n        \"dtype\": \"number\",\n        \"std\": 7.210160099590896,\n        \"min\": 0.0,\n        \"max\": 67.1,\n        \"num_unique_values\": 195,\n        \"samples\": [\n          42.1,\n          24.0,\n          46.1\n        ],\n        \"semantic_type\": \"\",\n        \"description\": \"\"\n      }\n    },\n    {\n      \"column\": \"imc\",\n      \"properties\": {\n        \"dtype\": \"number\",\n        \"std\": 0.3501269481387728,\n        \"min\": 0.085,\n        \"max\": 2.42,\n        \"num_unique_values\": 332,\n        \"samples\": [\n          0.962,\n          0.251,\n          0.229\n        ],\n        \"semantic_type\": \"\",\n        \"description\": \"\"\n      }\n    },\n    {\n      \"column\": \"diabetes\",\n      \"properties\": {\n        \"dtype\": \"number\",\n        \"std\": 0,\n        \"min\": 0,\n        \"max\": 1,\n        \"num_unique_values\": 2,\n        \"samples\": [\n          1,\n          0\n        ],\n        \"semantic_type\": \"\",\n        \"description\": \"\"\n      }\n    }\n  ]\n}"
            }
          },
          "metadata": {},
          "execution_count": 1
        }
      ]
    },
    {
      "cell_type": "code",
      "source": [
        "X = datos.drop(columns=\"diabetes\", axis=1)\n",
        "y = datos.diabetes"
      ],
      "metadata": {
        "id": "UkHbvg4ulnn7"
      },
      "execution_count": 3,
      "outputs": []
    },
    {
      "cell_type": "code",
      "source": [
        "from sklearn.tree import DecisionTreeClassifier\n",
        "\n",
        "modelo = DecisionTreeClassifier()\n",
        "modelo.fit(X,y)\n",
        "modelo.score(X,y)"
      ],
      "metadata": {
        "colab": {
          "base_uri": "https://localhost:8080/"
        },
        "id": "2zsT4FHJl1a9",
        "outputId": "f6b73cac-64f1-42d3-81b2-48507a738f4f"
      },
      "execution_count": 4,
      "outputs": [
        {
          "output_type": "execute_result",
          "data": {
            "text/plain": [
              "1.0"
            ]
          },
          "metadata": {},
          "execution_count": 4
        }
      ]
    },
    {
      "cell_type": "code",
      "source": [
        "print(f'La exactitud del modelo es: {modelo.score(X,y)}')"
      ],
      "metadata": {
        "colab": {
          "base_uri": "https://localhost:8080/"
        },
        "id": "WLQ2fra5n9CV",
        "outputId": "12625f28-6269-4453-8165-be40e879abcb"
      },
      "execution_count": 5,
      "outputs": [
        {
          "output_type": "stream",
          "name": "stdout",
          "text": [
            "La exactitud del modelo es: 1.0\n"
          ]
        }
      ]
    },
    {
      "cell_type": "markdown",
      "source": [
        "### Validando el modelo"
      ],
      "metadata": {
        "id": "EPrFcm39oAof"
      }
    },
    {
      "cell_type": "markdown",
      "source": [
        "Evaluar el modelo con los mismos datos utilizados en el entrenamiento no es recomendable. Es necesario que la evaluación se realice con datos independientes.  \n",
        "\n",
        "Evaluar el modelo con los propios datos de entrenamiento sería equivalente a entregar un examen con las preguntas y las respuestas a una persona y, al momento de evaluarla nuevamente, entregarle un examen con las mismas preguntas y opciones. Se espera que esa persona obtenga un buen resultado, ya que ya ha visto las respuestas y ha memorizado el resultado. Esto es diferente de haber aprendido la materia a partir de ese examen y luego presentar una prueba con contenido similar y obtener un resultado positivo.  \n",
        "\n",
        "Con el objetivo de verificar la capacidad de generalización de un modelo, debemos dividir el conjunto de datos en tres partes: datos de entrenamiento, validación y prueba.  \n",
        "\n",
        "- El **conjunto de entrenamiento** se utiliza para entrenar los modelos. A partir de este conjunto, los modelos identifican patrones en los datos.  \n",
        "\n",
        "- El **conjunto de validación** se emplea para evaluar el desempeño de diferentes modelos con datos nuevos que no fueron utilizados en el entrenamiento.  \n",
        "\n",
        "- El **conjunto de prueba** se mantiene separado desde el inicio para simular datos del mundo real. No se utiliza en ninguna etapa del entrenamiento ni de la validación, sirviendo como una estimación de la capacidad del modelo elegido para generalizar y predecir nuevos datos."
      ],
      "metadata": {
        "id": "v0u-uij9eNcD"
      }
    },
    {
      "cell_type": "markdown",
      "source": [
        "<a href=\"https://ibb.co/9H2Z1HZ5\"><img src=\"https://i.ibb.co/0yZs6ysb/datos-train-test.png\" alt=\"datos-train-test\" border=\"0\"></a>"
      ],
      "metadata": {
        "id": "TCIN5oOJFk_W"
      }
    },
    {
      "cell_type": "code",
      "source": [
        "from sklearn.model_selection import train_test_split\n",
        "\n",
        "X,x_test,y,y_test = train_test_split(X,y,test_size=0.05,stratify=y,random_state=5)\n",
        "X_train,X_val,y_train,y_val = train_test_split(X,y,stratify=y,random_state=5)"
      ],
      "metadata": {
        "id": "OICJjv9HP1QZ"
      },
      "execution_count": 6,
      "outputs": []
    },
    {
      "cell_type": "code",
      "source": [
        "#sin delimitar el arbol de desicion\n",
        "modelo = DecisionTreeClassifier()\n",
        "modelo.fit(X_train,y_train)\n",
        "print(f'La exactitud del modelo con el conjunto de entrenamiento es de : {modelo.score(X_train,y_train)}')\n",
        "print(f'La exactitud del modelo con el conjunto de validacion es de: {modelo.score(X_val,y_val)}')"
      ],
      "metadata": {
        "id": "mvDcVFFDP1sB",
        "colab": {
          "base_uri": "https://localhost:8080/"
        },
        "outputId": "9c32f2f3-fe65-43c0-c07c-2eb8cf87fefe"
      },
      "execution_count": 7,
      "outputs": [
        {
          "output_type": "stream",
          "name": "stdout",
          "text": [
            "La exactitud del modelo con el conjunto de entrenamiento es de : 1.0\n",
            "La exactitud del modelo con el conjunto de validacion es de: 0.648936170212766\n"
          ]
        }
      ]
    },
    {
      "cell_type": "code",
      "source": [
        "#evaluaremos el modelo proporcioando una profundidad para que no vaya al 1000 y lo aprenda de memoria\n",
        "#la exactitud es un modelo que no dice mucho pues no sabemos con respecto a que es la medicion\n",
        "modelo = DecisionTreeClassifier(max_depth=10)\n",
        "modelo.fit(X_train,y_train)\n",
        "print(f'La exactitud del modelo con el conjunto de entrenamiento es de : {modelo.score(X_train,y_train)}')\n",
        "print(f'La exactitud del modelo con el conjunto de validacion es de: {modelo.score(X_val,y_val)}')"
      ],
      "metadata": {
        "id": "sEJPwwG_P1Md",
        "colab": {
          "base_uri": "https://localhost:8080/"
        },
        "outputId": "327822db-040d-4583-fe9a-f51fd2da0377"
      },
      "execution_count": 8,
      "outputs": [
        {
          "output_type": "stream",
          "name": "stdout",
          "text": [
            "La exactitud del modelo con el conjunto de entrenamiento es de : 0.9642857142857143\n",
            "La exactitud del modelo con el conjunto de validacion es de: 0.648936170212766\n"
          ]
        }
      ]
    },
    {
      "cell_type": "markdown",
      "source": [
        "### Evaluando el modelo"
      ],
      "metadata": {
        "id": "WtlRAZt96VLG"
      }
    },
    {
      "cell_type": "code",
      "source": [
        "from sklearn.metrics import confusion_matrix"
      ],
      "metadata": {
        "id": "IlUZBhPrPyYh"
      },
      "execution_count": 9,
      "outputs": []
    },
    {
      "cell_type": "code",
      "source": [
        "y_previsto = modelo.predict(X_val)\n",
        "matriz_confusion = confusion_matrix(y_val,y_previsto)\n",
        "print(matriz_confusion)"
      ],
      "metadata": {
        "id": "iill3u5HPyOA",
        "colab": {
          "base_uri": "https://localhost:8080/"
        },
        "outputId": "b0a6d885-9e0c-4d33-a043-9c8c700e5ffd"
      },
      "execution_count": 10,
      "outputs": [
        {
          "output_type": "stream",
          "name": "stdout",
          "text": [
            "[[47 16]\n",
            " [17 14]]\n"
          ]
        }
      ]
    },
    {
      "cell_type": "code",
      "source": [
        "from sklearn.metrics import ConfusionMatrixDisplay"
      ],
      "metadata": {
        "id": "gtFWt6emPyJt"
      },
      "execution_count": 11,
      "outputs": []
    },
    {
      "cell_type": "code",
      "source": [
        "visualizacion = ConfusionMatrixDisplay(matriz_confusion)\n",
        "visualizacion.plot();"
      ],
      "metadata": {
        "id": "qg0OgZeqPyGJ",
        "colab": {
          "base_uri": "https://localhost:8080/",
          "height": 449
        },
        "outputId": "75909208-02c5-4cda-98e6-263106fc7b1f"
      },
      "execution_count": 12,
      "outputs": [
        {
          "output_type": "display_data",
          "data": {
            "text/plain": [
              "<Figure size 640x480 with 2 Axes>"
            ],
            "image/png": "[encoded data removed]"
          },
          "metadata": {}
        }
      ]
    },
    {
      "cell_type": "code",
      "source": [
        "visualizacion = ConfusionMatrixDisplay(confusion_matrix = matriz_confusion, display_labels=['Positivo','Negativo'])\n",
        "visualizacion.plot();"
      ],
      "metadata": {
        "colab": {
          "base_uri": "https://localhost:8080/",
          "height": 449
        },
        "id": "X6wgufI6sqpH",
        "outputId": "ca44726d-1d1a-4897-9e8e-ba2233070456"
      },
      "execution_count": 14,
      "outputs": [
        {
          "output_type": "display_data",
          "data": {
            "text/plain": [
              "<Figure size 640x480 with 2 Axes>"
            ],
            "image/png": "[encoded data removed]"
          },
          "metadata": {}
        }
      ]
    },
    {
      "cell_type": "markdown",
      "source": [
        "#**Desafío: construyendo un segundo modelo**\n",
        "Se recomienda utilizar más de un modelo de clasificación en proyectos de machine learning, para que se comparen los resultados y se elija aquel modelo que tenga un mejor desempeño, después de todos los análisis y mejoras.\n",
        "\n",
        "Utilizamos durante la clase el algoritmo de árbol de decisión, pero la biblioteca Scikit-Learn tiene varios otros métodos de clasificación que pueden ser utilizados en nuestro proyecto. Como desafío, utiliza el algoritmo Random Forest para crear un modelo y evaluar el desempeño con la precisión y la matriz de confusión, y compara los resultados con el resultado del árbol de decisión.\n",
        "\n",
        "Como un consejo, revisa la documentación del algoritmo RandomForestClassifier. Explora este material y observa cómo importar la función. Durante este proceso, recuerda verificar los parámetros del método para evitar que el modelo se ajuste demasiado a los datos de entrenamiento."
      ],
      "metadata": {
        "id": "yhfLZj893YQN"
      }
    },
    {
      "cell_type": "markdown",
      "source": [
        "El primer paso es identificar cómo importar el algoritmo Random Forest a partir de la documentación, que siempre trae ejemplos de cómo utilizar la función. La importación se puede hacer con el siguiente código:"
      ],
      "metadata": {
        "id": "9d0STiuo3iij"
      }
    },
    {
      "cell_type": "code",
      "source": [
        "from sklearn.ensemble import RandomForestClassifier\n",
        "from sklearn.tree import DecisionTreeClassifier"
      ],
      "metadata": {
        "id": "BZKXYy9K3VFk"
      },
      "execution_count": 15,
      "outputs": []
    },
    {
      "cell_type": "markdown",
      "source": [
        "Después de la importación de los algoritmos, podemos instanciar los modelos y almacenarlos en variables, aquí se eligieron los valores de max_depth = 3 para el DecisionTree y max_depth = 2 para el RandomForest:"
      ],
      "metadata": {
        "id": "H2yQ42iu3ooq"
      }
    },
    {
      "cell_type": "code",
      "source": [
        "arbol = DecisionTreeClassifier(max_depth = 3)\n",
        "random_forest = RandomForestClassifier(max_depth = 2)"
      ],
      "metadata": {
        "id": "SppKD8kZ3VDD"
      },
      "execution_count": 16,
      "outputs": []
    },
    {
      "cell_type": "markdown",
      "source": [
        "Para hacer el ajuste de los modelos podemos usar el método fit() y para evaluar la tasa de acierto, el método score():"
      ],
      "metadata": {
        "id": "H4HTkSYH4DXF"
      }
    },
    {
      "cell_type": "code",
      "source": [
        "arbol.fit(X_train, y_train)\n",
        "print(f'Precisión de entrenamiento: {arbol.score(X_train, y_train)}')\n",
        "print(f'Precisión de prueba: {arbol.score(X_val, y_val)}')"
      ],
      "metadata": {
        "colab": {
          "base_uri": "https://localhost:8080/"
        },
        "id": "DzB-DHzt7JQ0",
        "outputId": "25391e49-01a6-47af-8c6e-8a4f8282d92e"
      },
      "execution_count": 18,
      "outputs": [
        {
          "output_type": "stream",
          "name": "stdout",
          "text": [
            "Precisión de entrenamiento: 0.7571428571428571\n",
            "Precisión de prueba: 0.776595744680851\n"
          ]
        }
      ]
    },
    {
      "cell_type": "code",
      "source": [
        "random_forest.fit(X_train, y_train)\n",
        "print(f'Precisión de entrenamiento: {random_forest.score(X_train, y_train)}')\n",
        "print(f'Precisión de prueba: {random_forest.score(X_val, y_val)}')"
      ],
      "metadata": {
        "colab": {
          "base_uri": "https://localhost:8080/"
        },
        "id": "tqw_dknM7JHG",
        "outputId": "35725553-2880-4ec7-dfba-31abbd4d4a74"
      },
      "execution_count": 19,
      "outputs": [
        {
          "output_type": "stream",
          "name": "stdout",
          "text": [
            "Precisión de entrenamiento: 0.725\n",
            "Precisión de prueba: 0.7021276595744681\n"
          ]
        }
      ]
    },
    {
      "cell_type": "markdown",
      "source": [
        " Para generar la matriz de confusión, primero es necesario importar la función ConfusionMatrixDisplay, usando el código:"
      ],
      "metadata": {
        "id": "fscc20Fm7urM"
      }
    },
    {
      "cell_type": "code",
      "source": [
        "from sklearn.metrics import ConfusionMatrixDisplay"
      ],
      "metadata": {
        "id": "RT_-zaRy4ISJ"
      },
      "execution_count": 20,
      "outputs": []
    },
    {
      "cell_type": "markdown",
      "source": [
        "Hecho esto, basta con utilizar el método predict() para hacer la predicción de datos con los modelos y luego utilizar los valores reales y previstos en el método from_predictions() de la matriz de confusión:"
      ],
      "metadata": {
        "id": "avVFJXSQ4TIa"
      }
    },
    {
      "cell_type": "code",
      "source": [
        "prediccion_arbol = arbol.predict(X_val)\n",
        "ConfusionMatrixDisplay.from_predictions(y_val, prediccion_arbol);"
      ],
      "metadata": {
        "colab": {
          "base_uri": "https://localhost:8080/",
          "height": 449
        },
        "id": "mQjDBi9d73j6",
        "outputId": "1be7f0df-4b17-4f45-d883-af6d492ba53e"
      },
      "execution_count": 22,
      "outputs": [
        {
          "output_type": "display_data",
          "data": {
            "text/plain": [
              "<Figure size 640x480 with 2 Axes>"
            ],
            "image/png": "[encoded data removed]"
          },
          "metadata": {}
        }
      ]
    },
    {
      "cell_type": "code",
      "source": [
        "prediccion_rf = random_forest.predict(X_val)\n",
        "ConfusionMatrixDisplay.from_predictions(y_val, prediccion_rf);"
      ],
      "metadata": {
        "colab": {
          "base_uri": "https://localhost:8080/",
          "height": 449
        },
        "id": "mhh3tk5w783-",
        "outputId": "16575514-13c1-4ae4-ef54-4dd4a2a10980"
      },
      "execution_count": 24,
      "outputs": [
        {
          "output_type": "display_data",
          "data": {
            "text/plain": [
              "<Figure size 640x480 with 2 Axes>"
            ],
            "image/png": "[encoded data removed]"
          },
          "metadata": {}
        }
      ]
    },
    {
      "cell_type": "markdown",
      "source": [
        "## <font color='dark'>Métricas de evaluación</h1>"
      ],
      "metadata": {
        "id": "tPogL-24ntSH"
      }
    },
    {
      "cell_type": "markdown",
      "source": [
        "### Exactitud, precisión y recall (sensibilidad)."
      ],
      "metadata": {
        "id": "nP1WfyyR6XMl"
      }
    },
    {
      "cell_type": "markdown",
      "source": [
        "<a href=\"https://ibb.co/351SbY7t\"><img src=\"https://i.ibb.co/wZypqrRD/matriz-confusion.png\" alt=\"matriz-confusion\" border=\"0\"></a>"
      ],
      "metadata": {
        "id": "oE8N0NqoH6hy"
      }
    },
    {
      "cell_type": "markdown",
      "source": [
        "<a href=\"https://imgbb.com/\"><img src=\"https://i.ibb.co/6Jp6rKyC/Captura-de-tela-2025-03-22-120744.png\" alt=\"Captura-de-tela-2025-03-22-120744\" border=\"0\"></a>"
      ],
      "metadata": {
        "id": "k0ldCSgoZiPX"
      }
    },
    {
      "cell_type": "code",
      "source": [],
      "metadata": {
        "id": "IIEaf2fmPmq1"
      },
      "execution_count": null,
      "outputs": []
    },
    {
      "cell_type": "code",
      "source": [],
      "metadata": {
        "id": "QnGxEIrWPmbx"
      },
      "execution_count": null,
      "outputs": []
    },
    {
      "cell_type": "code",
      "source": [],
      "metadata": {
        "id": "7C7NoVZnPmX1"
      },
      "execution_count": null,
      "outputs": []
    },
    {
      "cell_type": "code",
      "source": [],
      "metadata": {
        "id": "u2SqICFJPmU-"
      },
      "execution_count": null,
      "outputs": []
    },
    {
      "cell_type": "markdown",
      "source": [
        "### Curva ROC"
      ],
      "metadata": {
        "id": "I8ELhexg2jNx"
      }
    },
    {
      "cell_type": "code",
      "source": [
        "from IPython.display import Image\n",
        "Image(url='https://raw.githubusercontent.com/dariyasydykova/open_projects/master/ROC_animation/animations/cutoff.gif')"
      ],
      "metadata": {
        "colab": {
          "base_uri": "https://localhost:8080/",
          "height": 420
        },
        "id": "PhUNE4Xm4MII",
        "outputId": "af2368d8-847d-459b-b11a-c079a4d4c433"
      },
      "execution_count": null,
      "outputs": [
        {
          "output_type": "execute_result",
          "data": {
            "text/html": [
              "<img src=\"https://raw.githubusercontent.com/dariyasydykova/open_projects/master/ROC_animation/animations/cutoff.gif\"/>"
            ],
            "text/plain": [
              "<IPython.core.display.Image object>"
            ]
          },
          "metadata": {},
          "execution_count": 20
        }
      ]
    },
    {
      "cell_type": "markdown",
      "source": [
        "Fuente: [paulvanderlaken.com](https://paulvanderlaken.com/2019/08/16/roc-auc-precision-and-recall-visually-explained/)\n",
        "\n",
        "\n"
      ],
      "metadata": {
        "id": "XK8_7Ruy32BT"
      }
    },
    {
      "cell_type": "code",
      "source": [],
      "metadata": {
        "id": "FHc-8FjePhM6"
      },
      "execution_count": null,
      "outputs": []
    },
    {
      "cell_type": "code",
      "source": [],
      "metadata": {
        "id": "V6Ua2rY3PhFt"
      },
      "execution_count": null,
      "outputs": []
    },
    {
      "cell_type": "code",
      "source": [],
      "metadata": {
        "id": "LJE-yyWMPg8R"
      },
      "execution_count": null,
      "outputs": []
    },
    {
      "cell_type": "code",
      "source": [],
      "metadata": {
        "id": "7mtvjPHsPi1o"
      },
      "execution_count": null,
      "outputs": []
    },
    {
      "cell_type": "markdown",
      "source": [
        "### Curva de  precisión x sensibilidad"
      ],
      "metadata": {
        "id": "IztSEZfh7QFe"
      }
    },
    {
      "cell_type": "code",
      "source": [
        "Image(url='https://paulvanderlaken.com/wp-content/uploads/2019/08/roc.gif')"
      ],
      "metadata": {
        "colab": {
          "base_uri": "https://localhost:8080/",
          "height": 420
        },
        "id": "EJzfjuxa3fxD",
        "outputId": "924ea149-4438-48f7-cec5-e2ebd55c5fc8"
      },
      "execution_count": null,
      "outputs": [
        {
          "output_type": "execute_result",
          "data": {
            "text/html": [
              "<img src=\"https://paulvanderlaken.com/wp-content/uploads/2019/08/roc.gif\"/>"
            ],
            "text/plain": [
              "<IPython.core.display.Image object>"
            ]
          },
          "metadata": {},
          "execution_count": 25
        }
      ]
    },
    {
      "cell_type": "markdown",
      "source": [
        "Fuente: [paulvanderlaken.com](https://paulvanderlaken.com/2019/08/16/roc-auc-precision-and-recall-visually-explained/)\n"
      ],
      "metadata": {
        "id": "bUoGCSUB4msC"
      }
    },
    {
      "cell_type": "code",
      "source": [],
      "metadata": {
        "id": "7t20ira6Pcds"
      },
      "execution_count": null,
      "outputs": []
    },
    {
      "cell_type": "code",
      "source": [],
      "metadata": {
        "id": "Drs3Z6RTPcTc"
      },
      "execution_count": null,
      "outputs": []
    },
    {
      "cell_type": "code",
      "source": [],
      "metadata": {
        "id": "DmhO5H5cPcOp"
      },
      "execution_count": null,
      "outputs": []
    },
    {
      "cell_type": "code",
      "source": [],
      "metadata": {
        "id": "SS08sHDkPeaG"
      },
      "execution_count": null,
      "outputs": []
    },
    {
      "cell_type": "markdown",
      "source": [
        "### Informe de métricas"
      ],
      "metadata": {
        "id": "Bm2E6GEJDJLH"
      }
    },
    {
      "cell_type": "code",
      "source": [],
      "metadata": {
        "id": "C85qunYhPZTJ"
      },
      "execution_count": null,
      "outputs": []
    },
    {
      "cell_type": "code",
      "source": [],
      "metadata": {
        "id": "pnN6QRlYPZQR"
      },
      "execution_count": null,
      "outputs": []
    },
    {
      "cell_type": "markdown",
      "source": [
        "## <font color='dark'> Validación cruzada</h1>"
      ],
      "metadata": {
        "id": "SuxCy_oZZQxE"
      }
    },
    {
      "cell_type": "markdown",
      "source": [
        "### Usando KFold"
      ],
      "metadata": {
        "id": "17q2T0iRnzSg"
      }
    },
    {
      "cell_type": "markdown",
      "source": [
        "La validación del modelo de clasificación a partir de la separación de los datos en conjuntos de entrenamiento y validación hace que el resultado dependa en gran medida de esta división. Puede suceder que, de forma aleatoria, el patrón de los datos de validación sea diferente al de los datos de entrenamiento, lo que podría llevar a obtener un resultado mucho mejor o mucho peor que la realidad simplemente por suerte o mala suerte.  \n",
        "\n",
        "Teniendo esto en cuenta, es posible utilizar la **validación cruzada**, una estrategia más consistente y ampliamente utilizada en proyectos de *machine learning*.  \n",
        "\n",
        "En la validación cruzada, en lugar de separar los datos en entrenamiento y validación una sola vez, se dividen en varias partes de igual tamaño. En cada una de estas divisiones, se usa una parte para validación y todas las demás para entrenamiento. Este proceso se repite hasta que todas las partes hayan sido utilizadas tanto para validación como para entrenamiento.  \n",
        "\n",
        "Se generará un modelo para cada una de estas divisiones y la evaluación del desempeño se realizará promediando la métrica de cada modelo. Esto elimina la dependencia de la separación de los datos, ya que hay una mayor variación en la selección de los mismos y se obtiene un valor medio.  \n",
        "\n",
        "Generalmente, se utilizan 5 o 10 partes. Un número mayor no suele ser necesario, ya que implica un procesamiento más costoso, y valores menores ya ayudan a mitigar el problema de la selección de los datos."
      ],
      "metadata": {
        "id": "zjfYnDWJ6C2A"
      }
    },
    {
      "cell_type": "markdown",
      "source": [
        "<a href=\"https://ibb.co/KcBtshJR\"><img src=\"https://i.ibb.co/nq4X1mFZ/train-y-validacion.png\" alt=\"train-y-validacion\" border=\"0\"></a>"
      ],
      "metadata": {
        "id": "oSboV-QNMG__"
      }
    },
    {
      "cell_type": "code",
      "source": [],
      "metadata": {
        "id": "TU8HYdzmPI7P"
      },
      "execution_count": null,
      "outputs": []
    },
    {
      "cell_type": "code",
      "source": [],
      "metadata": {
        "id": "McSadnzDPI4G"
      },
      "execution_count": null,
      "outputs": []
    },
    {
      "cell_type": "code",
      "source": [],
      "metadata": {
        "id": "o5oZ8-lhPIy_"
      },
      "execution_count": null,
      "outputs": []
    },
    {
      "cell_type": "markdown",
      "source": [
        "### Validación cruzada con sensibilidad"
      ],
      "metadata": {
        "id": "GAHrtLM2OCjO"
      }
    },
    {
      "cell_type": "code",
      "source": [],
      "metadata": {
        "id": "Ywfsoe3_PLYZ"
      },
      "execution_count": null,
      "outputs": []
    },
    {
      "cell_type": "code",
      "source": [],
      "metadata": {
        "id": "PV3m-6IxPLMf"
      },
      "execution_count": null,
      "outputs": []
    },
    {
      "cell_type": "code",
      "source": [],
      "metadata": {
        "id": "Y-gpgU7pPLJv"
      },
      "execution_count": null,
      "outputs": []
    },
    {
      "cell_type": "markdown",
      "source": [
        "### Estratificando los datos"
      ],
      "metadata": {
        "id": "-FAOYtNen4qJ"
      }
    },
    {
      "cell_type": "code",
      "source": [],
      "metadata": {
        "id": "G6bPA6vaPN1A"
      },
      "execution_count": null,
      "outputs": []
    },
    {
      "cell_type": "code",
      "source": [],
      "metadata": {
        "id": "HONIpY1BPNzd"
      },
      "execution_count": null,
      "outputs": []
    },
    {
      "cell_type": "code",
      "source": [],
      "metadata": {
        "id": "jCFRBhd_PNxT"
      },
      "execution_count": null,
      "outputs": []
    },
    {
      "cell_type": "markdown",
      "source": [
        "## <font color='dark'>Balanceo de los datos</h1>"
      ],
      "metadata": {
        "id": "yaVwNb1kn8sX"
      }
    },
    {
      "cell_type": "markdown",
      "source": [
        "### Oversampling"
      ],
      "metadata": {
        "id": "4eYKxWJd6g6w"
      }
    },
    {
      "cell_type": "markdown",
      "source": [
        "https://imbalanced-learn.org/stable/references/generated/imblearn.over_sampling.SMOTE.html#id1"
      ],
      "metadata": {
        "id": "N0MJ7hGUmL4l"
      }
    },
    {
      "cell_type": "code",
      "source": [],
      "metadata": {
        "id": "cO0Dx5xAO4B5"
      },
      "execution_count": null,
      "outputs": []
    },
    {
      "cell_type": "code",
      "source": [],
      "metadata": {
        "id": "h6DQqcttO3_c"
      },
      "execution_count": null,
      "outputs": []
    },
    {
      "cell_type": "code",
      "source": [],
      "metadata": {
        "id": "7Lp4GoMRO355"
      },
      "execution_count": null,
      "outputs": []
    },
    {
      "cell_type": "markdown",
      "source": [
        "### Pipeline para validación"
      ],
      "metadata": {
        "id": "fHSNXznm6ia-"
      }
    },
    {
      "cell_type": "code",
      "source": [],
      "metadata": {
        "id": "DaoAbR84O44S"
      },
      "execution_count": null,
      "outputs": []
    },
    {
      "cell_type": "code",
      "source": [],
      "metadata": {
        "id": "7UezUduWO41c"
      },
      "execution_count": null,
      "outputs": []
    },
    {
      "cell_type": "code",
      "source": [],
      "metadata": {
        "id": "b7Z-pe6wO4yN"
      },
      "execution_count": null,
      "outputs": []
    },
    {
      "cell_type": "markdown",
      "source": [
        "### Undersampling"
      ],
      "metadata": {
        "id": "66PlvwjX6kFv"
      }
    },
    {
      "cell_type": "markdown",
      "source": [
        "https://imbalanced-learn.org/stable/references/generated/imblearn.under_sampling.NearMiss.html"
      ],
      "metadata": {
        "id": "Fh6VZN5Fx7wl"
      }
    },
    {
      "cell_type": "code",
      "source": [],
      "metadata": {
        "id": "lUn59uqAO63N"
      },
      "execution_count": null,
      "outputs": []
    },
    {
      "cell_type": "code",
      "source": [],
      "metadata": {
        "id": "pOUKHwqRO6zb"
      },
      "execution_count": null,
      "outputs": []
    },
    {
      "cell_type": "code",
      "source": [],
      "metadata": {
        "id": "ykn9H4kFO6so"
      },
      "execution_count": null,
      "outputs": []
    },
    {
      "cell_type": "markdown",
      "source": [
        "### Probando el modelo"
      ],
      "metadata": {
        "id": "EP-44U0eHt-a"
      }
    },
    {
      "cell_type": "code",
      "source": [],
      "metadata": {
        "id": "XWhZlwOTO8eN"
      },
      "execution_count": null,
      "outputs": []
    },
    {
      "cell_type": "code",
      "source": [],
      "metadata": {
        "id": "gZHVqM6hO8bt"
      },
      "execution_count": null,
      "outputs": []
    },
    {
      "cell_type": "code",
      "source": [],
      "metadata": {
        "id": "QSrpOQpxO8WT"
      },
      "execution_count": null,
      "outputs": []
    },
    {
      "cell_type": "markdown",
      "source": [
        "#**Para Saber Mas:**"
      ],
      "metadata": {
        "id": "vSJdkYG_qLI6"
      }
    },
    {
      "cell_type": "markdown",
      "source": [
        "#**Utilidad del método score()**"
      ],
      "metadata": {
        "id": "MGwY3Y3-m7uV"
      }
    },
    {
      "cell_type": "markdown",
      "source": [
        "Durante la construcción de un modelo para clasificar transacciones bancarias como legítimas o fraudulentas, una persona científica de datos utilizó la biblioteca Scikit-Learn, que ofrece diversos algoritmos de machine learning que pueden ser utilizados para la clasificación de datos. En cada uno de estos algoritmos, el método fit() se utiliza para entrenar un modelo a partir de las variables explicativas y la variable respuesta.\n",
        "\n",
        "Sin embargo, después del entrenamiento del modelo, se realiza un paso más mediante el uso del método score(). Seleccione la alternativa que describe de manera adecuada la finalidad de usar el score() en este contexto:"
      ],
      "metadata": {
        "id": "XU4kAMejnBPt"
      }
    },
    {
      "cell_type": "markdown",
      "source": [
        "##**R:**\n",
        "Se utiliza para evaluar el desempeño del modelo ajustado.  \n",
        "El método score() tiene la finalidad de comparar las predicciones realizadas por el modelo con los valores reales de los datos y calcula una tasa de acierto en porcentaje llamada exactitud."
      ],
      "metadata": {
        "id": "veMN8r26nSNu"
      }
    },
    {
      "cell_type": "markdown",
      "source": [
        "#**Para saber más: método holdout**"
      ],
      "metadata": {
        "id": "DlOEe27CqXDq"
      }
    },
    {
      "cell_type": "markdown",
      "source": [
        "En el momento de validar modelos de clasificación, necesitamos verificar si el modelo está realmente generalizando, es decir, si está comprendiendo el patrón de los datos y clasificando correctamente datos nuevos. La estrategia más simple para evaluar esta generalización, conocida como holdout, consiste en dividir los datos en dos partes: un conjunto de datos de entrenamiento y otro de prueba. El conjunto de entrenamiento se utiliza para entrenar el modelo, mientras que el conjunto de prueba se usa para evaluar el rendimiento del modelo en datos no vistos anteriormente.\n",
        "\n",
        "Con la ayuda de la imagen a continuación, analiza la ejemplificación del método holdout en funcionamiento:"
      ],
      "metadata": {
        "id": "Cw4Wf5ixqaQv"
      }
    },
    {
      "cell_type": "markdown",
      "source": [
        "![0111.png](data:image/png;base64,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)"
      ],
      "metadata": {
        "id": "6Ya6WBs7qisI"
      }
    },
    {
      "cell_type": "markdown",
      "source": [
        "En algunos casos, especialmente cuando se realizan ajustes finos en los parámetros del modelo, es útil tener un conjunto de validación adicional. En este caso, la división se hace en tres partes: conjunto de entrenamiento, conjunto de validación y conjunto de prueba. El conjunto de validación se utiliza en la comparación de diferentes modelos, en la selección del modelo más adecuado y en el ajuste de los hiperparámetros. Mientras tanto, el conjunto de prueba sigue utilizándose para evaluar el rendimiento final del modelo elegido, después de todo el proceso de ajuste.\n",
        "\n",
        "Por eso, cuanto más se utilizan los mismos datos para tomar decisiones sobre configuraciones de mejoras en el modelo o elección de hiperparámetros, más comprometida se vuelve la confiabilidad de esos resultados al ser generalizados para datos nuevos y no vistos. Esto ocurre porque las mejoras se hacen a partir de esos datos de validación.\n",
        "\n",
        "Es posible percibir que las mejoras aplicadas desempeñan un papel fundamental para resolver el problema. Sin embargo, para asegurar que el rendimiento del modelo permanezca consistente en relación a los datos del mundo real, que no fueron vistos en el entrenamiento o en la mejora de los modelos, la estrategia de la división entre 3 conjuntos de datos, como se puede analizar en la imagen siguiente, ofrece una buena dirección final, ya que indica si el modelo elegido está sesgado o no en relación a los datos de validación."
      ],
      "metadata": {
        "id": "B-n6Sd42qm4Q"
      }
    },
    {
      "cell_type": "markdown",
      "source": [
        "![0111.png](data:image/png;base64,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)"
      ],
      "metadata": {
        "id": "kXIKBnx1qvYb"
      }
    },
    {
      "cell_type": "markdown",
      "source": [
        "#**Para saber más: entendiendo la matriz de confusión**"
      ],
      "metadata": {
        "id": "aW02YvhFtngi"
      }
    },
    {
      "cell_type": "markdown",
      "source": [
        "Para obtener una evaluación más completa del desempeño de modelos de clasificación, podemos utilizar una herramienta conocida como matriz de confusión. Esta matriz ofrece ventajas a la persona científica de datos, ya que permite entender cuántos errores y aciertos tiene las predicciones de un modelo. En lugar de una tasa de acierto general, la matriz es capaz de proporcionar información en una visualización para cada una de las categorías de la variable objetivo.\n",
        "\n",
        "Piensa en un sistema de seguridad de un edificio que utiliza cámaras para identificar personas que entran. La \"matriz de confusión\" se vuelve valiosa, ya que permite verificar cuántas veces el sistema acertó al identificar correctamente a las personas autorizadas, cuántas veces acusó erróneamente a personas y cuántas veces dejó pasar a personas no autorizadas. Con estos números, es posible ajustar el sistema para minimizar falsos positivos y negativos, mejorando su precisión en la detección de visitantes.\n",
        "\n",
        "En la representación general de una matriz de confusión, para más detalles analiza la imagen a continuación, las filas de la matriz corresponden a los valores reales de la base de datos, mientras que las columnas corresponden a los valores previstos por el modelo de clasificación. Las categorías de la variable objetivo están representadas por el valor 0 (ausencia del atributo), también llamado negativo, y por el valor 1 (presencia del atributo), también llamado positivo."
      ],
      "metadata": {
        "id": "TW574ZjDttNE"
      }
    },
    {
      "cell_type": "markdown",
      "source": [
        "![0111.png](data:image/png;base64,iVBORw0KGgoAAAANSUhEUgAAAtkAAAI7CAYAAAA5wYcXAAAAAXNSR0IArs4c6QAAAARnQU1BAACxjwv8YQUAAAAJcEhZcwAAEnQAABJ0Ad5mH3gAAP+lSURBVHhe7P15jCTZneD5fd8zv6/wuK+MjLzvo7Luk1Usskj2QbK7RzO7nG3sNGZHgoQVpD/UfwkQtqEWBGgEQQdWq10IC4wEDiT1bHeT3exmdw/JKrIO1pl3ZmRGRMYd7hEeft9ux3v6wzwyIyMzq7Kyoo6sfB/AqiIjzM2fm7uZ/+zZ7/2e0KAxDMMwDMMwDGPHyO2/MAzDMAzDMAzjsxGbPdn9fX2sra1t/7thGIZhGIZhGPcpGAqB6ck2DMMwDMMwjJ1ngmzDMAzDMAzD2GEmyDYMwzAMwzCMHWaCbMMwDMMwDMPYYSbINgzDMAzDMIwdZoJswzAMwzAMw9hhJsg2DMMwDMMwjB1mgmzDMAzDMAzD2GEmyDYMwzAMwzCMHWaCbMMwDMMwDMPYYSbINgzDMAzDMIwdZoJswzAMwzAMw9hhJsg2DMMwDMMwjB1mgmzDMAzDMAzD2GEmyDYMwzAMwzCMHSY0aID+vj7W1ta2/93YYUoparUajUYDIQThcBgpH91rHcdxcBwHgGAwSDAY3L6KYRiPCK01tm3jui6WZREKhR7p86NhfNmUUti2jed5xONxkskklmVtX83YJhgKgQmyv3jNZpMLFy5w+fJlLMuir6+PUPfNeBTVajVKpRJaa3p7e0mlUttXMQzjEeF5HsVikXq9TjQafeTPj4bxZbNtm1KphG3bHDt2jDNnzhCPxxFCbF/V2MIE2V+ScrnMT37yE/7iL/6CtbU1QqEQgUDgkf3ANptNms0GoInGI4TD4e2rGIbxiNBK06g3sW2HUChEPBYnEAhsX80wjC+I67o4rsvo8DD/7J//c374wx/S29v7yMYs98sE2V+SUqnE3/zN3/DjH/+YcrnM4cOHGRgYeGQ/sFeuXOHq9FlEtMrI7jCJtEkXMYxHld3xWJ1t4VVi7Bnay/5du4lHIo/s+dEwvmz5UomZ5WV6hob4k3/9r/n+979POp02x+QnMEH2l6RarfKLX/yCn/zkJwSDQf7oj/6Iw4cPP7If2L/+67/mp//w/8bqW+XYs3GGJqPbVzEM4xHRqDic+2UFd2WAF4+8yDefeIaB/n7kI3p+NIwv2/T8PD/99a9pBYP88X/+n/PNb36TZDL5yMYs98sE2V+SWq3G66+/zt/93d8Rj8f5V//qX3Hy5MlH9gP74x//mH//V/93Av0LnP5mirF9Jsg2jEdVreTw3s9KOPNDvHb62/zOC68w8gjf6TOML9vl2Vn+/c9/TkVrfvTHf8yLL75oguz7sBlkm2HbX4LND6cQ4ubIeSHEI7vc2jEgzGIWszy6y23nAun/+y7nDLOYxSxf0HLrG9o/NMX23xgfxwTZhmEYhmEYhrHDTJBtGIZhGIZhGDvMBNmGYRiGYRiGscNMkG0YhmEYhmEYO8wE2YZhGIZhGIaxw0yQbRiGYRiGYRg7zATZhmEYhmEYhrHDTJBtGIZhGIZhGDvMBNmGYRiGYRiGscNMkG0YhmEYhmEYO8wE2YZhGIZhGIaxw0yQbRiGYRiGYRg7zATZhmEYhmEYhrHDTJBtGIZhGIZhGDvMBNmGYRiGYRiGscNMkG0YhmEYhmEYO8wE2YZhGIZhGIaxw0yQbRiGYRiGYRg7zATZhmEYhmEYhrHDTJBtGIZhGIZhGDvMBNmGYRiGYRiGscNMkG0YhmEYhmEYO8wE2YZhGIZhGIaxw0yQbRiGYRiGYRg7zATZhmEYhmEYhrHDTJBtGIZhGIZhGDvMBNmGYRiGYRiGscNMkG0YhmEYhmEYO8wE2YZhGIZhGIaxw0yQbRiGYRiGYRg7zATZhmEYhmEYhrHDTJBtGIZhGIZhGDvMBNmGYRiGYRiGscNMkG0YhmEYhmEYO8wE2YZhGIZhGIaxw0yQbRiGYRiGYRg7zATZhmEYhmEYhrHDTJBtGIZhGIZhGDvMBNmGYRiGYRiGscNMkG0YhmEYhmEYO8wE2YZhGIZhGIaxw0yQbRiGYRiGYRg7zATZhmEYhmEYhrHDTJBtGIZhGIZhGDvMBNmGYRiGYRiGscNMkG0YhvFF09t/YRiGYXzdmCDbMAzjiya2/8IwDMP4ujFBtmEYhmEYhmHsMBNkG4ZhGIZhGMYOM0G2YRiGYRiGYewwE2QbhmEYhmEYxg4zQbZhGD69bfmyfdXaYxiPKK31JyzbH2EYBibINgw/gNMatNqyfMKXxqdd/6tO2+A0JO2GpN0Exwaltq/1BdF+e9zWrfbYX3B7tAJlg2dLlDIxvvFF0WitUMpfvPtclNaf02dU4zk27WaLeqNB7Y6lSa3Zoe14qM+nAYbxUDNBtvFo06AccBvQKksaJUmjJmm3Piaoc8FtSJrd9ZtVf33P3b7iQ0JBKyfZuCBZ+lCyeN4itypptPhSvjhVR9LesNi4Jpn/ULJ4yWI9I2k0P+Y92UHaAa8psZsSUKbanvEF0Xi2TbNeo1ypsFG836VKqdak6Si87Zv8TDTQoZpf5drVS7zz0Vl+9eFHty9nz/Prqwtcy9WoOYov4PA0jIeKCbKNR5rW4LUljYzF+rRk5bJkZUqQz0ranbv0YGrQLUllWZCdkqxekWSmBaWCpO1+OUHpZ6VdSXNFsvKW5PobFtfetliZl9RaEu9LeD3KhmZGkjlrMfWGxbV3LJYWBLX6FxBkawCJDClCMYUVBCFNWWvj86e1S7tZIrM0y4Wrl3j3ykXevfxJyyXevTzF+bkM2aZDZ0fvuiigRX5tjrPvv8PP3nid/+H1Lcsbr/M//OYt/vqDKc6uFinbzpdyvjCMrzITZBuPNgW6KWhlLBbet7j2lsXUmxbzVwTVuh9kbv3e0J7EzUnWLlrMvmMx9bZk9pwknxO4mzHaQ0ZrcFoCuyxplgTNiqDdBM/z0ya+cArcNnSqgnpJ0KgI2i3ht+fz3sECREAhQyBD9zlpzOfdpm3up0nGw0ajlUOjnGV26kNef/dNfvrmb/jrT1ze5K/ffJ9fXZxnrtqhtePHiEJrhet5eJ6H57m4Todmq0a+XGK9WCZXqVNtuzifW8qKYTy8TJBtPNIEYAXBCmicuqC+IahlBdV1Sa0Bna33XzVoD1oFSS0nqOYFtZqgBciQJihBPuQRkOoG3V8J3Xbobs78F+bTvoefdv3P6IvcFcYXSeG5beq1EhvFDTIb97sUWKvUqTsad0c/HBJIMDJxnJdf/Q7/2fd/wP/4Bz/g33zrWb5zZJi+aPCLPS4N4yFkgmzj0WaBiGrC/ZpUTBORIDyB0xDUKgKnsy3A86C6Bq2K37NqhTXRAU08pQgFPiHe0luWnfZpt/tp1/84O7GtndjGpp3c1v34Ip/L+NrT+LfPhBUg0TvKoce+ye9/45v80Svf5J/dsbzCP3vlOb57ej8He0LErI8/B91WEWT7H+8ggDCJvmH2HzjM4ydO8OyJYzxzeA9HhnuIhALbH/Cpfbr23NvWKidfhe0YxiYTZBuPNgEipAimNL39mkjE/53TgXoJOq0tQZQnUW1BpSBoNPzgOxSFVJ8mlrz7waQ1KBe8Nth1aJagWQe77Q+U/MSeoM3Hd/xteB3/35tVTbxOd7tVaNS4OQDzrtvtVsxwmtCqbWlHtzrKfWeGaNCbr6kGzQo0KtBq+Pvtns+/zWYFj+3tce7z8Td1K70ox99Wu+bvj1YdPOfW6/vcfFxUYxgPKBAIkOwb5vDpF/nucy/y/Rde5Ad3LC/wgxee4uWT+9mbDBOT2z+PGq0UnuPQajeo1asUKxXy1TrVZpu27eEq9bFjSaSUBMIhIuEwkXCISDhEKGghxQN88LX2q6Y4Nu12g1qtSr5cIV+pU2m2adlOtz0f0yDwX5dWeJ6H3WpQq9UoVqoUa3Vq7Q5tT+Gp+wjctUYpB8fp0Gw2qNSq5IsV8rUa1Vab1pb984nbMoy7uFtcYBiPFguCUU3PCEQS/kHhtASNgqDTknjqVmDpVgS1Gv6gSKEJxjXJXk00Brd953TL0HVKkuqqxca8RfZagMxUgOy0xfq8RX5VUquA49z7BK4caBcllaVbj6nXoV2XNHIWhUWL9Wl/u5lpi40VSa26rdJJt+122aKyapGbDbB2vduOBYtiTtBqcV+DlpQNdlVSzVrkFyzWpy0yVwNkrgVYm/G3V1r32+jeq9pKd984VXmzPZlrATLXLdYWLEobgkZT4N5P1K/Ba0maGxbFJYvcrEX2eoDV6wEys7fa02zcvfpLedpi9aq/5JYlm6vojv++Za/5f8vMy7tWbtAONNYtcjMWme52MlMWa3OSatkP8D+W9vdDaeHWc21uY/2GRWlDYtvbH2Q8GiSBUJienn6G+/sZGehnZPBuSx+DPXHiQYkltsTY2sPrtKiW1lleXWRqbpZz16/xwdQU71+b5uzMPFcWV5lbL1Fq2Tj3CiSFQAiBkAIpBBKBEJ8+dNDKw+nUKeezzC0vMXVjhvPTU3x4dYoPr13n3Mwcl5dWuLFWYL3RwVb67hf+WuHZLeqVDZaWFrg6P8v569f4cOoaH16b5tzcIlPL62QrTRq2usd5zc+Bt1tV8rk15pbmuTI7zdmpa3w4NcVH16Y5f2OBq0urzOVKFJo2zv0E7Yaxjdg8rvr7+lhbW9v+d2OH1Wo13njjDX72s5+RSCT4kz/5E44fP46Un/6k9XXw4x//mB//5X9NoH+B06+mGN8X3b7K50+DakqacxYX35AszwmcsCaxR3HkFY+J/YqoBdQljRmL939psZ4FFdf0H/E49JxiYq8itPkWaj/4ahctCguC3IKgUhbYLYHyNATAimjCaU3fXs3wPo/eXgjcJd3EqUqKVyWr1yXFOkT6FYOHNXHLr8CxsSxotASeA4Q00V2K0WOKXROKWNTfnnbBrVnkpyWZeUGlBHYHtIBADGLDQBFqVyVFG4hrxp/z2Pe0YrjfT4PxGwPtskVpSbAxJygWBLbtP7dGI0NghTSxYU3/Ps3wLo9UGqztH23HD/jz84LsrOy2R6ClxoprQjEI24JaVrK2DlaPZvgZj8OPuYwMQTDY3Y72S+3Vs4KNWUkuK2g2wHUESoMMagJBiI0rBg8ohnYpEvGt7bH44L8KMlPze//SBzye+S8cklWLtcuSufOSjVWB40HgiMMf/k88Np8aBY2sxcasJDMlya0IOk3w8KuRBNOavn2K0YOKscMeqdSd761qSkrzktXLksycpFb2L7gAhAXhhCYxrhjcoxk6qBgeVwQ++x36r7Ra0eHdn5VwFob4zunv8DvPf4PhwcEH6zV9qGiU12B9/hJvvvkGr8+ss+JGGN53ipe/+y/5wTgkg59izIfycDsNqqV1ZmanOL+SY7XcotGx6XighSQYihCLphkc2c2pwwc4Pt5HfzRIYGugvp1y8Ao3eP/8O/z3b8+wUIHI0DG+9fwzfP/x3exORAjd5cFaezjtGsX1Fa7fmOHCap71Wou269JxQQhBIBgmEk3RNzDKwQMHObNnhKFokIgltlw4KFy7SbWYYW7pBh9OZ8nUGjTaDrbSIAMEIjHiPaMcO3CI03tG2dUbJxmSt/UoauXgtCusr8xz+cY819dL5Oodmo6LpzRCBrCCIeLxNEPDExzdv59j4/0MxoKE7vtN+Hq4PDPDj3/+cypa86M//mNeeuklEokE4mt/TH42wVAIAOvP4M8A/m00yp/+6Z9uX8/YYbZts7CwwPT0NKFQiMcee4yhoaFH9gN78eJFLk69j4yVGdkbJtV7M4z54gj/JC+EoDIvqRUEtusPiEzu0iQHNCEJXk1QvWGxuihotiHYp0nvVYxOQiqpb34RaBecosXqJYuFs5LsvKS0JqiVBM2qoFkW1IuSRlHQqIG2BNF+TfguX6JOTVKZtvxSgavdQM6RVFYl6zOSjSVJtditwFET6KgmOaZJ92pCQRAeuBWL6jWL6Y8sVm8ISut+1Y5mWfhtKEGjLOi0BK4GEYLUhKZ3XJOI6ZtBqVeyyF+XLF6wWJmWFDKCWtGvRtKs+Nuq5yX1kqBjgw4LoklNJLzlBbmgGpKNGYu59y1Wb0i/PeUt+6UkaFb8SWhcF2QEErs0AyPdINnyN6VsSX1esnrWYmHKYm1JUN0QNMq32lPLd/eN528nmujuFwAkmTcs/8ICkFFIDGrKHwS49LZFseAH6wDWPsXJE91/KKjMBrj2TwGufSAp5MTtdyM0eC1BPSPZWJDUqoLkhCK2dT90JBuXLC78Q4CFaUFrew1wDW5H0NyQ5G8I5LBmcJcmaNG9Afn17FOzW4qV6TaqHGf/yH4OTkySiMcfifOj1g6Nco6lpQUWig2qKkCid5g9B05yOAVha9vdsntSeE6DUn6Zix99wBsXL/Ph/Aqza3mypQr5SoVCpUyuWCBbKJAt1yk2JfGeFOlElEhA3PsWt1boVonVtWXOLRcpdyAQH2TfxC4Oj/bQEwpg3dFGjWfXya9Oc+HSh/zq4jXOLq4ynyuSq9Ypt5pUykW/PfkC2UKRjVqbdmyUoXiIRNC6uU3ltqltzHPh6jn+8aOrnJ1Z4EYuT7ZcJl+pkC+XyBUKZApFNopNbBki1tNDKhIkfLMTROO2a+SXL/D2uXO8cXWWS0tZlvIl8vUG9WadcqXo75t8wd92x4JoDwOJMPGgde+LkK+hXLHIxdlZOsDJU6eYnJwkFAo9EsfkZ2H9+Z+DSRcxjK6AQsQV6QFNIg4SgdeBZg1aTYlywWkKqqsCu+UPkAklNIl+iMTUrQOpe/s/PyVZOS/IrQjaShMZUYyd8jjwjMe+E4qhYU3QE9SXLTKXJas3upO/3N6qO9hNSXFOsj4rKRYFrqWxIppARBMMayIxTTgOstvjqWxJc12w8pEkuwStNlgJTXq/YvfjHvtOKwZ7wPIEnY/Ny5bUVwTrVyXri4JGByKjirHHPQ694HH4WY99hzU9SVA1QemGJHtNUMhLup2z0G1PY1WycUWSXRI0OyA22/Okx75TiqFBsJT28+HvQduS9poge0WyeE2SL4COaHr2KiYe99j/hMfuw5pUDFTVb0/muiSfk7Ttu4eodkUw/3qA6XP+e7FVOHnrEa2sxeyvLBam/YuJj+PVBZkPLM7+Q4DGlp3bLgiW37fY2NjSlqAmMaEY3KuJRm71Jlp9moFRTWRrN7rxCNA4jk21UmC9WGC9UGDtjqVEodakYetbedXKxWkWWVud4Z2p65xbrZDXPQxNHOOFp57j+y++wPefeYzn9g4zErKxiytcu3aJ926sMlfp0HbudnR8BqpDu7bGjYVp3pm6wZWNFq3wMAcPneG157/BD198ie+/8AyvHt/H/r4Qqr7Bwo0pfvPhVa7nqpQdz0/V0jadZp65G9d579I055fzFD2L+OBejh97nFeefIJvnjjIyeEYcbfM6vIU712+wrvXM2Rq7e55SKNVm0Z1jakrU7x/bYHZgodM7uL48af4zgvf4IcvfYMfPv8krxwZZzwGneIq165f4P1r08wUW9S2ntAM4xOYnuwvmOnJvt1XoiebzcFCAuqCWkFQrQs8qQmkIdmnSYQFdkGyekFSqghcCandipGDmt4BTajbu6o7fhC5dNZibVnQsTTRYc3occWexxW7Dml6h/2AyWsJOnVBu+PnhSdHIBL1e443Pw1uU9JYkRQzglq7O+BRQKhX07NL0z8B/WPQOwrpEU3/JPRt9kAr8KqS4rzF7DlBwwYR1/TuVUycUkye0Izs1iSToNuCVtnPg5Z368lWgkZGUCsLVEgTG1QMHlXsfkwxcUQztFvT0yNwy/52HMdPm4gPQ3LQvxMgtMSpCgrXLFanJZUmyKgfGO8+rZg8oRjerUnGQXQEnYZ/R+FuPdleXVK6LFmasiiUQEf9uwrjpxW7jylG92h6ByHiCVoN6LSEn8oR16R6/d51IW7vyVaOoF0Wfg60gGCPZnC3pmdIk9qrmNil0S3J2vsBps7J28o79j3h8uQPPA4+rZg8qgm4fi+6AtCCZk6gxz3GBv316ysWc29KGpvbiCpO/QuP488pdp9QTJxU7DqsiFiC8G7F5AmPeMRfVev77dF8+Jie7Fs92WUblJR4nqJdzLKUzTKfzTKfubUsrK2T70hkLEUqZBGQoJWL3ahSLBVYqCqsaJLB0SOcOXGKV04f5+lD+zg2PshQwKNVK5FrtGi5Dp3EMMN9/UykwsSD9+h/e5CebKdFvbDCxdl53l/IUyFCdPQoL5x5nO89dozT+yY5umuM3X1RQmhsRyECIUJehN0TIwymYyQCEunUKa7P8eHla5xd3KDohYj0T3LmxOO8fOo4zxyc5MhYL4NhRaNSpdZqUetoPCtM30A/g8kYEanBrVHOL/Hh+Rmurlepyj7GJo/y4hNnePnUEU7vmeTwrmFGEmECroOtBVIKeuIJBofHGE7GSHzN07a2Mj3ZD8b0ZBvGNsJSfjm+Pj8/WjmCRgHaFb8Xu1MTVNoC2wOimnCPJpGA0NYc4To0s5JSUdB0QMY0yV2K4YOKgXFFsl/RO6EZ2q8ZHtPEo+A1JK2CoFoB2/mETAAJoT7F0FGP/S94HH/Z5fBLm4vHnqOKvpTy0wo8iV0TNPKCSgeU8FNc+vYpRvZr+sc8esY1A4cUg+OaZAC61wp3UhAa0gwc95h8ymPfk4qJg5q+AQjHIJiE2IgmlYSIAOn5dwI6rS3VQlxwGoJKASplvz82nNQMHlAMH9T0jyp6xzz69ymGdvnbuislceqC4pKkWgBHQ6hH039QMbxP0zeiSA0r+ib9i4B0LwSVoF0RVHOCZvMegzy7ddADQ4qT/4nDd//nDs//scuz/9LlzGN+73GnLMhNS1pberNij7u88H2XXYc8hg96jJ52Ofktj937bq2DLZh7K8Bmx7dWAm9rL3hb4MQ1vd229+/zGD3tcfKPXJ7+tkvvln3x1fluM18fnyelXBqlPAvX3ufX597nFx+9zy8+uH355Ucf8t7cMst1hbN5g0MEsCIp+ob38fSZJ/nuc8/zu08d5+n9Y+zqTdITi5FM9DLU38tIX4xQUKC1TbHRpNSy8dTdhvh+NlopbE9hexqlBEiLQMAiFAwRjcboSfczvmsfZ44c56XTJ3j+xBGePDDESDJEWPrpUU6nSXkjw0qpyEbHQ0RTDEye4OljBzm9b4x9Y2Ps272Pk0eO8fhompGwhnaRYn6FhUKVfMcvzYfWKM+l43p+BRIpEdLCsixCoRDRaJx07wiTuw/x+IkTvHj6BM8dO8zJiSGGYyHCX5njz3gYmLOkYXQJCaE+iPVqYgEQzq2e2VYVWiU/cPYAK62J9kE0pgh0T7oasBuCRh6/Wgf+wMJwyu/pVg1Juyr9NAhLE4pDMOIHsE5T0KiCa398uTkrrklNKoYOKUb3evSNq5tL75gi2acIhfxATCm/pJ1dEzjaP9rDA4rkkCaRUgTDYIUV4R5NNKEJf9z04VIRHfDo26cZ2uunL0QD0C4KShlBMSMoF/yqKzeTGbTfhps1Z13wmtBoCBoO6KAmkFb0DGtSPd32RCAc034utz9u5HYasMGtCsplaLb91xWIaaJx/yLBbUraDen3gvf4vdZBQDegUxS0uxVj7rabrT7Foddcjj3lkepXRJOKSEL5pR2BTl1QWNr6CM3eZxXx5K3gV0iITiiGdytiW9Z0r0vy3Z0TCGsiqS1/1IJr/88QP/tvgiyt+PtQSAjGFZHYnbn6Xw0mbeXzpAGlHOx2k1qjSa3ZpLptqTVbtDoOHU/d/DwLIQlGUvQPTnDywD5O7J3k4FCcpG5QymW5sZJhNptjtVKn5nhovzI3HdfD8bqB6E4SEiscJhkJ0xsMEPJsnPw812eu89vZRa5l86xWGjR1mPTgBKeOP8YrTz7Ba08e5tBQip6QxMKj02lSLheo1OvYGiKxBLt27WNysJfBWIRYOEw01kPfwDgHxlMMJC0kLZqtGmuVJpWm439iRYBgMEY6FiYespBulXJhiauzs5ybWWJ2rcBatU1HxhkaP8DjJx/n1Sef5MWjBzjYGyX+Jd1sNR5OJsg2jE3Czw+OpzXJuCYA6LqgVRH+4ML8rXJ7sX5I9GuCoa2BqUQ5AqcpUN0eabcuqM5LFt+zuPYbi6nuMv2BxcqSoN70t+e5YLc+puxdVyCiiQ1oEmnVTXnYvsYWm2UHu9sUAqJJv+fZ2lrJRPh/u2cvNt1ANuJXBmmsSFYvWMz+NsDs2xbTb1vMvGMx+75fDaTp+RcYd9CA60/i4wEEweqBSJTbJvIR8tZyV65AtQRND2wNSmmcsmDjsmTurVv7eOpNi6kPJIWif4dAdwS66VdDuVdd4OSIZuiQuvOWN/5FglsWtLbGlhFNInWX9yGgiPVqIlujbC2obPg/JgYVo8c0gS07XXtQm7V46/8c4a/+9yHOvWNRr9+99KDx9WdJi2R6hIMnX+J3nn+JH77wEn/w4u3LD154gZeP7OVAOnAzZQ0hkIEAQQtkq8DczBXe/uA9/uHtt/nbt9/h7975LT9/931+eWmGK+s1Gh2184H1VoEg4eQQ+8bHOT7eSzrooSpZZmYu8vq7b/O3v/k1P339N/z07Q95/doyczVNMNnL+MgAA/EwUQsEHp5jU2+06XT8uePDwQADqQSxYKhbfUb4AXQgwlBvkkQ8giWg7XTI15pU2zaeBhGIEE8PcuTALvYMJknLNvXiEpevnOOXv32Ln731a/7qjdf56bsf8daNNdY6FsnUAGP9vfTGgreqSBnGfTAfF8PYJEAENdE+TbIfAkHwHL/qRSkjqK53g2epSaY1ybSfVrKV1qD87wAAnKqgPGux+JHF9G9vLbPnJKsLfuqClP5zKy3u3r26hRD+c25W2PhUhP+aAqEHO/DbeYv8VYuF9/zAevasJDPnp3+062C3BI4tPukl+ISfh04EZPBTtkd3e8c3B2q6gnZekr1oMfeexcyW/Tz9niRfEHTovr+6+/jtQTEAmnDMn1joXu6YtCfuzxJ6N1YQ5G3vk6BW7P7Uo9j7isvxJxXJ5LYyhxrsvGTqL4P8x/82xLXL0s/bNx4pMhAk2T/C0TOv8PsvvcIfvnyX5cUXefXoHg6kAluqZyi8dpVCbo6PLn3AP7z9a/7m7Xf51aVrXFxdY7VUodRoUGvbtB119wvinSRChKP9TO45xHNnTvLc0f0cGUmT0DVyqzOcu/gRv3zvLX721m/4m7ff5u/f+5DXL17jwlqDctvD06BReMrBtT3cbq6XBKyAvOMujxQWoXCUYCAAQuAqRcO26bgeIBAyTDQ+xIFjJ3n+zGmeObSH/X1hQnaB5cVrvHvuA/7j22/zs7fe5G/e/i0/f/8sv7k2z7X1OjXbM/dvjE/lHl8PhvGoUkR7IDbo91JrR9AoSIqrfqk8T4GI+b3dibi6VbO5+9ibAWb3xG9FNLEBRd8uxeCebctexeA+xdA+xcCEJp32y8vdO2fjM9J+r6hyH+BGvyMpT0tWL0myK4KWp4kOKYaOK/Y9rTj0gseh5zxGxzQx+Qknls06vNpP/dDuJ15bfDwLAnFNakwxsH0f77m1j4f2KfrHNbHoJ7TvY4jtKTUf0yu+eSGwVWBLCkxwyOPYD12e+YHrV3kZ1dw23kxDKyO5/HcBbkzLT7zLYXzdCCzLIhKJEItEiMUixLctsViEaDhIQN6qJa1dm2Yly/yNy/zi3DRTuSqdYJKh8QOcOfkE337uBX7v+ef53mOHOTWWJB6Sd96J2WEiECKWHufwsaf5wcsv8vvPPM5Lxw5zeu8eju4eY89QH31hcGrr3Jg+z6/efouffDjHdKFJw1FoBFJYyID0OyUApTWu594xO6TuVmVxPQ8NSCEJWQGCQnZPOgIRjBLr3cPjTzzP7738Ir/35GO8eOQAp/ZOcmjXKLuHeugJeDSLK1y5/CF//9v3+aerCyxU2rQ/9cnTeJQ96HeNYXw9CQikNPF+TTSskZ5fbq26DtUWeAICw5pYryYcujNXVkp/UhbR7Z0O9Wj6jikOvOJx6nsep7cu3/U49ZrHyW97HH/BY3KPIh69c5sPSgh/UhPL8r+EtIZOAzpt8LZ3X+l7pHjQTb1t+oMGizlBq6OxUpqho4p9T3vsPulXWRnaA+mej8ntFn4uuiU1UncD1Jqg0wHHuxVo680AddvDb5IaYWksgT/DnaWJDit2Pe1x9Nt3388nv+Nx4tuKw88oBoaUX3N4+3Y/iQVWjNt7rhuCeucubdUSuwHObSX+NMmBrf8GEVEMPeHy1I9snvlDj2Mveuw+oAluaZxXkCxevbOsoPH1J4Rf2ULI7qyL91puPkLjKYdapcBqZpWVUpW6o0mOHeDU6ad49cxpXjh2iDMH9nFsfIjxVITIHbNF7SylHDqtBtVmg5oNVnyQ/UfO8OqL3+Q/ee07/Ohb3+QPn3+cl4/s5kA6TMCus7GeZeriBabXS2zYCkdbWIEQsUiIUMg/eG3Xo1xr0XLdLRe6Ho7bplip0my10QrCwQB98TCJSAAJKK9Du1mj0GhSdyCWHuXQsSf59kvf4j997TV+9Oor/PCZMzx/YJTxuES1q2RXZ5m+Mcv1fJ1y546j3TDu6fM9ugzjISSjHpG0JhmFkADVgk5T0FF+kJgY0cTTfgWPrQeQAAJRiKa1P/jQL1mL0hBKa3p2eQxMegzs8RjY7dE3qkn2QLxHkxhUJFIQvNtgvwckpN+eYFwjhV/+r10Q1PPCn+jF8adtd9vgdMC9V2Cr/OoX7Sa0HfAskAlNdFDRM6CIpxTh8N1nrLyN5ffsR8MQlSBscCv4E9o08XOlN9vTvjX74R2Cfq3vZEwTsfyoXLugQ5pIv0e6u58HJz0GJjS9I/6dh1ifR7xfEX3QCxkBoaSmp3/L7zxJdlagt/VuqZqgvC5pbQ2y+xR98S3/3ioAqQMux3/o8PgPXI6c9scEbKoVBK5JGTHug1YurXabWr1Jx9VogqR6BhkfGma8v4+BZIxEKECwO5Pix08WrlHKw7Ft2p0Obduh5brYrofu9iBrrXA9F9t2aNsd2raN7flpHqBx2w1yq9f44Nxv+du3f8s/np/hRt0i2jvOwcn9nDp4hKdOnub5Uyd4YnKEibhAe20axQXWKnUqbYWn/BSQdLqHZDSKJQSdZovVlQzr5QY1x8HxHNxOk3otx3ymSr7q4ukAsXCCsXSCdCyMQGM3SqwtXeQ377/DT996m9evr7LSiZMc2MXhvft57PBRnjl5hhdPHOOJiTQDUVCdKpVqnmylReNmGRfD+GQmyDaM7YIQTkJ6AMJRP8jUXrfigwW9Q5p4ktsGrYEfhAVT/oyLPT1+rq5TE1TmJCuXJZl5SbUiadUl9XWLjWuSxQ8k0x9Iluclzda9Uw8ehAgoQilNrB+SAqSGTl5SmJdk5y0Ka5JKxiJ3xZ8tsebcI41EdwNZ3a377HUHHpYFtQp0mtAqCPLXBPkNQV3dYzsBhZXQpPrwpxnXgk5ZkJ8RZGctiuuSyqpFYc5ifUlSqW7fwOaVjCLUoxnaBT29frnAdkGSu2SxctViIyOpVyWdmqSWFWTOWsy/K1m8YpEv4E9G84D7OZJWDBy4PQDOv2Nx9by8WUJNNSXZsxZLM+K2iXj6HvNIdx9YX7W4/h8DZFYl7taVBMSGPUYnb80guvl7w7hvuntxrP0fapUiuWKZYr1BvV4lv7HM1OIy19f8gY93pwGbRmWDxYV5Ls/McG56mvNzy8zla7Rd/8SoOlWK68tcn5vh/PXrnL8xx3S2QL7dLZWpbDq1DeYXr/H2hXO8fu48r1+c5mq2TM0VyGCURCxFbypBPBImwGbPfICAFEgBQkpCkQR9Q+OM96bpC4DTqrC+eIF3p2e5uJpntVAgk13gyrUrnF0ps9bUeKE0qd4x9gykGIhKpFDgtWhV1rly/Qpvnj3HLz+8yFtT88zmG9SVRSAcI5VM0ZeIEw8ECOD3PgjAktLUhzY+FTMZzRfMTEZzu6/MZDTbSFfg1gWlPDSaAq39QZFWj2L3GcXgsJ8usv1tk1IjAgKr45d76zQEnRa0KoJ2VdCqCmprgvycJDctycxJCmWBCmvSw4JozO913rR9MppgQtOzW9M72M0t/riPjfBzRrQNXk5QawpcR+B0oFMTtEqSSkawPiPJZyQN2w/y75iMxvLTH6oZQX1D+OkmDniuX0mltSEpLkjWpyS5NX82SC388oWJcU3vqCYW8gd4CgTCg07Vn5LdcQROQ2A3oF2WlJYFG/OSfEZQa/gxwh2T0QRAWIKA5U/o065Buylo1wWtuh/8t4qCWlaSm5Nkrkpyy5KWgmAvJNP+FPbbJ6MBSIxpxk4quhX77iCCmoAQVJcl9ab/O9UUlJck2UsW8x9YzH1gsTQlqW69SOjzeOoPPdLdaiONFYupv7VYmrZYvmSxPCOpr0vyC5Ll9wPMXrg9PaTvuGLyiCK8g3c6vorMZDQ7MK26crGbZQrFHLP5OnVHYTsa127TqhVZX1/m+vwMH80scm294g/mExISYxwaH+bwYIJUOIA/hLlFbukGFy9d5ezcPFeXV7mRyTCfK5GrtXGUAu2i7Drl4gaL2SxLuTxVHSbeO8pgRGChcO06hWKepfU8G7UG5XqbVrtJvV5mbWONhcwy04vzTC2uMl9o0BQxUmOneO7Efg4Np+gJCQKWQAqJatWoVCrkqk3a7RqVZodarUohn2VuYY4LMze4nq9RURFSQ/s4cfQ4T+8dZlcySEAILOXi2A2y2SwrhTL5eotGu0mj3aBSKZFdX2Mhs8T1+XmuLGZZqXTohPvZNXmYxw/tY39fnLiZjOaROCY/i83JaEyQ/QUzQfbtvqpBttACryWorAuaFX+2QGIQ2aXYe8yjJ+33ZN/xrkmwAoJQ3K9koRyBsgVO06+zXVuTlDKSclZQqwk8C8J9mt5dmoExvyzfTgbZQmikJQhZ3ZQMG5ympFP1A+ZaXtBx/WnYAwhcF0TwLjM+WkAL3BbYHYHTFth1aOYkpVVJKSdo2X4QIBEoBTKkCQ1q0iOaRLetQmgCQb+KSqcucLvbate67Sl2pyoPgBQCx75LkG35edhWpPseaL8sn9cRdGp+r3p1TVJcEZTWBO22QMQ1iWF/P6fS2i8Z+ABBNgLCaQhrqCxL2t3BiF7bD+4bJf/zYm9NEwlrjvxzlwOTty6g2jmLlfcllbqgWRLUc5LiomRjzn+vG90AHoCE4tDL/qDSj32/vwZMkP1Zg2zRLcfp4XkO5XqTeqtDp9OmViuQWc8wu5plIV+j5vqfJ+V4eEqgA71MDg+zbyRFOhLEEgposLYwy4WL17m0ssZiqUSuXKXU6NB2lZ8yohza7SaVWpV8uUSp0UbH+xkd38tEDIKWRAYCWFqhnRYtx6bZqJDPrzO3usTU/ByX5xe4tpxltdrBDiYZGJvk1OmneHbvIOOJEGFLIISFZQW65T4VrY6N02lSr9coFNdZyWZZWNsgU+3QtmKkByY5deQoTx3ex8GBBImgv2+wLKQVIKxtHMeh02nTqJfJbWS4sXyrPddXN1hrehDtZXT3EU4fO8aTu/sZjgVvzo3wKDBB9oMxQfaXxATZt/vKBtlCo7TALvqBnhWFSL+mZ79iYo8m/jEThAhLE4wIwqnuNOmWn2pxM0VBgwhAKKXpmdSMHVeM7dWkUprgtrxmZUvaeUGzKnAsvz5376QmPeBPsnKvNmwSEqygIJzyp3LfnMxNiO7foprUbsXAGMSDAiUhlNCkdyt6RyF+M8jWBCKCQDfXXHcncxHdbVkxTXK3YmhEEAuBtiAQh8ggpIcVyWi3J1uCDApCMQiFNHpLDW8h/CohyTHNwLgmHvfzsiM9mp4JRd+QJhG/VfJQBP0JfSIJPwferx3Q3SHd/HJpQXTYn1Vy9LBmcBRikW7vPA8QZHff3+QE9IQFxRVB+7bBjbezUopDf+By7IS6VccYaG9YrJ6T3Oys7pZ+VN7tKUOBtOLYD1wOn1S3Vx75mnqkg2xc2rUyG4UihQ7ISIKBwTH27T3M/iSE5P0E2f7FoxUIEY1ESIYFtu2hEf5xrAEZIpIcZO/uMfYNpoggsUIR4uE0u0dH2DPSS080SFBowKG0nmN1rUTJ1ahgkFAoTCQSJRGLkYzHSMaixCNhwqEgoWCQSCTK4PAu9k1MMhEDy5IErBDRaIK+ZIxUUCI8P6/b8Rxc18PzFFghosl+dk0c4PFjp3j56CST6Qjx4GaZPoGwAoTDMXpSCdLRENLroLonIw0IGSIS62FwZB+PHz/Jc0f2c2QkRW9kc7p3gRABrGCEZCJNXyJKxFIoXFzXw3FcXM/D9RQEIiR7htmz7whPHT/G0/vGmUhFiAa2DjT9+jNB9oPZDLLF5lin/r4+1tbWtq9n7LBarcYbb7zBz372MxKJBH/yJ3/C8ePHkZt1iR4xP/7xj/nxX/7XBPoXOP1qivF90e2rfDm034tcW/InoukoEFFNeFgzOHh/E8HggV2V1HKCWlnQanWD3G7Vj0AMov2a1JAmkVB+T++2zXgtSWNNUMn5aRhWTJMc80j1QjTyCW3YQrvglST5rKRe7k51LkBGIT7op3N4ZUG1Ckpo4qOanmF1e2+59l9PfU1QKQhabT+dQ0g/OI4OaOJS4FQFtTooSxPs7U4Vntx2QeCCXZGUVgS1ivAn+RH+jJbRtCYR8VNRShsgwprYkCY9qPyLm62HigbVlrRKguqGoFHzK3oodWs/h3q0P8tlnyIa2doOyYX/Y5C5xq3NDZ72OP2HLh9TKvs2qiZZvmAx/6GkWvYrtIgARIYU4497jO9VhKP+hDtbJ7jRCpoZi+WzFquLgnqp2+bu42N9mpHHPfac8Eglbj3u665WdHj3ZyWchSG+c/o7/M7z32B4cLA72cjXm9Y2zWqBTGaV1UqLuhcg1tPH+ORh9sYheK+qPXelUU6LVj3PzNI6a+UGTdfDQyICISLxXkb6oiToUMiXKbUdXJFgeHSUPWN99EdDhIQG2hTX1lhcyZFrdWjdx1gGKximt3+U3eO7GY9tfu61P0CyXaNUzLG0XmSj1qa1OUBS+wF0MJog3TvAruFB9qQiWHfrRdAa7bZo1Issrq6SKTep2wpXA8IiEIwQTw2we3SYsXSceFDedXIprRVOs8h6LsdKoUShYXd75wEhkVaQcCxJf/8QE0N9DMVDBLeUSnxUXJ6Z4cc//zkVrfnRH/8xL730EolEwgTZnyAY8nP7TJD9BTNB9u2+skH2TtN+pRHdDf6Qfi/rF36e0v4gzs1qGCLwMTMr3kv3i3bz9Qjpp5s80LfPlvZo4bfnbt+r9011JwPaDLL9+Si++P1sPJBHOcj+PCnP8xchEDKAlOKugecXR4On8G5WIRGIwIO0yz+xep5GKf/2nF9L+1MGw1qhlcbzPP9OkrAQlsTqDrx8lJkg+8FsBtmf9uvVMIwHIfyZDa0wWKHu4L0v4xy1GciG/OVTB9h0g+ktr0d+lgl0trTHCn7GAJvuxcuW/Szv8xa7YXydScsiEAoRCgYJWp82kP08CLAsrFCIUDhEKPyg7fJPRFYwRDAcJBiysD5tgI3fcy0291HYr8UdtEyAbXx2D/IVaxiGYRiGYRjGxzBBtmEYhmEYhmHsMBNkG4ZhGIZhGMYOM0G2YRiGYRiGYewwE2QbhmEYhmEYxg4zQbZhGIZhGIZh7DATZBuGYRiGYRjGDjNBtmEYhmEYhmHsMBNkG4ZhGIZhGMYOM0G2YRiGYRiGYewwE2Q/arTGs9u06lUq5SLFUolytU6zbeN6Gr19fePTUaBscDsSty1xbfBc0Nt2rFbg2d112uDZoMzO/2w0qLakXZHU8pJ6UeLcZd8bxqehtcZzbOxOm1b7LkunQ9t2cJR6+I9h7eF0mlQqJbL5DTLlOtWOh/clvS6tPexWnXK5QDZfYK3apG4r1PYVDeMr6tEIsrVGux06rQbNVoeOq7pfvBqtXOxWg3qlTLlSplJr0Oq4eIqvV8CpFZ7dol7eYH15ntmrZzn7/tv89rfv8eG5y0zdWCGTq1Br2HgmKnlgXhtaeUl5RZBfERTWJbUqOM6WlRS4DUk9JyguCworFpUCdGwezS8P7QfCm8uDUh1Jc02QuyyZe18yd1FQqEDH+WzbNR5hWuHZbWqlPMurK9xYWWFm+fZldnmVubUcK/kiG9U61ZaN7emH8jOnnCbF/BKXr57lF+++zz9duMHVdT/Qvt9zk9Z6y/LZvkeVXWc9e4OzFz7knz44x+tXl5grNmh9WVG/YXxK1p/BnwH822iUP/3TP93+94efVminRaOUJbOyQrbm4okIsUgAiY1dL5BbnOb61BTX51dZK7ZwCBIIhwgHLaTYvsHPxrZtFhYWmJ6eJhQK8dhjjzE0NIQQO/xEW2mF16lTWV9g5tJZzp09y9nzF7h0+QrXZuZYWFols56nULNxZJh4Ikrkc3jtd3Px4kUuTr2PjJUZ2Rsm1RvcvsrDQ0OnJCnPSjJzksKSoFISOAgiCU04AgLAlbTygtx1ydqsoLgG7Y4g0q8Jh/lC9vtXggbt+r34ng3K838nJDzI4eDWJaXrkpVLktV5SbkioF+TTGhCoUdovz7E7JZiZbqNKsfZP7KfgxOTJOLxz/f8+DE0Lu1mmez8Nc5Pz3B5OcON1QzzmVvLXDbLwto6KxsFsqUaNRdkMEQ4YBGQ4oE+y18Wt55jce4Kb1+8wm+nV5grKALRNIMDcRLhIMGPfS0arRSubdOxHWzHw/UUSIkQD7IfNG5thavXrvLmpSnOLq6RrWuiqV6G0kkSQemfT43PVa5Y5OLsLB3g5KlTTE5OEgqFvrRj8mFh/fmf+///WgfZWqG9Jo38EtfP/paPzl5iuhRAJPoZTQcRdonc9Fk++PUv+dWv3uKdc1PMLJWpe0GCiQTJRIzoDh/IX3yQrVFei8bGAjMf/ppf/f3f88t3znL+2jyLK1mymSwrSwvMz82xkK1S8cIk+wcY6okQtHb2td/N1ynI1kjaa5LcRcniFYu1JUmpKPDQJPohntJYAnAFtWWL1bOS5auS/Dp4aFJ7BdGEJiC6wfjXnLahU5aU1/2l1hC4aEJBsALb1/5kdkVSuCrJzfkBtuNpvH7FQL8mHgH5aNy3e6h9tYJsDdqhVcmxcOUDfn3hEh8srDKzuspsZpUbm8vqCnMrS1xfWuLaygbZhoMOhInHYsTCAYIP0dWdXV7hxtw13p/LcCPfoFYXJHr6mdg1wEA8RPhj3wdFp1WnsLbOUmaNpWKFUqMDoTDBkL8fPu7Rd9CaTnGWc9dn+GB+nWypie1a9AwOMT48wED4i+kIetSZIPvBbAbZX++vHdXBKS8w/+HP+Hf/3Y/5y396l4sL61RbNsqtUc9e5s2/+kt++pNf8daVG9y4cZ3L7/2Sf/irn/JPb3zETKGJc7/3yL6yFHYzz9KFd3j7n37BO1eWWa10cBTIQJBAQGIJhdMokbvxIe++9Uv+4o3rrJY7OOaO3KemNShX4Ll+LrZXETTXBeUStOytK4Jy/cVzBMp7xFIaNHh1i+KlAJd+GuDNfx/gzb+1uHzFolx7sNOSsCAY95dACAJBiETBsvzeccP49DQajac8XM/Fdl1sz0N10yBkd1Fa4dpN6qVlrpx7i5+/+Ta/urHOcsP9TOkSX7RAOEI0niAWihAJBAlEokSjIaKWIPCJMVWLamGW93/9c/77f/f/4s//3f+H/9vfvMObi0U22urT53ULgYzEiUdjpEMBooEQ4VCcaChMMPBgd7sM44v2Nf7q8XDbFdamL3P+jXdYrjVpaul3Z2mPdmGV5YtvcmEly3JbIGSQSDhMyLLpNFaZnpvn/LU12ra3fcMPFW23aK1OMzNznQuZGhUvRnzkSV74g/+S/9X/7v/Ev/0//G/5r/4X/5zffWIvoxFQ66tsXDjLxWyVYucBTozGbbSGdl2QzwjqFfnZv3C1P2jy5vIgG9y6je2P193lfmzmUW/Z1v0+FLY8vrsNpQRaiVu52VuXj9NdJ5TyGHrc5fDvOJz5A5czv+dy+qiiN/kJqSL38xybPuW6n/m9Ygf2s7Gjkn27eOyZ3+Ff/4t/zf/mX/1r/td//C/5X37/VX54epJ96QghbIrrGS6dv8rl5Q1yW8dj3EGjtUIphacUSj/Y4HOt9c1t3NzOp9lQN4faio9w4Ohz/Ivv/B7/sz/4If/lP3uVP3hmP3t7op/Qi93Nv9Yapbe042Zb1O152p/Qts31golJnnj8Rf6z3/sB/9M/+AH/5ve+wXeO7mIiGsDa/qBN3XZ80nNs+rTr3nyv1P0/bru7vl/bVzK+Fr6+QbbqYDfzrC0vcXU6T0PHSY0eYs/EGMM9Aru6wcrMErlSGyc2zu6T3+Bb3/sWLz++i7G4SyuTYWVmhTXbxd2+7YeI57Qory+zll2l2GijI0mGDp/kxFNP8/SZk5w89TinHn+Gx45NsHswQMArUd2Y5eJ8iULNMUH2Z6XBqQsaGUGlCC33AQIkDcoBtyVpVyX1nKSSlVRykkZVYrfAu4/BfdoBtwnNkqS6LimtSapFSasBbtv/W7sO7Rr+Nu9WmUP7edRuG9o1SSMnKa9KShlJNS9p1qDd/pjHOuA0oV2VtOrgdMDzBFoL8EC1wK5Buwqt7tKug3u36iuq2+aav16nBTqgiPVr+kYUfcOKWMxPPblrfOCC17r1+HYDnLs9D/4dh83natc+Zt2b7xV+lZOcv29K65J6SdJugnsf79Vt26lBIycprfpLZQOadbDb/vt+RxuMz1U4GqN/aJz9e/Zx4sA+Th08xBPHT/PCY6d5es8gu2ICOmXy+WVurBfJNrZ11GiF8hzsdpNarcJ6bo3FzCpz2XVWCxXKjRZN28NVHxd4+YGr63RoNRtUKmWy6xnmV1eZy+ZYzVco1ZvU2za2d++qJ9pzcFp1qrUa5WqNSsvFlTF6+0fYOz7OgZF+hhIRIpa8e7CgNZ7dotmoU6lVqTQaNGwHGw0oPGXTbDUo1+qUqv5zlGvdwaHbb5VqhXI6tJt1f71qjWrbQ4SSDAyOsGd8lL2DfQzEgoTv0hitFa7dodGoU6nWKFfr1JodbE/fOWhTK5TTpt7oPletTrXZwb7j1rVGKw/H7tBo1CgVN1jJZplbybKYK7Bea1Br2zjeJ1U88bfjt69GqZwns9bN61/fIFOsUm60aHRsHE/f8/0yHj5f35xsp0krP8fVCxd4/YM17NQ+jr3wEk+dOczhQehkpzn/9lmurXdg7DSnX3iVbz23n13xDrWNCqWiItQzyO6ThxiJB3csT/aLzcnW2K0iq1c/4PLla8zmWpAYYu8T3+CpM8c5OhwlFAphoekU5slkMiwXmrRFEHvwOKcmhxhNBQl8bDfgZ/N1yskGgV0UVBYlxaKg4+J/aJRASgj2aRL9mqgUtPOSwqKgWha4EmIDisHDkEhuy8lWfnDdWJPk5yQbC4LCkiS/0g2SNwS1ksARAiuoCVh3CSi7AVsrZ7Exb7ExL9hYkhRXJZUNQa0q6NQkzbzFxryklJV0PBDhbQMGNXgtSSMvKS5Y5Of87eSX/ceUc4LqhqTZEHhCYwUgsDXA1X5VldKCxfq0oLDqt6FcFNi2v68sQLcEjY1ucJqR1CoCIoJASPupH1vaUlmSrE9bFLqBfnmt+5qKglZNoLuDHu/YLwpUS9Jck6xOWxRX/DxuV2tCkW67N9fV/qDKypwkN2dRyErqdYEKCcJhv03gB+1uS9JYl+QXJLkFi8Ki9F9n971q1ASOEsiAv3/uemhp8NqSRlZSWPTfk/ySIL8iKWYElZyktiGplQUuAmFpAvfa1kPmq5WTDWiXTrPC+vIc02sFNmyI9Ayxe/IQR8aHGEsECYVCRKIRosEA1DfIFfOsN21cK0S0b5xdg4PsTfmDDLTycNp1ioUsNxbnuTi3wNTiAtdXVpnLrrG0kWetXKfmgAgECVsBgtb2167Rnk27USabWeL6/BxXFpa4trTI9ErG3876Bqv5IplaG0cECQUsgpaF2HJu0VrRqRdYX53h/NwCU0sZ5jIZ5tfWWd7IkymVWKu6KBkmEQsRCdyZA62cNvXCIjPzM1xcWOL60iqzqzkytTYtQEqJJT3qlQLZtSwLmQxzuRIrdpBwJEQ6HLh5XGq3Q7OaY2lljvenF7ixmmEuk2V+Pee3p1ijUPOwohHi8TCh23K8NVp1qFfyLM3Ncml+keurWTZaCi8UIxYOEroZmGuU06ZZWubyjRtcWlhmLlel0BGEIhFSkUB3uxrldGjW86ysLHLlxjxTiwtMLS4zs5Jhfn2dlWKFQsPBFUHCwRChwN3yzm9tZ3l1katzc1xZXOT6Unc72TWWchtk8iXWazaeFSIYDBC05B37+8tgcrIfzNd/4KNdp5m7wZUrV/nN9Rbx8Sd56dvP8vihEYasMrkbV3jn3WlW64L+E8/x9Isv8vShfnoCbYrza2zkWojeYSZOn2BPOkTwoQyyFXZzneXL55maWmC55GElxzj4+LOcPLKXXQmB0BqvUyW/dI3Z+SUWNho0RRR3+ATPHBplojd8l5P8zvm6B9mblTK0AMKaRJ8iERPYRUnxk4Lsbqm/6rIke8Vi6aIkMy8pLAvKWX8pZSSlNUHbBSsM4agfcG0NbFUHOnmL7EWLhUuSzKyksNLdRkZS3hA08pLaimR1WlLICtwAhNMQj90KInVLUstI1q5Jli/56+ZXBKVuW8oZP2iulcDWgkBEEI747QG/qkqnKFi7KFk4a7GeEZQLgnar2xvrCtyGuNlrW1j2l3oVgkMQS2lCm69Ng6pJshcsFj6SrC3dWr+4IilmJJWSQIx0q4sEtwWh2g+yq8uSG+9ZrM1LSkXQQUG8VxOJbbnN50JrzWL1rMXSZcl6VtD2IDKgSaS6FzbdC4jakmBtSrJ02SJzQ1Do7p9KVlBelZTzgrYNKgihiH8BsP3Q91qS+rIke9Vi+aokc8O/qCqvCyprkkp3P5dzgrYDhCAU1gSDd27rYfMwBNnR1CC7JvZzcLifwYhACIGUlr9uZZml3DrLVQc3ECc+MMGB0REOpIOAh9OqkssucOX6Vd65dIl3p+eZWlphLpNlIZtlfjXDQq5AruFiiyCRSJTeWHBLL7JGex1a9SIrCzN8eOkCb12e4uz8ItMrWZZy6yxms8xnVpnNZJnPV6i2BZFojFgkTDiwJXDTLs3iMrPX3uUXF67zwewi08tLTC8vM728ymxmjdmih4z1Mj6QoCcSwNr2PridBvnl87x38Sy/mVpiaiVHttKg7ikUGs9tU63kWc2ucmNlyd9+rsQqaUbSafb0hJDdbSqnSWVjjktTF/jbs9eYWrzVnpmVVWZX8mTKEOvrZXgwSXLbwHzltamVMtyYOscbl65xdn6ZrG0hUoOMJGOkNkujaIXbLpObO8cvz17gresL3Ch1aIV6GO7vZTQZ8vPsnTa1cpa5+Wu8e+kiv70yw4WFJWZWsyysZVjIdEs3Fhs0XEEoEiMRixDe7Ajwnwy8Do1Kjpm5a7x38SK/vXKdc/PL3MiusZxbY2ktw9xKhhuZLIuFOg0dJhyNkgiHCN81aP9imSD7wXz9Bz5qjXZdPM+jEwwT7Bmmvy9NT8xCdqo0yhustT3aooeBwSHGxtIkYjFiyRTxUJgIGpT3kNfL1mjPodN0sNsapcIErSSJWJhYBL9GeCNPfnWOpZUcG+W2PyGN1riOg9IPdz76V4EVhlBMIz1orApKa5JWW+Dex4dKdSSNjCRzXjJ/XpLLCBoN8LqD/IQCty78wPeixdJVST7n19ve3Lx2wS1ZlK9YzF2U5JYFtbKg4/g9xwJ/cGZpUZKdF5TX/Z7xZh1sx3+uTe2cZOOqZOmiZH1JUm/4db2tsD/QUHjQKQuKcxarly2WZwTl6tba37ffUBX+2Kbbibv87m7rKf/7S3u3BpC6NtgNQbMkqBcEjZKfuqLudh9XgAxrglFN2Aa7JKhnJNV1Qb0p8bY8RncknYKgsC4o5AXNFigLwlH8AVjddepZQeaixeIFydqyoF4TeBqk5Z9ovZagtirIXpYsXpSsZSWtrSknGrQjaRcEa+ckS1f897zVAoIQjEE45vfKuw2oLEuylyTLU5JCTvrvqfGl0VrheQqve9AIBIGAwOp2UiinTbmwyNWpS7x9/jIfzGdZKjZoeiCsAEGhcDs1cuuLXJk6z68vXuGd+XXyHX0rbU8r3E6FfHaG986f480rN7iWq1LuaGQoQiIeIxENEVAdGtUcSwvXeeejD3hzepnZcovmlhQN7X9D4CkPx3NwPBfb7lBvVsmVC2QKRTLFKqW2g+2p284Ft/MvNPxectF95Zv8XgYhJEJ2l9v+fjs/V9nDcbuDTO021VqFXLFAtlBivVin1nbucv7sjqsKRehJQMeuki/mmFvLM7deodJxumcfjdYu7VaV1dVVVjJZMhslGh2XYDhKNOQH2GiPdiPP0twVfnP2PG9cnWc6V6TQ9nClJBiwEMqmXl5nfn6Kd8+d59eXb3C91KG9Nc1HK7xmkfXlK7xz7gJvTi0wU6hR9ywC4SiJWJR4OID0WlSKGebmr/DmB+d4b3qFxWqbtsnXfOh9fYNsIRCWf1BLx0M1G7Q6bTrtNo1ymWKhQM0BFRihr6eP/pSFxMPttOm4Lg4CLeRtt9cePh5KdbA7HnYLtJIIESQg/VlTGsUMi5ff5c1/+iXvnJ1hYaNB586zl/GgBIR7NKkRv4Qc5W5aRdnPy/1YStIuCjamJNk5SbkKXkST2qfY86zHkVc8Dj+j2L1PEwuBXRTkrwmy8xbVFn6QqPwZEOtZwdIFSSkPtguhXsXgEcX+lzyOveJx8ISmL+XnS9+TlrQ2BJWMH4AT0aT3K/a85HHyOx6nX/U48oRmoF8jbWhlBYUbgnJe0tkcqGdBqEczdFJx+Nsex15STB7UJJPdIDqhSe732PuCx4lvby4uR55TDA96hLf21FogIpqefYqJpxT7n1HsPa0ZGtHEIvdxYhMgwopIn2Zwlx+8ahdaVUG9BHbn1qpuTdLYkLSaAk9AKA3JUUUiobC6T+SUBJU5i/VFP+3EC2gSuxUTT3scftnj6HOKiX2aeEDgFAWlOUl2VlAqgbs56EP7qTKtrMXyDUmpDG5U03tYcegbHidfczn5msuxFxWT+zXRoMarCmrLgtKaoNUx+dlfBK0UjuvQ6rRptts02y0azQql8jrL61U2Ki6ukgQDIfqiUVLhEKDpNMusLs5yeX6R6/kaVS9CcmgvTz7+At9/5VX+2Tee5tVjE+xJWuhmgcziNS5Mz/DBuk3T9fN0lXJpVfOsLk9zZSXDSq2DSO3iyMlv8IevfocfvfYdfvStb/IHz5zgmd099FgOrXKWqYVVZrJlqvZmsAlCWITifYztOcULZ57lu08/y3fOHOHx3QP0xULbXvXdWcEovaNHeeqJb/JH33yZHzx9nMeH0/QCECSWHOHEyWf5nVde5V98+zV+9O3X+NErL/CHx3dzqC9ysxcbQFhB4qlh9u09wWtPP8P3nnmGb58+yLGRXtJB6xOPaSGCRBMpRsZ2MZGIE7cEdrVCfr1AqdGm3b2o0G6bZr3I/FqdQtNDW2nS6RH2DqUYTAQQaLTToJhb4dLMPFeWcqw3PGRyiH2HHufbL3yTf/7Nb/D9J45wZjhOUtcpbCxy8do0709n2Oi4OLr7XMqhVsmxOD/LzGqOXEMT6d3NmSdf5o9efY0fvfYa/+mr3+AHTx7l8aEYEd2hVlzi2uoqM/kaDftuPQTGw+STPrcPL2khI1FikTBpVaddnmFhcYXF5RUW5xZZmM/R8iysgXF6+/roDypUo0I5u8x6tUpZB5CBGLHogxTR/+rQ2sW1FZ7bjXS0wrXrVDPXmXrvl/zDz9/g7XPzrJZbOFjd/kVjpwQSmsSopq8fQsIPUotrgnbnY+6QaKANrXVBbklQKYMKamIjiokzit1nXCYfc5l8XDF5SrFrHMIBaBf9QYiVksR2QLsSry6orUuy636ALeKK3r2Kicc89tzcjseuA4p0HL+O9914QEQRH1OMHFXsPu0x+Zhi92mX3Sdcdp1STJxUDA9CXPjtt0uCRlX4bdH+2caKK3omPcZOu4wfUQyPaCKR7scuqomOwvARxcTpbtse8xg77NGT9l/j1ubJiKJnj2LX4x57nlDsPqEYGtHEw3fp+b4bAaEk9E0qYgmNQNCpC6pFgbNZblFDpwaNDWi3gIAmltakhvAnDmLzAkRSXhTUKuBKSIxpxk57TJ5RTJ5R7D7jseeUx9iEJhwUOGVBaVlSWPPfK6X9iyJt+89XrYOjNFZCkZpQjB1R7DrqMX7MY/dJj92nNOP7NP1jmmQCgsIE2F+UTqdBfm2Zazeuc/b6dc5eu8q7Fz7iVx+d5625NVbqCkcmSKRG2NXfw3BCgu7QrOVZWlpjKV+n6oVI9o1z6tRTfOPxx3nlzGN847EnePX0cZ7ZO8hwVOI2y6xmVnhvtkDVdlFotKdwWk2q1RLldpuOEMTTA+zZf4wnjh7j6SPHeObYcZ4/fYoXjx/j9J7dHJkYoj9qYWkXpdTN845AEI72MTJxjKdPPcGrTz7JN08c5tSuftLR+0vbk4EQid5dHNh/gmdPHufpQ5Ps74mTRAABItE+9uw9xOPHT/HiqVO8ePoULx4/ytOT/Ywmgrcdp9IKEUsNM7n3KK88/gSvPvEE3zi5n8MjvaRCgU8MVoSQWKEkyb4x9g8mGIwKaFWpFdfIVptUbdBKozoN6uUNFqotSrZAJProHRxhvCdOT8hvkNsuk1tfYnatSK6pEIlBRvcc54XHHuObZx7jG2fO8MpTZ3j+6D4OpGNE3Qb5jSVm5m8wV/Voun5vtsal1WxQKlWo2zaeDJFKj3Lo8DGeOHaMJ48e4+njJ3nx5AleOn6YY3sm2D+WJh21QCm0NkH2w+6TPrcPr0AIK9HHQF8fexN13NoMVz54izdff4M3fnuRSzcKdAiQ3rOL4ZE0wWqWpYsfcu7DS8zmyjRCcWLpXgaj1r0Dj4fG5mnVw+4U2Zi/yLm3f8k//eJNfnu9gR44wN79exgbihG+NTrE2AEiAJG0Jj2micU07Zygmu1Wh7jX+VNLvJqfm1ypQtsDEdckJxTDkx49vRCJQbTXo3dCM7ZbE42CdgXNKlRL3coXHtg1QaMsqLmgBIT6NL2TiqHdilQvRJN+QNg3qkkn8O9y3EN0VDN82mP/sx4HnlSMT2riIYlrSxwPdAyCYQhLsLRAe347XO/WJ1DIzRQaCEfACoKUGiE0SJAhCET8nuXQ5hK9S4UQASIIkZQiOaxIDXuk+jWxuL/N+7pWFGBFNLFdmlQSIsJPw2gU/JQQDz+PvFmBSt5/LTKqifYpP+gPdg8tGxolqBT8ih8yokhNeIwe8egdUsRTili/YmCvZmSfJhbWYAuaG4L6hj/t+83exe4+6n5Dox3hV6epQrvjrxdIKdJ7PSaf9Nj/lMfuk4r+cU3k/uIi4zNqN8osz1/h3Y/e5efvvsvPf/tb/v6d9/jHj6a4kK2QV2HivePs3XOQwyP9DEY0qBaNWoFMoU6ppdFWisHBSZ46dZjDYwMMpxL09g6zZ3Ivp/aPsSsdIeC51MtlluYylByXju5+7rvpFyD81L5Oi2qtxHqtTsX2Byqmesc5cOgUrzz5NK89/RTfPraXY0NJkiHr1qEhBFYoQjzZz8jgELuGh9g1kGYgESW0eYvmkwiBCIYIRmLEYjGikTCRQAD/WSRSBAiFIsSiEeKxGImYn7ccD/mzYd5GWliRGMmeAcaHh9g1PMCu/h56Y/4kOJ/Yom5bIolBDu/qZ6QngkWTZn2D1VKdYtvz00ebdUr5HOvtNk1tkezvY2xkgIFEhIgAtKZdL7NR2CDXaNJGEkuPsXffMR7bO8begRQ9iR5GxvZxZN9eDg8l6At5eO0SpVKGuWKHhnOrvJ8QIDZfq9Y4nRalSomNWp26o9GBGH1Dk5w4+STffPJpvvvkE3zj4CQH++LEPu6EbDwUvr7voBUhmBxldPckJw6mCNsFlj78Jb/42c/4+TsXuVpSyMQgh4/uZfdIhPrSRT74x5/wT29f5UbRIzAyxNCBMcbDAUL3+Z391dehU1li+t1f8qvXP+RcMcHo46/wnT/4Pt985ij7BhP3f3I17ouQEEpokqOaZA+EmoLGuqRUEHS2pCTcRvm5xa2ywO4ItAQZASyBvSGpLEsKS5LCiqRaAFtrPP/8TbsNjXq3pJ8HTgs6db/2tJAQ6tfE+iAS7vZa+9+FiKCfO3zPz3lAEelTJAf9wNwCWgVBfkaSmZKsXpFkpv30h7a6PZf7vmw+cTcn+756otm2/ubyaYQUwQHFwKAmGQXRFDgFQb0usV3QTUG7LKg0wAZCg4rEqCYZv5UqQlvQaQoaDtjSD8Rjafwe5u7FgbAgkNJE+zWxMAQ80BU/h71lg6tBSyDipxj1pjRhBG5esn5VMvuhZOGyxdqCRWlN0nYgOq4ZPuYxcdxjeFwRj349Kox81dmtJhvry0zfmOb89DTnZ+e5ulog31TISJLB4UlOHT3Oy6f3c3goRUxosNs0G2VynQ41JSHcQ6JniN09QRIhgRQCISWhaIKevkEGYjFSGnSzhZPbINfxaGvQUhKKJkmnh+iNxwihKazNc+7D3/CPH53n7akZLi9mWMjXaZBgbPdBnjp1mpeO7+P4SC894Tt7hP2g3W+DFP4U6A/qbg8V+L3Md/nTXWxpiwz4bbvPRwIIgoRCCXZP7GZ0IE3ccmm3q6zkq+RrbWzPoVavkFnP0Wh1UDLFeP8gB4fT9Eb9q2aNS7PZpFqtYjs2CEinkowP9pMKhQjczDGPk0z2MtwfJRkXaGXTaDXJlBu0bNcPskWQaDxJX3+a3ngISzXIZWd59913eP3sRd69NseVpXXmii1qgT4O7DvCs6dP8+KRSY4NJ4kH71kN3HhIbD/evkYkoUia8UMnePLll9jXnyQmHJx2m45nYaUmGDrwHE8eHWfPANCp06hUqLUloeQoBw8d4tTRCRJbr/wfRt0TKEL7PdlOi1pDYA2d4unv/Yg/+R99i+eOjjHa89UYyfy1I0CE/eB2cFCTjghaRUExI2jVtw8F7PLH3KK6taa1C+6GJPeBxdmfBHnvPwR49y8CvPsfgrz7M4sLH0qqVX9dpcBzuxO60B0g2H0SIfwe8FD4AacYdyXNrGDltxYXfhrgg58EOP9PFlfesJh602L6HUk2K2h493hdX0XC7/lOT2ji/RpLCDoNv6Z5pw2dkj+Qsu0ICGkS/ZDqvzXgEQ10wHGgo/y7BQRBdquZ3Aw6BBCGQEwTlRAE0ALXFji2RHndi52wJrlLsf+Mpm9QExZg5wW5ixbTvwhw9q8CvPP/C/De3wS48r5kfU3S7qa23C3AMXaeEALLChAKBQkF/RJ+8ViS4aFJjp94ht999Zv84YuneWI8TV9Y+qde18Npd2gohS0FBAJY4RAh6V+w3hQMEwrHSVth4kIhdBvHKVJqerQdDTJIND3C5N7jvLh/nIP9MSI0qWzMc/bDN/mrf/wZ/91f/QX/1//wV/w/fv46P7kwy3ShRUsJhNX9Lvg6EyCDISLD4+zu7WUsZKHabdbX8uTKFWpOnUqtTDbXptURyMQYQwNDjKVCRDerj+DguB1aLQ/HA4QkHLKIhgLI206cglAwRDyeIBQMo9E0HIdcrYnt+t0MQgRJ9I6z/9BpTu8eYzIVQroN8ivXePu9X/MXP/8J/+1f/n/5v/yHn/Df/P3b/PzqMnOVDm3VvWD+mr9dj4IH+ap9SAiEFSHSt5cDT77GD374PV5++hTHDx/k4IknePrl7/C733uOU3v76AlZBIIhIvE+hieOcvqZF3juqZMcHU0Rfqi7hgRSRgnHg0RiEiEF4cQAE4+9zCuvfZfffeE4B3YN0BsN3FEH3O9B+Bp/PL4wGqQmFFf0TmhSAxrdEbRKwq8ysn31e/FAtaFT92eQ9Bd/UhTb1QTDmkjcz28OBD7m5PygJ24tqS0KMuf9Kia5VUmzASKqSe1SDB/0GNmvSKf9wPBBnuLLIgKKyKgm2acJWxqvDZWcoNWUNAuCRkHgeppATJEa1PT0KQLbUzO2XlV83Iv3s2Ju/qx1N5d689ZyQBHs0Qyc8jj4gsf+xxRDoxAJdEsxVgX1DUlxUZK9KJn9rcWNyxYbeYnzcQNXjR2TSA9x7NTz/OC17/Nvvv99/s3v/z7/xe/9Ln/82iv8wTNnePHwbvYPpEiFt6Qaav9N1vizdt7zIrSbWiClQHRzhjQK7+aMgAIrFKN3eB+PnXmB33/hOb536gDHhhLEZTcVolwkk1tl+sY13j/7Hj99/W1+NbXMjUqH1te+WoUAGURER5gcHWDPYJiw7tAqrbNeKLNRKbNRKrDYdGkSon9slPHhQXojAcKCWwfiPWZg3B4OCKT/Pdm9eNGA56mbnRxCSKxIkoGxwzz75Iv88MVn+M7J3ewbCBPGodWsUSzlyawtM33jMu+8/xY//fUHvHU9y0rN5o65cYyHztc7ihISGe6hZ+woT7z8Lb71vd/ld3//9/n93/0dvvet53nh9CSjPTFCMkRycD9Hnn2NV7/7PV575RnOHBxnMB6846B6uFhIK0w4FiIU9SdECUTiDE4e4vCRQxwYSRAJShCb0936pxUpBMFgAOu2Yv/GgxISrBBERzQ9IxCTfh6ve68e381AuHvuFhKspF9ZZPJJv5LG/me3LM91//+0Yt9JxdiYH2zfTKHoHuVa+zMsunebJXBLoHcH7Q9kLC9K1m50K2IEFen9isknPfY9qdh7RrPnjGZoUBPrlqy7Hzc/X7r7U7cd92rK58LyK64k+zTxuJ/+0chKGkVBqTvZjxIQ7NckBzSJKLdSRbqPlwE//UZowPHTdbxuEH2TA6ojsDfTaeTmhD3Kf6+662v8QLv/gD9Add9THgeeUex/UjF5QjG6W5MIg1uUFKcl2at+vfJme9vzGZ+LcCzFyMQhHjtxhpfP+MtLp0/y3NH9nJwYZCwRIWpt6aIQgGVhBUKEpSCIAs/F7fjl3ramVmnPxWm3aLgObQSIEIFgnHhYdsdLaDylUTJMcnA3hw+d4KUzT/Ltp5/hu888w3eefIxvHDvAiZFeei2b6sYSV65d5DdX57icKVPuuHc/5+yYrVfY/odRd889XxwLIROMDA0xPpgmGfDwmnnWihssZDbIbmyQtz28YA8TY0NMDKZIBjdrkQvAwrICBEPdmuIabMej5bi4t504NY5r0+q0cV1/5rGwZZGKhAhs3hXWyq/0FIgxMDrJ8WOnefHMU3zn6ef43tNP89qZ0zx/ZB9HhhJ+lZLsPJeuXuSdmTmu5GrU7U+deGd8xdzvd+FDyk+GlJEkPaMHOPrEC7z48jd55aWneOLoLkbSUX+6WBklMXqQo8+/xje++QJPHJtkrC9G5KEf8SiRVoRYIkIsHkQGNEq7tF2N0oJgQAAK17FpNtt02g5aK4KBAAPJGOFg8NaADeMzESFFqF/RN6ZI90DQ2gyo7s4K+gMA5WagHdZEhzVjj3nse9bj0HPd5VmPg0977D+j2HvGY+9xzdiYItp9rBWCYFjfDOLsqqBT89Mb1GZQ53XTU+5WE153K4s0BfWioFIV2J6fX9y7VzF+VDO0W9M7qkn1QzTiB5v3c2LZzFW+eQfb86treN223Aw6twerW2jt9wxqdbOz8PYX0X192tuyznbCL+eXGNQke8FS4GwIysuS/Lqg2sBPFRmFZL+6fbIJ4ZczDMc00ZCfBqLagk5N0Greml5eu+DVoVUWNF1wJIgoBBOacNCvfY3nlwusrlisLwpKRYEX1fQeVEw+5XHwOY+Dz3jsfUwxOqmIhf3a2811SSUnaGxO6mN8rqSUfopIdHMgX8yvdxyNEA0F/Zn6bnuEgECQUDRGOhQkJjXSrtNqlFmvO7QdjdIarRRus0GtUqLYblFHQjhCsKefgbBF1ALcNrVynqWlRa4tZVgsuRAf59jxx/nWM8/xu88/x/eefoJXTh3k9HgvKeHSaRZYXMwwnylR7jjbxkv407MrdWvZ7Gy5uYa39e/dtt62xiY/P0pIgZAaUChtY7sujvL8x3UX/+ftj2dbe9ybj9n6d08rPOXhbbbpbudRIUn0DzMyNMxITCK9CpmNLNeWVlhcL9LwLKzkCHuGetmVChK9mSrpB9mRSJRkLEI4aAGKerNJoVyj7ti4uttGr0W9UaVQrtNouUgRJB6OMZaOEwkEu6UAm1SLOW4sLXJtdZ2luiDQt4cnTj/Jt599jt957hm+99QZXj6+j5OjSYLaplFbZz67xo31CjXn874oMj5v9/Nd+PATEhmKEu/ppW9ggIHeHnpum5bVH0ySGh5mcKiPnkSE8LbZpB5OgkAgSnqgn77+FNGAhdtus5ZZYXklQ77aoNmoUtpYZTWzTr7cwFVBwpE0e8cGSCduzcZlfEbdwYupcU16xJ+6+54Hn1QE45pYr1+RxAJUXWDnBc22QFsQiCuiCUUkBgEBbg1aDYHSEAh2Z5q0IBSHSI8mLP2UBicvqGQllYKk2ZA4TUm7ImhUoNnp1te+G1vg2MLvfZcgQn5ljkBYEQwohAKnAbbt9+DeazNbCUtjBbUfaGugJXAr0KhCqwF2C5wmdBrQ6fgB603dwNVtSlplSbMsadX8PGrP8/+ulMBpCto1SbMiadYk7da27XTJIMQGIDWo/dSMqqAwI8mtQcPVWInuhUTaHyB6k/BzraMpTSru52qrjqCeExRXJY0aOG1wWpLamqS8Kmi0BSoAwT5NbFAT7Q5C1Z7ELkjyVy2m37KYfk+ysuAPqAwkFIkhRe+Ex9Ahj5F9ilQMAoDX8V+3bUtMxa+vICEgGCWR7GM0GSUV1OBUqBRXuba4QabUoN7p0GzVyW/kWFxdI1tr0EIQTCbp3T3KUDhAVGi026CwPs+Fc+/xD2++yd++f5kPlstUiJLs6Wd0aJS9k/s4eXAvJyaH6A8HCWiPdq1Bvd6i5agtKWoa5dm0mzVK1QoblQob1TrVloOruleuyqHTaVCtVSmUq2xUqlSaHX/8wW0vEkBiyQCRsEUwrAEH265RKFcoVhpUmi3qrSb1RoNqrUWjY9+eLqcVnt2h2aixUamQK5Up1BrUOy6O9oN2T9m0WnVK1Qr5SoV8tUqt7fjVjbZuC4GVGGR0cJh9vVFios3GxgrX55eZyzXpiCCp0V3sHuhlKBwguOVkLLCIxlL09/fTE40Q0JpqscDSyhKL+QqFZodWp0W9us7qWpbFXJNySyCDMdLJPvYMxIiFJAIPZVfJZWZ474N3+Ls33+ZnZ6f4KFPHseKk0wOMj+zi4OR+Hj+4jzMTvSRCEqFsWs0WtZZN21N32c/Gw+Se3/OPnO4gJa08PNfFdT0/t2r7eg8ZKxylb2wPo2MT9IcjiGaFwtX3+Oidt3jz4iyz05c49+6veOf8NDNZG4dekumDnNzXS38qePttceMzEQFFdFjTM6JJRPzaxnclwerRJMcUg0MQD4NqCcrzkrm3JHOXJRurksq6pLggWP0wwOXXA1z+pWThqqDW8INlEVAEevwUh8GoH5A5JcHGdcnCRUn2hiC36E9NvnJNkq/4VS7uSnYDd0A4Aqfk1+TOr0nqZagsCzIfSTIrkqp3H9VFhF/RJJjQhEN+20RDUFuWrF7zpxIvrkgKixb5GxaFNfyZFrd84+i2pLIoWDkvWTwnWb4iWV/3LxaU9oPd6rwgc0myeEGycFmwtiJptu7Soy38oDfRr0lFQHYE5WVBLS9wLU2wT5Me0MRidxlgGFDEBzS945poDJQtqC5Ilj+yWJ2TFNclpQXJykXJ4rSg0QQZ8icpSo+om1OrC7o5n20oLknWpiUrlySZGb9WumOD1hIUeLag0510SAhNIAjBULf8n/EVI0DGSPUMsXd8gMGeEJZukc/N8/677/LWtTmmsjkWVmf46OoV3ryeYb7UQVkh+nv7OHV4gnS3qgVCIpVNp5phYWWWy9fP89alq7w9s85qvUPL7fYWOw52u0VTubgIZCxKOBYhakkC3VZprek0SqwtXeWDCx/xq48+4vUr01xYyVNudcsT2SXymRnOXb7Ab86e49fnpji/lCfX9nDviP5ChIIxenpCpJICgUe9kefatSnOXZvhysIys8vLXF+Y4/zUEgsbDRpK3wwitWvTruZYXpjiN2fP8vq587xx5QZTGyXKrouLg2NvsLh4nffOn+P1jz7iNxcuc3m9SqHdTcvYykrS3z/I5GgPySC0iznWNjZYbbgQjjO5a5yxdIpoYFuHmhCEk30MD+1iTypJb0DhVleYnznLry9d59xiluXcKlNXL/Le5Wtc3qhQVkFCyVEGR/dxpDdEMuRXINGW9Ce/yWVZnJ/l8pULvH/xEr9dyLPetOkoP+feddrUGzUcpVBCYkVCRCMhIlLePjDWeOhYfwZ/BvBvo1H+9E//dPvfHx1a4zUK5Kbf493fvsc7Hy6wUvSIjaZJ3MdsU/fLtm0WFhaYnp4mFArx2GOPMTQ09LmN+hbCQgSCWG6DTnmdbKFMtVajWsqxujjD9OULXLx0lRvLJapuhJ6JI5x8+Vu8+uQ+RpNBgt3A6vNy8eJFLk69j4yVGdkbJtW7fUTZw0RgFwWVRUmxKOi4EB3U9O7WpHv9YFIEBaoBraKgXhf+BDESYgOKwcOQSGp/EKqlsUJgWeDVBa2KoN3xJ0tpFQWVFcnGnGT9hmRjQVJaE7Rtvw52z5jwe8Cl/4VhSUFQQzHv90Y7bWiXJbU1QWFRkl+QFPP+jIHaL2BAfESTHtekejTBgJ933M75lTY6LYHbETgNQX1NUpizWJuWbMxLKpVu/W8BVhTio37PfTx856Ah0H5vc17QLPsT9Hg2dCrS3+6iJDcvyWcE7YDfWxyLdnuStcStCdYvWyxd8AdiFrOCeknQbguU8gNtrylo5iWVNUG5KnBC0NPnb+e2Q074/1FNQafkz9rYavtpNMEBTd9hj/FJRU/i7seDFRQILehUBa2qoN0U2HVBY0NSWvLfq9yypFoDHYL4Ls3YCb/WeKy7b4TUyADgCRpr/jbadUG7KKisWORmLTJTksw1SXZeUi4KvJAmPqkZPawZGlVEugH7w8puKVam26hynP0j+zk4MUkiHv/czo+fSLt0mhXWl+eYXiuwYUMkNcj4xH4ODPcxEN7+gHvxK5JI4dBpVClVqxQbHZr1CsVSnoWVeaZu3ODywioLhTptwiQH93L86Cm+c2IXw2H/OBZCEBAeyqmztuH39FabdfL5NRaXb3Dx+hQfTk3xwfUbXFxcY7Vi0yHJwWOnefr4Xg4PJkkGu0GldmmVMszNfMDrV2a5sJBhbm2d1UKVSsv284+Vi92ukC9usJRdZ2m9hhNKMjA6SG/Y4vZpFQQWLjhV1ktlbmw0cT2PTqtGsbTO4uoS1xfmuTy3yo2sjdWTZnCoh4QUSAHKaVHJL3J1+hL/cGGWmZVV5tdyZEo1ah0XTyuUsmk2K2zk11nIZFgplBG9uxlM99ATlrf1SIMkIBy/hN9qgXy5QdvTeDJOT99enj59lBNjPaSC24f4C3+ae6kRbp18uUq+2qDVaVGuFslml5men+PijQWm1wrkOwIZH2LfgeO89Ngxjvd3c/KFAGkR0A5uu0y2VGGjUqfWqJErZJmbn+X8tat8MHWND67Pcmk5T7ap0OFRjh06zrNH9rC/N0Y08CV99rtyxSIXZ2fpACdPnWJycpJQKPTlHZMPCevP/9z/vwmyN2lUbY3VK2/y5jvn+OBKiYZOs/uxSfrDgR2bC/GLDrIREimDRKIRYjELtE2rXqNayFPYWGd9fYNCuYUb6mNw70nOPPcCL79whiOjSeLBz3/g4yMVZAcBobFcgV0TVEuCZtPvJb4jyAakJQhGIRjxeyqFB25b0K76wW6jKKiXBbanCQ9q+g8qRg9o+oYU4dCWwC3kp43g+qkFbktgN/1gsNUQ6IgmHIWgFjiuP4HOzSA71Q2yAxpLSqQSeB2wW36pu1bJz9VutUGkNMkUBIW/HR3UBPsgPaxIRu8sGygkSCmw8FM47JbAbXdTPCqCRknQqAg6niDY75e0SyT8Cw88gWoI8tcla3OSes2vVe04ws+9pptSYguclsBuCWwLgr2awRFNIn63YFSD8i8eyjlBqwVaaBLjmpFj2p+d8h4fTxHw93MwKAhKf4p6uy5o1/z3ql4W2DYEk5q+/Yrx44rxfR7plP96ujE+wtLIsCAc9AdXKlvQKktqBUFlXVBeF1TygmZLIBKa3v2KsROKkUlNKqn9ffMQ+/oG2SAsSSAUIRoMEg/6eT61Ro1arcxGqcR6sUq55SKivYztPsjjx07y3OG9HBmMEt68iyQsAoEg4WiUaDBEAJdOq0qhXGBtY53ltTUW1zdYLZWp2BahnlGOHDzJi6ePcHpigMGY33EC/l3bViXD0sIVPlzIsVxsUGt1aHYc3M1bPdrDc2xa7Ra1pk3TliQHR9g7OcZwNOCnod16hQghCQQCCK2xW00a7TYdu02tWaNQKZMvlchXOrRlguFdY+wZ6SUd8INs7bSpF1eYWbzBOzfWKNUb1Fsd2nY3nxuN1h6O06HR9NNO2i70TxxhciDNQNTaFmT7+fOO3aKykSFXqVJTFoHEIKN7jvHC0Qn29IQJ322Av5AErBDhaJh4OERAOzjtJrVajWK5xHqxyEa1SVtESQ/s4djB47x44hBndg/QFxbdqjLCn7o+GCISixAOBgjg0mpW2cgXyOTWWcqts5TLs1psUFVBUv2TnDhyiuePHeTkeC990cCXPhmeCbIfjAmyt9Fo3EaetRvnOHd1icWcRXRwguPPHGA4EvRvZ29/0AP4woNsQEiLYCRJMt1HX0+SSDhGPNnLwPAIIyMjjO7aw97DJzn95DM89dRpTk0OkIpYd+l53HlfryBbozvgdQQ6DNE+Te+Epn9ck9gMVvEDSzQoNMEEpIY06V2agUmIR/Wtk6rUyKAmnIJYWhOO+DMgxlJ+vna8108FSY1qBg9pdh3XDO1SxGJbZm4UfgAYjEIs4fdSh+L+LJSJXk1qWNG7R5GKCWTdn+lQB7qzQE74gVuge4UZiEE4qgmE/Z8jKU2iz29HalwzcEgxsguSPRBOaeKD3ZSIIb8ix/YgezOoDET9mSKDEX9/xNKaeJ+/7WS/P5HPwG4/yI7d3I5Ge5JO3a/8Eenr7ovBbcuAvyQHNakRRXrcr1ce3d6Tjf9vv/fJv5UeSkJySDN4QDO6T5Po8S+A7kqAFdREEhBL+bNZBqIQTfvvVaLPb0/fPs3YMcXYXk1vb/fiaetmJARCmnAaogkIdd/zSNKfzj2e9vd3YljTt1cxdlQzNqlJp/2ygttf08PmqxVkC0DjuQ6dZgtbRon3DrF7fIL9u3cz2Zek59OcroRfYSQeT9KXTJCORQiH46R70gz29jLU18/o4Bj7du/n9NHjPHVwkiNDKeJb0xmEQFpBwpEEfT099CVixCJRErEkfakUA+k0g+k0Q32DjI/u4vC+wzx7+gSndw8xGr9zLgTPadHqtGmJOKmeAcYGBhgfHGTX4BC7hobYNTTI+OAgYwP+30aHRtk/McGBsQH6wtYdKW9CWljBKPF4hJ5YiEAoQbqnl6HeXob7+hjqG2BkcITdu3ZxeM8oE31JEpYfZKM8XKdFw/HoyDgj/QOMDfjP77flVnvGu+3ZNTzMwT0H2dOfoi8s7wxIZQCBQGrHn02yd5jdE3s4eugAp8f66I/cK4gVSCtAJJKkvydFfyJKLBwmlUzR19PLYG8fw/2D7Brfw7FDR3n66EFO7R5gKBYgsPXurwARCBKNpujvSfnvVzhCLJGkP93DYDrNYLqXkf5BxscmOHLoBM8fP8SJXf0MxkNbxo19eUyQ/WA2g2yxOTC3v6+PtbW17es9HLRCeR3aLRvbBRkKEw6HCEqNch1sx/vk3Gqt+P+z959Bdlz5nff5PSczrzflfaGAgi14AgQdQAOSzW6adpK6pTbSUNI80sTMRmzExrzY2FcTMfuseV7sbmzM7rMxz5iWmppWt5rdEn3TNegNCIDwpoDy3t2q6+9Nc/ZF3gILhYIpEGwChfNRHLHJypvIm6i8+ctzz/mf8vQFzr7/a3771hlOjjWxds+j/Pj/8CQ7kmGCNylkZzIZDhw4wEsvvUQsFuPZZ59ly5Yti4rcfzU8p0gxO0dqZo50Jk/RcfE8gTCDBCMR4skqkok48bD5BwnYAM899xzPPf+fMGv72PFogtbO8OJNbiteUVJM+6s5eh4YYUUg5vlLiM//FXsSOweFLNglv9vaCCki1R5m4PKJEsoDryQpZaGUF7g2F8dDCgM/9IYVwZg/vveyv7vKJMHCtKRUErhuZXJgpbqHAaTOSAY/MRibAxVWNN/jsvYej6YGj8D8IE7ALVaOIyf8CiVeJRiGFFbEr5LhFf1eWyUUMgSh+NWHMSgHnIL0a34XBE6lIgf+EFR/31GPULgy7tjPPihbUkxDMSe4ZvlfoRAWGBGPaBSsK4Qj5YBTlBTSYJcFqvIgFIz73w5c6T1c5IBblhQrf1cLyyVKE6yIH96DQc+vZ34FygM3LylVzontLBiPLv2HJSukCMT8fRnzi+Pc5jIzNh+/lMLua+CJHU/w5AMP0Vhf//VNwFYerlMin02TyhUoeGBYYWLxJMlwyK/4sUzKc3HKBXK5LLO5IvmSXxrOqyxyEwxFiMdiJMJBIldaDE0pPK9MIZ9lLlckUyjj2M7FScfGfK95KEoyHicWNC4Nf/5OcEt5stk5ZgplSktMCL6UREiTSDROVSJGxJzvsV1Eebh2kXwhy0w6f/H9uYAUEsMKEAiGScZjJCJf9CQrz8Up5UjnskzlHdTCCRhXIEyLWKKGZDhEpNIjvphbLpLPz/rn2pMIM0gkmqA2HFqwAM0VKIXyyuRzWeayOXLFMiVX4XggDYkVDBMNx0hEw8RD1tLng0pGsUvkCjnmcgWyxTJlx6+MIoWs7CtIKBSjKhYmGjQxxNcfsAFOdHfz3KuvMqcUP/rpT3nwwQeJxWI6ZF+DFQjAygjZCuUUyE8P0dc7xNCsJNLYzpqOBqqDLvnUFGNjc9j+ffnKlIeTHqbv8zd55+AgvXNtbLjnsRUVsi+aL6XkeXiVr/hEZVzcH9pKC9lfuflydgsC11Unu1XCaGlOMHpGEGjyiNVAIOhhCPBcSXlMMnhIcv6oJFMCK+mxaq/Lmt0uddV+9ZLLLDyOax3DMihVKeU3H7IXDKW47VTKB150o+dJfbEvJSr7qUzUXmluuZD9VZsvZ+cqqIy59tviDa9BKTxPobzKakdC+ku1L3c/N9uCkn3+Z4W/fPzXca/58vyVoy6WMBQCKW+kClnlnHigPOWXPBT+AkS3Ih2yb8x8yL6Rj/xbi3Ip5aYZOvUJn7z1Mr979RUOvP8pJ/pGmZgeZejUp/z+hRd4+YUXePGFF3jhSu3FF3n59QN8cHyIkVQR55pdY7cxUfmgM01M08CY/7pOu/VVeneFWWnXuIKVAjstyHZL+j+XXPjU4PwhSf8Jk+FTJoOHJRc+kwz3CbI2iJAi1OQPvYiElugVn7fwOK5xDMshhL9Pafk9v0LcpgGbyjma/3v6MudpPlhXzsl87XRtBagENcMyMAzpr/R4I3+3QiCN+f0YlUmSizf6GlTuNYZhfPEeb4XjuiECpEQa8+f4RgI2UOnYMgyJueDvXVuZbvRj/5ahcCjnphk5e5ozR49z6sQRTp46yYXhKaZnJpnsP82RD97n/Ur74IrtAz48eJTjFyaZStu4elUHbSVwKxU7pgX5GcHEaUn/pwbdH0rOfSTp/tig95RgekYggopIi0djl0dts0fYWgEfEJqmaZr2NVkh99D5r20UrhJgmFhSYODilEvks1lyuRz5YpFiuYx9pWbbON6VVqLStNuPMPxxwNFWRW2Hv5iKAZRnJXMTkkwWXBPCtYraNR6t2zzaNyiqarjqmGFN0zRN067utg/ZggCBaC3N6zewdvMm1m7YxvoN21jXWk1t5IuvYAzTIl7XQktHJ2vWraVzqbamjdb6GNGwsXLHAGp3FumvDhlb77Jhv8umB/yl1+vb/cofiXZFw2aPNfc7bHrIZf12l/raq09U1DRN0zTt2m77kI2QBKP1tO14lG/+2V/zN3/zl/zo6b3sXF1DfMHM4WCslq693+a7P/5b/ubf/Dv+3b+7tP3bf/tv+du/+FO+9+Am1jbGsJac7aVptyHLX5a7qt2lebtH5wMuW7/hsPNJh7uecNn6oEvnTpeW1R7JKvwVCBfvQ9M0TdO0Zbn9Qzb4JXmqW1m1cTs7d26hq7OR6kjwi1rBgBkMUt++ng1bd7Ljrt3s2nVp271rFzu2drGhrYaqmIlxxVo8mnYbqkxUtGIesQaX6g6Xxk6XxtUuNU0e8aRfq/oPWeRG0zRN01aylXNLFf6MXX92tvhiJr8Q/kp10h8CIqW8cjP8mcPyYvmjW6NOpabdVJXybwubpmmapmk318oJ2YsJAxmIU93QTmfXZjasX0tLXYxo4Mrl6gwrRLSmhbY161i/voNVrdXEDLmCT5KmaZqmaZr2VVi5+VEECMbb6Ni+j6f+7Ed875mnuGdDE40xf9nTywiBDFXTsP5e9j3+NN/77qPsv389zQHzpi2prmmapmmapt0ZloqbK4O0MKJ1NK7dyt0PP8QD9+1hQ1stVWHjCkufCmQoRqJ1E5t33s399+9g+6ZmqgPGCj5JmqZpmqZp2ldhBefH+VWVTALBAGbAvI5VsARCmhiBAGbAwFiyy1vTtNuOrn2vaUvT14amfWV0itQ07eocsGclqRHJ7LTELi/e4BanwMlKsmOS1LgkVwC9oKt251Ior0Q2PcHg6Ai90zlyZW/xRrcwhfKKZNOTnD8/QP9UlnTZw9XXtHYL0iH7MgrlOjjFIsViibJS+kFfuzMp8EpQnJZMnjK4cMRguE+QL17e+aUciVOU2AW/OSVwncu3m6c8cEtfbG8XwbX9/64ccBb8zCmC5y3alwJlL/gzi+CU/e0WUy4UJyWTpw16j0lGByTZnA7a2p1I4dkF5qZHOHfuGO8dO877fRNMFeylr1XPxi4VyBcKZPPX2QpFciWbslu5dyqF55YplwrkrrCfXKFEoexe34rLykOV5pgeOce7H33MgePdnB5PMVu0ddDWbjl3Rsj2XJxijmw6RWpmisnJySu2iYlxxkaHGewbYnhoilnXY4n7tqatbAqUDaWUwfRpg76jktELkElByZaXXhMeuAXIjAmm+gWT/YKZUYNcTuI6Czf0KQ/crCQ3KpgZFEwOCKbG/ODr2uDkJJkxfz+T/YLpEUkuB+6CoK0cKM0J0iOCqQHB1LBBOg0lm8tv0kri5CA3Kpg8Ixk4Khkfkks+LGjaSubZRbKzY1w4f4KPj5/i094xBmYy5B0Xd/HGysUtppmZHqFncICz/f2cuY52dnCQnolZJgoenlJ4nk0pN8v4xAjnltj+TP8AZweH6B2fYGR6lqlcnlzZxbtiB5eHZ5fIp6foG+nh4LEjfHyml7NTWdJl9wqv0bSvh1CV+0xtTQ1jY2OLf377Uwq3OMd0/zFOnO5lYGyOuZKDe4XkrJSHZyvwqqhf3cWe7+5hXTRI4CZVGMlkMhw4cICXXnqJWCzGs88+y5YtW5B36Cogzz33HM89/58wa/vY8WiC1s7w4k20r4MHdsogdUHS86lkaEwRXevRscujba1HLLbgCd2TFMYFw4ckk2OCEhCsU9Ssd2le7ZGILtq1DZleg9HPDaYzYJuKQLOiZb1HUy3YE5LBs4LxEf+KCyQ9GnZ6NLZ6xCIgBbh5SfqcwXCPYCoFMq6o3uDSuspftdJYcDkpD/LDJmNHJf0nBXOuIrnZY81Oh9Y2CJhfbKt9vTIzNh+/lMLua+CJHU/w5AMP0Vhfj7z6ZBrteiiXQmacwfOfc+DwCT4ZVwSau3jgrp08uqGJpmgA44uNUW6ZwuR5jpw5w8HBNKmig7rsCfZyZiBCsmUDW7q2s68piOVkmBo5y+HzPRwZyVC0F958xcW5UMFQkEgkSW1tM2s71rCtJUHEkkix6N6rPNziHONDpzjw4Qcc6Mng1a5n57ad7Nuylo11UcJ35u30K3Giu5vnXn2VOaX40U9/yoMPPkgsFkPoa/KqrEAAAOM/wH8A+F/CYf79v//3i7e7vSkXJzfFVO/nfPjWa7z59ju89/FnHDpynBMnTnLy5OXt1MlTnD7TR/+IgxdtZOO962gMWTetjF+5XKavr49z584RCATYuXMnDQ0Nd+wv7LFjxzh2+lNkZJamNUES1dbiTbQ/NAVeUZIdloyekAz0C7xqj1V3e7Rv8IjHWFShR2DPCWaOSobOSibHBbmiQMUUiVpFfGHIVuCVJDNnDfo+MhgbFszNVbZtdUkGBaVxSd8JycBpSXpCkM0KiCtiVYpI2A/QXkGQOW8wcEIy1CvIFkBWK6rqFNHwpStXCgFmyMMyBCojyUwJ0jmBCkKkThEJ6gV5bhXlgsfQuSLebJS1TWtZ395BLBq9Yz8fbyavnGFq9AKHjx/nk/45cvE1bN+6g4e7WmiLBTEXnWLllClO9XDk1FHeOdPLmaFRBiYmGZqcZHjS/+dSbXQuQ8ZIUNu0mq7qANLJMj3azaenTvPe6V4ujI0zeHE/EwxNTjA0MUbvyAg9I+MMzqSZLoMMxYmGLMJmZXG4+QMTAmkGCYfCVJtFpmemGJ1Kk7YNzGiSpqooUV0V7KaZmJnh2PnzlIBt27fT0dFBIBDQ1+Q1GP/xP8LKHi7i4ZYyzA6f5Og7L/Pi259zsj/FbMFDiQVVRi6uFDm/yiMIIRGmRFoGxk0K15p2u1CuPxQj1S8ZHxLYhqJum6JhlUc05PckX0J4WGFFsgkiVX5gtYuQTwmK+UVDS1yJygmKGUHOAcevtkm8ShFPgrlEr7JThPSIIJOSlO0bG+IhLYg2ejR0edQ0gJkRpHolI/1QKN/YPjXt9uGSnxujv7+HI0Npxt0aOtpWs3NNE03h4BXK2i4iDGQ4QW19KxtXraZr9dJtU3s7axuqqQv5vdCX3UANEzNWTVNjG5s6VtPV0cHGtmY66uMkLJvcVD8njn3I8x8d58hwiqniEpMahcAIJ6lbs4371rWyNuGSmRnm1Pk+uqdz5G/wc0LTbraVG7JVmXJxkuHuMxz64ATDMzlsM05VXRNNDTXUxkNYlkUwXkddcxvt7a20NFaTDAUIWhaRZIxEbZyoIRd8haZpK5+yJfkxwcywIFMCWaNoaFckKiF48T0TwAhCrEURTvghXJXAnhUUclCeH5NWGUttzwmKs1B0wJNgRjyiSYhE/F7qxftXJShNCOamhF8Z5ApDva5Kgox6RJo8GlsV0ZCgOC6YvmCQyYGzeGKlpq0kbpapiRG6e4cZzTpYtU2samtmTVWIqCmuLwgEwlj1nWzeuZc/ffyb/Pk3v7Vk+9Fj+/nuXRvZUR8kYC7ogZ5nRQg3d3Hvnof5yRPf5M+/+QQ/fvRhntm1hV1tNVRbNvm5CYa7D3K4d5S+VJGis/jqFAgZIBytZ03nWlY3JIiUZpkYH+T4cIqpont5MNe0r8F1XVu3JbeMkxlnbHiQUwNpbCNBU9de9j7+bb79jb3c31VPdU01dZv3su+ZH/HjH/2AP/rWPnavbqCxKkp1Ux1N7Q1Umf7XTpd9UGjaSuSBmxdkxgRzU+Baitgqj6paj/BVhlXIAITqFNGEIiRBlAVuWpDPQLH8xWREz4FiSpBLCWwFBBRWjSJSrQiZV9i/JyhnJelJQXoO3MtmaF0fYUIwoahqVcQTCpUVZEckU1OSYskfyqJpK5GXm2J0YoTu6Sw5FaShoYmOhjqqAuZlw0SuSJoY0VoaWjvZtmEdO9ZtWLqtXUtXaz3N0Sss/CYtzEQjbavWsH39enas38BdXVu4b9sO9m1azeamKFI5lOfGODcwweB0hpzjLHF5CoQZJNHQRntdLQ0hm1J6knN9Y4yk8xQ8pYsWaF+7lRuyHQc3O8dsOs2oHcGKrWPzPfvY99jDPHTPFja3VxGJRUm2b2Hrvft57PEneOKxh3h491pa66Io5VEqO5dXKtC0FUy5EictyM4IcnkwQ4qadkU05vdQL3XPBMD0MJKKZJUiFgETcEqQnRXkc1+EbLcMuWnIzwhQYAYhUq+IJj2sJXqx57klyI4JMpOS0lVKA16VABnyCNV5xOKKkCcozwnGh6GUX6IqiaatEPmZUcYmxxnPgwrUsqqhjraaMIFlLbgmQBpIaWIYJlbAWLpZBqaUSwdsKj1W0kAaFpZlYgUCBMNx6uuaWNfewrqGJAEhAJd0KkUqk6N4pSpfwsQK1dJcV01TMogo55keGaR/LkvaUbpM502y1Kgf7fos5wq7vXguXtmmbDvkCREMttPe3kxLY5JkPEIkHMKQBsI0MS2LQDhBdeMq1nStpqEqQGlqjOGeQUZyNvaCr7s1bSVTDpSmBbmMoCwURkSRrIFA4Aq9zPMkiKAiVuuPrTZMv251fs7vzVauX4XEKQk/eGf8UGsFPRI1lRC/1KeRAGGAcAT2tCQ9Lkln/OEdN8QEIwbRuCISALsgmBuS5PLykhKBmrYyKKDE9PQ0EzNz5JWFEa+nvipJbdjAWuqau6IvPgCu9lFwPRZ/lgghMAyTSDhMOBK5OO9D2Q6u6+JcsZyfQMogVVVJahJhTEqUMuMMTGeZKbo6ZGtfu2VdYrcVAUKCEMof7iH8/yikQTAQJBiJIBGUswWKhWJlApZFKBohbILIzZJNTTOR87hsOJimrVCeU5mwmAXPADMGkTBYxrVvrEJ6fq90rcIwwXMEhVlBIS2xKwvbOGlBLivIuaAMhRlXxKsgFLr8xguAATKqCEdBepCZEEyPScqlGwzEAmRAEUxAIAaUwBkV5HKCog7Z2orjgcowncqSmrVxpEkgmSQRDRMVyw0ACuXalEsFMvkc6dwSLV8gWyxTvlKN3KvwPJdiqUSxVMarPB6IgIlpmVgLq4ssIgxJKBIlGo0Slh6OnWZwOsN01sbRX09pX7PlXWO3E2EgrQChgEVMlLBLo4yNjDI2mSXnWZjBMKZdJjPcy2BfH4Nj44yPjzM+NkUqW6Bs2zhOGUfPntDuIJ4NpTTYeQEWyJgiYHmXVxRZgjAgWKMI1ypClkKUBeUZQT4FJccfPlKeFRTyUFJAWBGohUgcAsYSIVsApiKQVFQ3KSIhKM0IUoOCbJ4bfvgVBgSifhMeqJz0J2jaehVIbSVRfpF4O0s6W2Iu7+EJk0gsSjQUxJJXDq5Lcmy8bIrJ0X5OXrjA8e4lWm8/p8dmGM/Zi1/9BaXw7BKFfI5UJsNsJkNqbpaxqQl6R8cZmkpV1rEwiVYliUfCBA155bAiJEYwQjQUIW4IcEuMptLM5ko4N/ohoWk3yRV/b297loURq6a6qor2YAk728Ppzz7is+MX6EsLjHCCOmxKQ0c58uHbvP7m7/n9ex/w7qen6RmdI+9JDDNAyLrOmdeatgJ4nqCc9Yd6KMOvGmIZ1/lBIcBIKCKVetaWApX1h4zkCv6450JKUMoJPL9YAbEGRTgG5pVK+EgwYx7JVo9oAkTWX7kxlRKUb7D0nhBghcAK+l9Tew4Uc1AuweXL3mna7cwDO0+mVCLnKDAkkaBF0DSvPGb6StwS9uwQPWeP8sann/Dqxx9d3j77nLe7R7gwV1786i84ZezZUfr6uzl85gwHz5zikxNHeefwEd45cYFToxkcYWCFqljVXEdzTYyIYV7lgUAiA0EigTAJITEcj+xsmmy+gK3cpcdya9ofyHXdO29LRhAr0URrWwfbOyLI8jj9pw5y9EwffdkA4eoWOuskkVwPZw7+nldffIEXX36Ttw+ep3+qgBeOE62uoSF0lQkcmraSeBJVhnJRYDt+j68M+MOurosAghBJ+uX+ggFQjqSY8cdgl7KCQkpQzvmbWyFFslYRjnhXuYGCrEyOrKpRhA1BYVYyOQLFwo2HbMNSmAH/1coDxwbPvbH9adoty/MgnyNtl0krBdIgbJkEDYNl9mODZ+NlJxkd7ubQmVN8cnqJdu4Cn49MM5y9WsguUprs4eTJQ7z68ce88tGHvPzRR/zu4Od82D1KXxbMYIKWjq3sWd3MmuoIIesqxypAmAEswyQkBFJ5UCpjOw5lrjSWW9P+MK739nkbCmCF6mldv4ld+zezujFGNFAZ6BWopqZ5DZt3ttNaFyJQnGFmqI+evlGmsjZeOEnV6k5Wd61lddzCulpVBU1bKVx/3HTJA9cvJIBlLbH4zFV5hKog3uD3VCsP8hlBPiUpzAkyM1DMgzAVVkwRq4LAVUoDAiAVVtyjqkGRSICTg5kBSTotbnwC5GJqQdO0lUABroJinrRdJosHUhKxAlhLrfp0LdJAhuNU1zSxtrWV9Uu15kZWV8epDV5l/56Dk51mZKSfExfOc/x8L6cHRhnJFnGsCNU1zazt3MLDDz3Ino56WiOSq2Xsy1SuY0/5b19f0trXaQWHbJBWmEjzFjbu/R7ff3w3uzavpq2+iqpwmETTGjY+8CR7d+9mR2cbrU0N1Nc30NiymnWbdrN3zy4e2NZGJGDogK3dkaRRqfixzAsgEFVEajwCIYVwoTALmWFJZlIwW4QCIOKKYKMiGoXAVe7H88wgRBsV8XoIlAXOiGB6ErI32JutaXeS+UvYEGAawh+etczrGitKoLGLu/d+i3/7xz/gf//DP7u8fe9p/vX9m7mnObb41V+QBkY4QXV1Pe2NTaxqaqKjuZm1qzrZsWUXj+97lB89sZ9vdSZoipgYV30C17Rb24oO2QiJDCVItm7lrsf+hO//8Z/w7Yd20NWWJByronrVDu576o/5ox/9mD/5/nd4+qln+O4f/Ql/9P1v8ti9Xayti2ItrxtP025fFyvy+Pdfz62srrjMFCsiimDSr5cdFODNSrJDktSkJFcQeMJfFCbWqAiFvOv6EBIWWDWKZL0iGRZQFGRS/iRKXUBA065AAIYkICUB/GvZdpU/oX+5142UiHCcRHUj7U3NrGluurw11NFeFSMZvMpVHYgSbtvKAw88zrNPPcVfPf00f/nUU/zFNx/nj/ftYf+WdXQ1VVMbMgkY4urfcl2FWNA07etylSthJRAIYWBFqqnr2ELXlu1sXtNCU3WIgBEgEK2ndd1Wdt63l4ce3s+jjz3Kww/dz727NrG2rZZ46GqTLTRthZEgAn6lD6MSsu0bqLghTAgkIF6tCIaAor+QzPSooJj3h3+EEpCs84ejXNc1JsGMKOINHrUNCtMUuAVwneU/BFw0/7rKw4W+I2srivCDMYEQYcMiJCTK9SjYZcqOewOXjUBIE8M0sSyLQDBweQtYBCyJcbXOKcPESjayalUnuzZtYvfGjezeuJGda9ewua2JVbUxEsFr7GMxpVBUVngUIAyBlAJ5ldJ/mvaHsMJDNheDthEIE4pECIcCBOYvXiExQhFiNfU0ta9i9ZoO2lsaqEtECQdvYPb1MogbfTzXtK+K9BAWBIIKy/DHaLvlSm/2chgeVlQRq4VQFPAExYwgMw2lEoiAIpJQJKu86xoqMk8GINIIyXZFNADyBsdQKwWuDY49/zkAZgAMaxmTPDXtdiAEhKPETJOYEKA8imUH23Vv4OKZv2eJ5U+avIQf1i0rSDgYJBwKEQ75/zsUsLAMubx5IAqUZ+O4LiWl8IREhgJYpkFAz6fSvmZ3zi1FebjFHJnpUYZ7z3PuzGlOnzrLmbNDjM8WsA0LyzQwvTJl26bsKv01tHbHkdKvH20EKutYlMFxWV4ZLAFWWBGp9cvzGZVFblwblFCImCJc4xGL+itDXi9heFhJj0SzR02VWlZAX0gpcMsCt+T/b2EoAmGwrrWqpabdboQEK0Y8FCJmgOe65Ms2RcdZQfc3D69cIm8XyCgP15RE4jFikTABIXXI1r5Wd0DIVnhOgXxqhOHzn3Povd/x0vP/wM//+3/hv/6Xv+fvf/42Hx4bZqZcpJidYKL/HBd6hhiayJG3vWU/62va7UxailDSn7woyuBmBGVbLi9kAzLoEaxSJKIeEVnpTVL+2OpAjSJc5xE0l9nLJEAGPMJ1ivoOv5d8Wa+vUC6Uc2AX/MVuzKgiGvVDuw7Z2soh/DqcVoKqRIhkzEAqh1w2R65QpOStkPJ2SuGWiuSLRbKuQhhBmquTVEWCGPqrKe1rtsJ/AxXKyZOb6OHMO//MC79+nt+88BpvvfcRnx46wpGjxzh6vJ/BsTS5wjSTPZ9x4OWXefE3b/D+Z+cYSJfQCz5qdxJpQrha+QHWFdgZQbayGuKyLgUTzJgiWg2RyBdlAA0L4g2KRN31LdV+GQOCSUVylUcsrm5oSJdnC0oZKGYBC4xmv8pJcP5hQNNWDAEiSk1VjNqkhenZlKdnmc3kyXiVMcy3OeW6FHJZcrkCBc/AsJKsqo1TG7Uwb+QDQtNuohUdspVbpDDVR//nb/G7N97m7Q8Pc+zcICNTGXKFIoV8kVK+TNnxcO0cmekhuk8c4/DBj/n48+Mc65uhZK+EjyFNuz7S9AjWKCJxRUCBm4fZGfzVFZeRsoUBZlgRr1fEavwSfIalCIYViRqIV1+l11j4w1YMEwzDLyV48ZNKgAxDqElR26CIR8G0KttdT7nBssTJCLJzgmzJn0yZXKUIRT3MGwn9mnZLE4BFTU0NtTVJIsLGzkwyMZdmuuhxrdubEAJpGJim6Q+nlBJj2cFVIITAMCWmZWIaJqa8WSspKzyvxNzcHNPpLGURJJRsZnVtnJqQcUMP4Zp2M92c3/NbkoNdmGHy/FE++/3v+ejsNCk7RKJpNeu6NrChs4nqkFW5CAXCihJO1NNYHyAoZhjp7eXs6WFSZWdFPO1r2nUxwUz6wTgaAbckmB0W5LPLrzJiBD1ibYqGbS5tW13atnm0dnk0tChi4SuEbAOsKo+6NZXXbPZoaodo2MOYX3rd9AhUeTRs9OjYXtlug0ddvSIcvMrkRVVZbGdKkE4LShICCUVzuyIS0QFbW7miNU001TXREAbpTjM8Nc3ITJGyc6WLWiAMAzNaS2vbenZ3beX+zRu5d00jqxOBZQVtYQSIJBtZ07GBe7ZsY+/mjexpq6UpZi39GbAcysEuzjA2OcPYbBEViFDT0saq6jhVAbG8CZSa9hW40u3o9ucWKWdG6Os5z8HD42TKBvGWzex48Em++/2nefqhbaxORAgCCIEI1FDbso4dXS00Vxm4M1NMDwwzVHQp30BJUU27LQkwIop4kyJZB4YtyPZJZmckxfIygrYAGYJwq8PqvS53fcdlz/dcdjzmsarDI3ylWf9Bj0ironOfx57vu+x5xmXrHpfqKjAXDOcwoh51Ozw2POly9/dcdn7DYe0Gj0QMjCt8qinXX9p9dsTvySbiEWtW1NZ5hILX0QuuabcpEWugpbGJjXUxYqLE6PgoveOTzJXtKw6JFDJAqKaTHbsf5cdPfYe/ffpJ/vX9XdzXHCO4jPRqBKPUtnax975v8Nff+R7/5ulv8q/u7mRLbRj5pVK2QjklclODDEymGC8YhOK1bOhopCkeJqjL92m3gCvcjlYAx8bNpJiZmaI/p5DRGtbcdR977r2bnZs6aKtLEDaNL06ANAhGE1Q3NBCJhsDJUszNMlvwrj9YaNoKIEyPSKNHTZtHIgJqTjLWI5mZlssbmy38uttW1COS9Fs47vlVPBZvO68yuTEQq7wm4RGO+ENHFr5GSDDCHqFEZbs4hEJXqVbigZs1yA1LxocE2bIi0qRoXO8RD/kr4V3xmDTtdifD1Na3sr6zjfaEhUgNMzAwyLnJHHNlb+lva4VAWEEikTjViST1yTi10TBRSy6vB1pIjECYWDRObdLfT00kSNj6cpU/lFcmnx6n+3wPfZMZSqFamls62NZSTW14mWUANe0rsnJDtufglQsUiiXmlIkZqqO5o4O21npq42EC5uV1sIUwMcwAUkjwXByvTKm8QmZga9p1EgYEkoqqdkVDK4SFYK5bMn5BMDsrse3Fr7jFKXDzkuyIYKJbMDsLIqmo7fRoaPUIXu+COJp227KIJBpoa1/D1vZaWgJ5Job7OHZhkN5Unrx7O93nFHhlipkpBvtO81nPOCMli6rGNjatbqezJkxYz6/QbhErN2RTuRYVuEiEkBiGgWEYCLnEUq1K4ZSLFDJZyuUSHv6kjyuO79S0lUr4JfiijYr6dR6NTQoxJ5jqlkwNC/KlZdbN/popBcVpQapXMjEqKFuKqjUeTasVyXhlwqSmrXAyGKOmYRWb161la3OCSHGcnt5ejg1NkSrYt0/IVh5ecY6Z8V4OnurmzIyDrGpl/Zo1bG6rpy5sMT99Q9O+biv39iJMpBUkaFrEsHFLc0yPTzKTylKwKwvNzH+qKIVn50lPj9A/MEJqtoBnWFjBCJGgHtel3XmECVbSpXq1R/sWRVMT2BlIT0GpuIwhI7cCV2LPCnIpQTmgiK/xaNvk0dCse7G1O4iwCMfqaF+zmd1dG9jeFMK0ZxiYzJIuurfPg7Py8Owsc6kJTg/byHgLGzduYte6DtZWR4kY+p6t3TpWbsi2LGSimtqqGjosDyc3SffRzzlxupv+8RnS+TK256GUg13KMjt+ge5Tn/HJ5wMMTtkQriNZ30xbzCSg6+dqdyBhQaDOpX5nmU33uDSvV0SrFAHrNvvgEB6BOMTaPBq3uay/12PVGo9I6AoVTjRthRJGkGhVMxu27mH/PTvZt66OttowEUvePr2/QiLDEaJVzaxt2MhD9zzI49u72NaYIBn8cuO8Ne1mu63ulctihAnE21i1toO7tgYxyTJ19h3e+MV/5j/9p//O3712kAvpWTLFHo6/9wt+/v/5f/Of/+EtPumZIiuD1HS0sHrTahqD+qsn7Q4mwYhAYpPHlr0e67o8Eje40uLXRRgQavFo2eWyfpeiscHDsnTA1u5MQhgEI9W0d97Fo/c+yLc3t9IaC9w+17SQSLOG5lXb+M7TD/PY1lWsqYkQMXXA1m49KzdkI7GCVTSs28bOvfvYWhclrnKkJ4YY6Omjf2CSuUKBsjvFxGAP504NMDg+R44I0cb1bNiwiR1raolY+qsn7Q4nQIY8wjGPSKXSx22lMsbcivnvwQrogK3d2YQwCIRiVMUT1EWCWIurANzSBEgTKxSlti5BMhIguNQ8K027BazgkC2QVoho3Wo6dz/OIw/fx471zTQkghjKxS7buAIQJexSiXIJjHAtDWt2sGPPA9yzYwNrGiJYug6Qpvnl+MyrLPRyqxP+sesbsaZVCIGQEilvx44kfxVJaVSO//Z7A9od4na9ZV4fITFCNdR1bOPebzzJo48+wkP372bX1k1sWruG1W3NtDS30tqxjrVd29lxz1727n+MRx/cxc4NTdRErBV+gjRN0zRN07SvwgrPkP7XSmakhvrO7eze/xTP/PGf8MMffJ/vPfUET+x/mEce2s9jTzzDd/74h/zgh3/Mdx6/l10bW2lIhAnoXmxN0zRN0zTtBqzwkF0hJEYwRlVjB6s3bGPrrvu496H97P/GEzzxzW/w2P693H/PLnZsWUtnSzVV0QCmDtiapmmapmnaDVrBIVuhlIvnOJRLZcqOg+OBkkFC0SpqGlpoWb2WNetWs6q1gfqEPzv5tpr/oWmapmmapt2SVm7IVjZuIcX0aC9nT3Zz4cIwYxOzZIplbATCMDBME9M0MQ0DKW7HyR+apmmapmnarWjlhmy3RHG2h+7DB/jn37zES797l/cPnadvPEPB8W6vFes0TdM0TdO028rKDdl2CTs1Tv+5Y7zzweu8/tpLvPruUU4PpMjbzuKtNU3TNE3TNO2mWbkhWymU7eKUC2TzWTKZNOl8maLj4ulubE3TNE3TNO0rtHJDthBIS2KaJiEBQorKShR65LWmaZqmaZr21Vq5IduwkOE48XichqDEQIHr4rkunlJ6TLamaZqmaZr2lVm5IdsMYCWaaGltZ3NrnIj0UPk5ctkc+aKLq8eMaJqmaZqmaV+RlRuyZZBArJH2dV3suXsDjTEPL9PL8OAg/cOzzGULFApXacUSpbIev61pmqZpmqYt38oN2QpQBmaknro1W9i+rpa4O86FQ2/z5qsv8PLrb/HWu+/y7pLtAz788CjHzw0zbbt4i/etaZqmaZqmaVexckO2V6KcG2eg5yyfHephbLZINpdlevAsxz9+mzdeeZmX/+VFXnzxRV66rL3CK69+yCeH+pgqOziVzK5pmqZpmqZp12Plhmxl4xSmmew/y+efHuFk3xQzuRKFQo65qVGGes5y9vQpTp86xanL2hnOnu2jf2SWrKsXrtE0TdM0TdOWZ+WGbAAUSrl4SiDNMOFojHg8RiwSJmiZmKaBYSzVTAxDIqXwq/5pmqZpmqZp2jKs3JAtTIxgktq2tWzbcze799zN3dfd7mLnro1s6KwnYUgMXV1b0zRN0zRNW4aVG7Kl6VcX2bSHh595mqeeeZpnrrs9yZPffIB7d3ZQHzRX8EnSNE3TNE3TvgorNz8KCyNcQ01rJ1137WbnXbu567rbDnZs38C6jgaShqF7sTVN0zRN07RlWbkhG4EQEsMMEgqHCS+3hYIEAwZS6KEimqZpmqZp2vKs4JCtaZqmaZqmaV8PHbI1TdM0TdM07SbTIVvTNE3TNE3TbjIdsjVN0zRN0zTtJtMhW9M0TdM0TdNuMh2yNU3TNE3TNO0m0yFb0zRN0zRN024yHbI1TdM0TdM07SbTIVvTNE3TNE3TbjIdsjVN0zRN0zTtJtMhW9M0TdM0TdNuMh2yNU3TNE3TNO0m0yFb0zRN0zRN024yHbI1TdM0TdM07SbTIVvTNE3TNE3TbjIdsjVN0zRN0zTtJtMhW9M0TdM0TdNuMh2yNU3TNE3TNO0m0yFb0zRN0zRN026yOydkK4XnOjiOi+Mp1CX/vUy5WKBQKFIsO7gLf65pmqZpmqZpy3QHhGyFcssUs7PMTo4zPj1HOm/jeaCUi1PMkp4cY7i/h57eXvoHx5mcyVIoOng6aWuapmmapmk3YIWHbIXyihRSo/R//h4fffAun5zooW+6QNlx8UpppvuPc/TDN3nzd6/y6iuv8rs3f897h87QPTxLtuTpHm1N0zRN0zRt2VZ2yPZcytkpxs+8x1v/9N/5xS9/wysfn6R7LEO5nCM/dYGTB37Nb3/x9zz3i1/z/D/9kn/8Hz/nf/z6Nd44fJ6BuQKuTtmapmmapmnaMq3gkK1wihlmLxzh2O9f5O2zU4zlXVwlkHjYmVHGz3zIgSN9nBgt40gTMxTAcHOkh49z6vgxjlyYoWB7i3esaZqmaZqmaVe1ckO2KmEXJxjt6+XY4XHmigZWpJqqRIywpSimxhk4fYrRiRRFI05N6zo2b9vKhlXVxMgzMzBI77l+xks27uJ9a5qmaZqmadpVrNyQbZdwMuOMjY1wZtJFhlvZeNd93L19LZ11UEpPMnBhknRWEWzcwLp7vsGTTzzGE3u3s64hikxPMTUyymjOxfa4qWOzlVIXm+M4eJ6H67p3ZPM8D6XAU6A8heehm2663cHN/zxQ/uei5+HppptuX0ubv/6UUijP/1ZfqZuZhlY+oSr5sbamhrGxscU/v30Vp5jt+ZjXXn6V//zPF4iteYCnf/wM++5aTVtwiqFDv+c3//1FDo6WCNz9Hb7x1NM8s0lQ7P+Y13/7Lp+cLhLe+gBP/e2PeLQ9RkSCWPxn3IC5uTneeustXnjhBSKRCD/84Q/ZtGkTQtyMvd9+fv3rX/P8S/8NWdPP1r0xmldHFm+iadodIjPrcOj1OezBWvZvfoTH7n2AhpoahFy5/UGadis7feECv37rLbJC8JO/+AseeeQREonEHZtZrpcVCMCKDtn5SWa6P+DlV17j//vaBM2bn+Ev/upx7u+qJpE9x7H3fsfP/uE9LqTDrH/yR3z7+0/xYLtDYfAgbz33Cu8fnsHtuo8n/uanPL4mRvQmhexUKsWLL77IP/7jP+I4Dvfffz+tra0YhrF40zvC+++/z4cH38SIT9HeFaS6Mbh4E03T7gQKijmX80fyuFMJtrVvYceGTSTjcdA3dE37WgyPjfHxyZOY8Tj/6i//kqeffpqqqiodsq9h5YfswhSp8x/w8suv8b++Okbj5qf48796gns3JIhMHOHgWy/xX18+w1S5gwf+5E/47vcfZEtVnkzPx7zxD7/j/SOzsPk+vvk3P+Hx1TevJ3tmZoZf/vKX/OxnP2NsbIzm5maSyeQd+wvb39/P0HAfgYBLXUOUaDS0eBNN0+4Q5bLN2GiaQg6qqgLU1iQIBs079vNR075OCshli8ykirS1r+N/+p/+hh/8yQ+orq7W1+Q1rPyQXUox1/cpb778Cv/br08TWH0v3/rRt7l3Q5LQyCccfOsVfntojnzsfp75s2f4zje7aPKmGD32Ni/+9n0+7fao2vYg3/03P2Bfa5TwTQrZs7OzvPDCC/ziF7+gVCpxzz330Nraesf+wn788cccPXSI+liMHZs20lJft3gTTdPuEJl8jo8+P8KF6XMk2xya14aIxKyb8+GradqypSZLDJ32aE5u46//6t/wzNPP6J7s67DyQ7abITt2kk9ee5n/8fcHGAw1sWb33axtjhCY7ubC6ZOcnYsQ3fx9/vj7+/nG1hB2/wmOvPcmb3zSQ1+ukc57H+PHf/0tdtSFCYib8zmfTqcvGZP9ox/9iM2bN9+xv7C//OUv+d0LL7Cmro6n9+1jw5o1izfRNO0OMT03xy9e+Rc+GXiPui0lNt0bJ1mre7I17euhGO4p8PmbRarYybN//m/Yv38/8XhcX5PXsPJDtipTTA9y4f3XeeUf/ok3BksUjCABUyA8B7soMGs72fqdn/JHj21nk3OeE79/iTfePcypKZCt97Dn0af46fd30h4N3LQyLJlMhgMHDvDyyy8TjUZ59tln2bJlC/IOndjz85//nJd+8xvW1dXxvf376Vq7dvEmmqbdISamp/m7l37Dh73v0LCjwOYH4lTVB/SQbE37mgx15zn4WoFqtZtnf/q3PPjgg8RiMR2yr2E+ZK/cZCcsAqF6WtZu5K4HNtBSEyLglijm8uSLHoTqqW/bwd1d7ayph9xULz0nj9M7maMcrqFtXSddm1ZRa1kr+CR9/eYvVOH/y+Ifa5p2BxFS+p8D+qNA07QVYAXnR4EIRIi3dtG172mefnAr29a30drcTHPrGtbt2M3eb+xl19om6gISIUwMM0y8sYPVW+9n167tbOtIErb0p72maZqmaZq2PCs4ZIMQBka0lrrO3dz7+Hf57h//KX/2p3/Kn/3pn/DH332c/XvW0V4dIWQGCCebWbV9L3u/8STfenwv923toCUZROqMrWmapmmapi3Tig7ZIBDSIhBroGnjHu7e+xCPPPoo+x95kL27N7O2MUEsKBEyQKx+Dev3PMLevfu4d8c6VjckCFtSf2upaZqmaZqmLdsKD9lUgrZJIBwnnqyluraWmpok8ViYkCUqIdokUl1Pc+c6OtqbaUhGCQcM3YutaZqmaZqm3ZA7IGR/QeHhOiWK+SyZuTlmZ+eYm8tRKDkow8IKhwiYfu+1UotfrWmapmmapmnX544J2corU8pNMzFwmmOfvMPbr77MKy+9xmu/+4zjPVPMeR6eW8YuZMjlCxTKLq4O2pqmaZqmadoNWPkhW3m4uQnGjr7Oq7/6e/7+Zz/nF//0W1545RVefe1N3njzGKd6ppkrpZkeOM6HL/4zv/2n13nvcA/j+TLe4v1pmqZpmqZp2jWs6JCtvDKlzCgjpz/mzdde58033+PDT49y4swFevsG6O8fZmhompl0gVIuxdTgSQ5/8j7vvfsO7x8+ycmhOcq6O1vTNE3TNE1bphUcsl3ccpbZodMc++Btfv/JGc6PZSjICLGaGmpqogTwcB0X11N4SqE8D0/lyMwN0NPdzelz48yVXd2brWmapmmapi3Lyg3ZqoydH2e4+xSHPjjBUKqAijXR3rWLex64l3u2d9IYDWHhrzQow7XUtqxj69oa6iM22ZERhnqGGCs5OIv3rWmapmmapmlXsXJDtmvjZCcZGxnhzEgW16qiddsD3P/IYzz+0G52bWilNmz5IRuBNMMka5pZtaqV6ngIrzBHemqCiZyL44EeNKJpmqZpmqZdr5Ubsh0HN5chk80wbpsYkXpWbdrG1i0bWd/eQG0iTMhYsNiMAMMKEIrGsawAuDa2XSBfUjpga5qmaZqmacuyckO256IcG9txKGAizSjJZIxYLIRlmRjy8tUcPeXiug6uVxmFrSpN0zRN0zRN05Zh5YZsIRBSYgiJhYvnFinkC5TKNp63RO+051DKp5menCafLeIhMU0Ly1ocxTVN0zRN0zTt6lZuyLYsZCROPBajUdjY+UnOn7tAb/8Ys9k8ZcetrOro4bklytkJxvrPcfxoP6NjOTwzRiRRQ0NcYq7cs6RpmqZpmqZ9BVZufDSCWMkWWltb2dpqYJRTDB56k9d+/Sv+x2/f5t0T/UwWCpSdacbPf8g7L/4jv/zlSxw4McSYIwk2N9G4toPWoD85Uvdna5qmaZqmaddr5YZsESAQrqV1/QZ23tNFY1iiZgfpO3WITz76jIPH+hjLZymUR+g7dYiPfv8Jn53sYySrELEWVq1dS9f6JhIBYwWfJE3TNE3TNO2rsILzo0AGYyRbNrD5/oe5/64NdNSGsdwC6akpJidSZO0StjfLzOQ4IyMp0raJVbOKzq672L11E5tak4QM3YetaZqmaZqmLc+KDtlCBAkkWmjpup/933iEfffsZNuGVbQ2VJOMRoiGQ4RCQQKhGPHqJlo6N7P17gfYu+8+7t7WSWtVCKkztqZpmqZpmrZMKzhkVyqMmGEite2s2/0w+5/5Ht/5zlN869F93L9rO1s2dLJmzQY2bdnFnoce55vf/R5/9MxjPHLPRjqbE0TNy8v8aZqmaZqmadq1rOyQDf6URRkkmGxmdddO7t63n8eefIZvf/9P+MGf/ogf/fhP+cEPvs93n/oWjz/k92C31ceJ6ICtaZqmaZqm3aA7IGTPEwgjQCheR33bWjZs28mu+/exb9993LtrCxvXtNCUjBDU4VrTNE3TNE37klZuyFYK5ZUpF4vk8yUcx0UpgRASwzAxA0GCwSDBUJBgMEDANDCk0AFb0zRN0zRN+9JWcMgu4+ZnmBy6wMnjpzh79gK9A+PMpAuUllrxUdM0TdM0TdNukpUbsu0ixcluznz6Ks/97L/yn/+3v+Pv/+k9Pj4zwkzRxlu8vaZpmqZpmqbdJCs3ZHtl7NwMYwNnOXT4IJ9+dojPzw4xmipguzpia5qmaZqmaV+dlRuy8cdle0rhAUoIRDCAYZoYQo+91jRN0zRN0746KzdkCwNhBgiYISICpBQgdLTWNE3TNE3TvnorN2SbFmashrqaGjqiJhYK5di4jourJz5qmqZpmqZpX6GVG7KNMFaylY41a9mzqZqI6eJlxpmZSTGTsym7CqWu1RbvVNM0TdM0TdOubeWGbGFihepo2rCTex57iHs6I0QKg/SePM7xk30MTefIF0uUSku1MuWSjWt76C5vTdM0TdM0bblWbshWZZzyLKnULMOTLuBSzo8zcOogH739Gr977VVeffU1frdke4M33vyUg8cGmSq7utyfpmmapmmatiwrN2R7ZcrpIXpPHOTAG59yvG+WVCbL7EQf5w69x1sv/BO//tU/8stfLtWe5/nf/p53PjnPWNnGQXdoa5qmaZqmaddv5YZs5aLsPNmZCYYGR5hIlynaDo6dIzs7zuhgP329vfQs2fro7x9ldHKOnOeXANQ0TdM0TdO067VyQzYChMSygkSiUaLR6MV/Xk+LRIOEghaGvydN0zRN0zRNu24rN2RLCyvSSPOGnTzwxBM8/sQTPHHdbT+P7t/Drq1t1FqGDtqapmmapmnasghVGW5cW1PD2NjY4p/fxhTKc7HLZcplB7WscdUCISSGaREMWcibuEJkJpPhwIEDvPzyy0SjUZ599lm2bNmClCv3eedqnnvuOV58/nnW19Xx3Ucfpauzc/EmmqbdISZTKX724vN82HuAhu0FNj8Qp6o+oNcR07SvyVB3noOvFahWu3n2p3/Lgw8+SCwWQ+iL8qqsQABWdE82AiFNAqEw0XicWDxO/LpbjFgsQjgU0Euwa5qmaZqmacu2gkP2PIEQN9oW70vTNE3TNE3Tru0OCNlLUArleXjzrbLCo6ZpmqZpmqbdDHdYyFYoz6FUyJKenWJqYoKJiUmmpufIFMq4ng7amqZpmqZp2pd3Z4Rs5eIWM8yM9HL+1FGOHPyYj957j3ffeYd3DrzL+x98wEefHubIyXN0D0+RypUp68CtaZqmaZqm3aAVHrIVeA5OfobxC4f5+PXf8Ouf/4yf/eznPPfLX/FPz/+G3/zm1/zqF/+D5372X/mv//0f+PUrH/HJ6SEm5gqUdNDWNE3TNE3TbsDKDtnKxSlMMdFzmA9ffom33n6fjw8d48TZbnp6Bxgc9NtAfw8Xzp7i+JFP+OidN3jr9x9z8OQQU9kSOmdrmqZpmqZpy7WiQ7ZbLpAe7eb0h6/x9nsHOX5hgumChxGMEIknSFQlSCTjJOJhImEDymmm+k5w9NMPeO+z4xzvT1Fy9aLqmqZpmqZp2vKs3JCtHOzCDKPnT3Log8OcTzvY4UZa1m7nrvv28dD+/Tyy/1H273+U/fsf4aH772ZXVwctMYWb6uH88eMcOjbITMlBx2xN0zRNu3Ppir7ajVi5Idst4GRGGR0e5nR/GVvGadhwL/u+9QN++JO/4M9/+lN++uOf8JOf/JSf/PRZ/vzPf8JPvvcYD25pozEM5clJJgeGGSq42HrIiKZpmqbdsXQM0G7Eyg3Zjo2TnSGVSjFUkpjhOjq3bWfLji42rGmnvaWFloutlVWrN9K1ZSe7t3fSXBtFODmK2TlSBQ9nfu15TdM0TdM0TbsOKzdkey7KKVOybXLKxAgmqGmsp7YmTjRkYRoSKSvNMDCCEWJVNdTXVxOLBjFwcdwSpbKO15qmaZqmadryrNyQLQQIiRBg4OF5DuWyje24eK66tGdaKZSnsB0Xu1zEdct481vogViapmmapmnaMq3ckC0NZDBMNByiRpZxCmMM9F6gp2+YidkshZLrL6fuuXh2kUJ6irGhPs73DDE9m8OTJlYgRDgoVvBJ0jRN0zTta6M78la0lZsfA0Gs6iaa61vYGDEgO82F917jjVdf442PPudU7zCjYxNMjY8w3n+O0wff4HcvP89v3z/DuXEXFWmgqqmd9riJtXLPkqZ9BRRKXakt3lbTtK+MWtBuBV/38Xxdf+7V3IrHpN00Kzc+ihCBSCNt69ez+742qqMCJzNC35EDvP6r/8b/7//1f+f/+j//n/mP//P/jf/L/+M/8b/+/EVe//g8g9MlRLiK9g2dbNnaQVPQwtAPm9qtSCmU5+G6Ls4ymut5/rc4i/f3pSmUXSCfS5OanWNy5vI2NZdmrlCirOtial8lBcoDz6k0j6s/4C13+1uccsDNQz4lyc1IchkoF/339Qen/ONx8pBPQW4GcnNgF7+GfKlv5Nof2MoN2UiMQILqVZvZ9vAjPLClhbZqE1FMMTVwge6Txzh+9HOOHj3GsRNn6O4bZSrrYUQbaNu0i127d7JzXSNRS+jrUrv1KA9lF8hlpugbGeXC4PD1teFResZnGM8Wsd2be4tTnkMpNcDpk5/w4ntv86u33rys/fb9j3j3wigDObjJf7ym+Txw85LshGR21CA1ajA3ISkUWHoFXwVOXpKfNJirbD87IcnlwHW+hiD4ZTngzklmz5t0f2Bw4m2DE4dMhkckpfLijf8AlP/3MX3WoOddi1Nvm5x5z2R0SFL0bsPzq2nLsIJDNggjQKi6nfatD7P/scd4aO8utq9ro7E6QsD0g4qrFJ40CcRqaVq9hZ33P8KDjzzIPdvX0VETxpI6Ymu3IOXgFWeZHLnAu0cO8eahz66zHeb3Z/s4OZ4hW3YW7/XLUR52dpLBgbN8evIY7x79nHePfs47nx/hwJFD/P7IId47cZKjw9NMFq8QeDTty/LAzglmuyVDhyS9hyQDpyQTk1AqXx7qPAcKY4KJ4/62PYck/T2C2TmJ7d5+nZ9KgVMQZIYlw8cl/Uck/WcFk9MC21689R+GfzwGI0clfUckAycE09MCW4dsbYVb0SEbIZFWhGjDWjbufYrHv/UkT37zUR7Zdz/33bOH3Xv2sOfuPdx9973ct/ch9n/jSZ586kn237uNTa3VRIPGbfcBq90hXA+vlGFqvJePjn/OgcOHr699fpQPzg1wZjpLzrnJtzchkMEoiWQtbfVNrG5uoqOxloaogWkXyOdzZPIF8mVH31y1r4wCPBvyI5KJk5LBzyV9pyRDw5We3EW/eMqWZIYlo0clA4cN+o9JJscF+SUC+W1BgXLBLUMpLyjmBMWCwLG/pgdbzz8mz4ZyQVDKCcp5cO3b9Pxq2jKs7JBN5cZvhohUN9O24S7ufvAJnv6jP+PHf/GX/OVf/SV/9Zd/xV/95Z/z4x9+j6cevZ/dXatoq48TDRnoTmzt1qVQnoNdLpLKZEhlMszmy5SVJBgKEYuEr9BCxEIWIcO86b/fQpiEqlexect9fOfhR/mzxx7lTx5+gMc3tbMmbhI2br9eQe32IwwwLQiFQCooZgXZacH0mKC0+BsUB1RekJ8VpFOCfBpKeYUZUIQiHsbKv0NqmvYVumM+QoQwCIQSJOtbaetcz4ZNm9m8eSubt25mc9cmNqxdTWtjFfGgRDpl7LKD47p8HfNENG3ZhIEZbaCjcyeP732IP3rkEX64VHvoYb63czP3tFaRDJiL93KRUv6EStu2sV0X17uOyiBCYoSrqK9vY31HB5s7V7N5TRtr65LUBCWmuPGIrZTC81wc18a2XZwbnLy5cD+O6+/nmu9rCUopvPnzUzkepVeGvWUYYUWsURGuAsMArwjlMUGhyCXfoigX7LSgkBEUXPCkQoQVsSpFNAbySpfI4omSzvImSip1ebvI8ycKevYX+73artX8sSzY/kZdfE/z+7qBG+DF41kwgfSmHNP8/hZvoGm3sDsmZIPfqy2kREoDw1jcJEKVKWUmmZoYZXR4nImpLHn34rI0mnbrEhIjXENTaye7t25n38672LfzLh5c3LZv4/717WyoixFZVJtSKQ/PtSmXimSyaSZnphiZnmZkapapbJ5sqUzZvUa4FQaGFSAQCBAMmIQsi4ApMW/kk6YSiO1ykXw+Qyo1w9jkNCMz04zNZZjLlyiWXWxXXeNrcL8evlMuUShkSaWmGZucYnhqhsl0jlzlfblXe1/MH4+NXSqSz2aYnplidGqK4Rl/P5lCiVL5Oh9ItK+OABmAYI0ikgBLgiiDMyPIZCWl+SCqwHMkpRTk58B2QAXAqlfEqiBscfm3PZVKGW4J7Jwkn5KkpyTZOSjmwSlfOwgqB7wy2PlKK4HnVsJk5b/nU5LstCSbgkKl9/2yfSpQtl9FpJCSZGYk2bSkWKxM2LzsBVewxHvKTEvSM5DL+FVAXPva+1OVISFuQVKYlWSmJNmU9L89cJc5VOXivqCUluSm/WPKZaBUOZ4r7u9K/13TvgbGf4D/APC/hMP8+3//7xf//M6hFF4hxczASU4cP8Pp89PMFg0SrbXETXnTnkbK5TJ9fX10d3cTCATYuXMnDQ0NiC/Ry3c7O3bsGOdOn6Y2EmHTmjXUV1cv3kRbiufgFlKMjA/zce8kRQesWDNrVnewvaOehliYUMAiGLAILG6WgWkILv2Vc3FKOVLTY/SNjNA9NMj5oWHOD4/TNzHNRGqO6WyBvAOYFkHTwLjqr6xA4OE5RVKj/ZwfHGYo5+IFotS3drKutY22KFfeh/LwygWy6SkGRoboHRmme3CI7uFRescmGZlOMZXOVMoBSkwrgGmIy0MRoNwy2fQ0I+Oj9A4P0T04SPfwCH3jU4ym0qSyBQpKIg2TgCmRYomKQsrFKWWZmZ5iYHSI3qEhuof8/fROTDM+M8tMJsdcycbGwDItLGOJ/WhXlS8W+fzcaQZn+4g2OtS3BwlFjUW/q9cmpMJzBYVJQXZSUCgKFILwKkWiWhEO+gHazQvmeiTjPZJ0DogoYus92tZ61MS5bLiIV5IUZiSzo5LUoGRmSDA9IsjMCPIZSakk8FAYFkjpLzx86Q4kXl6QGZNMDkrSM5K8LTCEQuUluTHJ9JDB9IBgZliQnhEUCoJgUmGYlYWM8Xu7vaIkNylJDUimB+XF4yhmBOU5QW5GMj0uKJeBKkVNm6K+QREKLjge5e9n/j3NDElmBiWpEcncpCSbEhSyAtsVYFTe1+L3NL+fgiQ/JUkNCqYGJDOD/vGXcoJiVpIeFaTHBSUHjKCiZp2itk0RlIuGkXl+UM+OSFKjBtODgplhyey4IDMtKGYkZUcgTIVZOSfzyhdMPvkHi4//2eLUWyajQYfODv/4CqMGJ34V4OPfWJx4w2TSVLS0KAxjwZ+toDhm0P26xeF/sfj8VZOTb5qcOmAy0C0gAolqddnvxUJeUTJ92OTIbyw+e8n/s069ZXLmA5MLJyXlMoRrFcHA4lfemtIzNiPnHcK0sHP73XR0dBAIBO7YzHK9jP/4HwEQ8w/ItTU1jI2NLd7uzqE8SlPnOfPer/nNm6c4MVpH5937+eH/7gm2JcME/Q6SLy2TyXDgwAFefvllotEozz77LFu2bEHKq1y1K9hzzz3Hi88/z/q6Or776KN0dXYu3kRbil2gPNPDZ0c/4f/59ilSRQg3bOfB++7hj+5ZQ0csiLX4NVeiPOzSHJPD5zj8+SF+f2aEvrkyZe/Sb3HMaCNr1+/ggbu2sqejnpaohTF/01+KsrGLKS4cfpdXP/iUj8ZL2NEGuvY8zrfuuZf76iGw1K+98nDLOWanBzh5+ii/P3KG7lSJjO1WjkeiPBBmkGRtO12bd7Jv+0a2NMRJBiTmwgNSNpmpIU6fOc5HJ89yZHiGVMHGnf+5tAiEa1i3ZQ8PbN3AXW01NMaCBOWCgKw8nGKaqbELHDp2lA/P9NIzWyLn+t+lK8//TtAIJKluXsPOTdt4cMtaNtRGiZhLB39taZOpFD978Xk+7D1Aw/YCmx+IU1UfuDysXgcnbTBxRNL7mcHQKNiGomavw5ZdLs0NYJlQnDQYesfgwhHJTAGsBo+2h13Wb3OpiflBGSohsizJDUlGTkgGzghmUwL74i8SiCCEGj2at3p0dDnU1oAVWHR9FCX5YcGFzwzOHJU4liK0wWPDeo9YTjJ6SjI+KiiWwEUhTEWkXrHrX9nUVUNI+jdtryDJDUr6PjPoPyfI5Cs3cglWWBFLKCxZGYdeAFZ7rLvXZfNWl6pE5ViUH2ZzQ5LR434Fktm0wFnwngCMmKJqnceq7S6tnR7xyKKHB+U/fGT6JENHDAYvCFKzleMxwIoq4rUKURDkRgV5R2ElPNZ+02P9fS5x84uv1JUNTk6S7Zf0fGAyPO735FcuNZAKI6RIdira7rbp6IRo6IvgXzxv8tm/mAwMV7bfafNnP1JMfWLy0b9Ichffm2Ltj2x27fSwKh+Uzpyk722TYx/4pQWXJCC62mP7Mw4dHd4Xvx8VhSGDw39v0T916X9fTEQUq/c73P2Ye/2f01+Toe48B18rUK128+xP/5YHH3yQWCymQ/Y1WAH/KWqpW9ydSyk818EulyjZDuWyHpOt3U48lOfiOg627S7ZHNfzhzMseI1rpxnpOcaB997j1eMDnE8VKCEwrAChQIBQwMRQLqXMOOfPHObdTz7jo74JRorXGqZxY1Q5R3biPIePHOT5D09yfCJL2hEYgTCJaIyaeIh40EA6OVKTfRz5/DNe/+QEx0fnmCt7lWNSKK+Emxvk8Gcf8tbBY3w2MMlU3saVJpbl9+gbXplCepzuEx/xxsHDvNM9xmi2fEkNb1WeY2L4NO9+9AlvHunm7EyBnGcQCERIJpIkYxHChkSVZ5ka6ubgoU958+g5zsyWyDnXGIKifWWkpYgkFeGkQpr++OvMtKCQk36QLEvcjCCbE+RtcKXCDCuSdYpQeEGQrITIbI9B3ycGPSckM1OCsoPfm2r5vaGqCPkR4ZcNPGYwnQJniSqZSgkcR2CXwM4LCmOC4YMm3Z9KhocE2TyUHXBdgWsIvITCMsCYP5aiJDsk6ftE0n9GMJcBx/MDrWEolC3ITktmxv0/Y0nzwbhf0v+R5MJxyfSMH7ANy5/4aVp+oHfSgpmzkr5PDYZ6JNlFQ0eULcn2SoY/Mxg4J5hJgaMAU2GYClX2e+7npirj3hcexwLKBnvWYPKEwfE3DPoHIJsDl8oxWf73Y05WkuqWDHxo0Xdeks1fpeb+gGTguMHHv10YsH3S8M8ZgJeWnP9ni0/fu0rAxj9vuV7J4edNus/KL8I/oIoGx//u0oAtDLDCEAhe+q2IGVXEWtUtH7C1L+/2D9lK4TklirksmfQc6bk55m6wpTNZcoWyv0jH1S40TbvlKLxyjrmZCfqGhjg70M+ZgX7OXtIGODcyzUSmSGl+roHn4BVmGJ0Y48xEhpRtEYyvYsvme3nm0Sf4ybe+yU8f28c3NzbRHgWnMMPg2CBH+8cYnM3jXmug5rJ5lIpZxkb6OdfbQ+90HttIsmbj3Tzx0OP86RPf4idPfIMfPnIv+9c20Bp0KWcnGBjp49joFGPZEk5l5pVTyjLafZjPL/RyZjLDnBsiUd/JXTvv49uPPMoPHryXJ7Z1sDpm4OWmGBk4y8nzPZwcS5MuffG+ipkpRobOcXpomP5MGRFvZtPWB/j2o0/w4yee4M+/9QQ/uH8n96+qodayyaYnOds/xKnhFHMl+8oBQPtKCQOsKohUKwIG4ArKY4L8nB+QnZI/rKKQhZIHhMGqU8RiEDQrX10qUCVJaVIwekYw3CtIp4GIR80ml84HXTY/6rLhXpfWVYqIFJSmBRMXJCMDkkxu8VEt4oA7I5gbE8xlgaAiUquI1/st2qgINyhCRmVolQvlOcFcv2RiyN+/CihirR6r7nXpesRl0x6PljZFyPSPf0kKvJwgNymYmRYUHIWs8qjb6rLhUZft33LZvt9l3UZFMuxXYMmMCcYGBanUgvHQDrhpQWpQMDokSGdAWf7xtN3r0rXfZeM9Li2tilDgKl8HV3rVZwcEo6f9EoqFMgQaPJp2uKx/yGXzQy7rtnvU1YNREmQGJSOfSyYnJMXyFcZoz0gO/4tBVvl/thnyH7oicUWsGkQlAaU+NTl2dMHBGRBr9mje5NG62aNlvSIW+eLHpRHJ2Q8Mxqe+OMXOGYO+6S+2MWOKuq0umx512PygS8cOj+b1HokaRbxJ0bpGh4w7wW0/Jlt5BfIzg1w4fZKTx89wrqeHnt4eepfZenp6uHD+HOe7z3JhME3aTlLX1sm2+9fTFLKY/8z9svSY7EvpMdk3aPGYbNvzf0GdArnMDENjI/SNDNOzsI2OM5QBGQiRjIYIWwZCuXjFNFOZAnNOkGRtPavaOtmxcQN3rVvNxtYm2muT1IkMo7NzjGUKFDwLEaqlvaGWVVVhAlcce3wjY7I9CtkphvrOcbJngPNZQSjWRNfWHezZsJatq1pY3dhAa02CKsPFxYBAmFg8QVV1I6tq4tSFDaQqkc+Mc/zDD/lkcJbxokmkppVNXdu4f+tm7lrTxvrmWppiFlZ5lvF0nkzBxpZBQtFa2uoSVIf8Ovn51CB9vSc5MjTNWFGSbFjN5k07uG9jJ12tTaxqbKC5KkDYVChhYQbCRGLVNNbU01EbJRY0MO7Q63u5btaYbAAhFLiC0qwgOyrIFQWeLYi3esRqBWZZkBuQjFXCsFWjqF7v0bbKIxapfN4rcHOC7HmDwZOSyUmBF1TEVnm0bVO0bVLUtygS1X4wL2cEpTlByREQVMRrFPGqBb1ZjsBOC6aHJVOjAs/ze4uNuCLRpmhY59Gw2h8/XdOG/89WRX2935utHEl+VDJ5QjI2Jii6EGpQNG73WLXFo7FDkazxQ7mbF+Qywu/lXjwmuzLkpJgVlDxFsEqRaFc0blS0rlPUtiqSNRBUUJoV5PKVhWOiilg91FYppPR7sYtjkrGzBqMjghKKQL2ifpNH53aPhlWV/Zj+AkH5tMD1lhiT7UBxRjJxzmDkvGSuAIQ8GrZ5tG/1aOlU1DQponEwHf88ZzICtwyBRkU0qQhZwKxk+KxkLnPxtwCn7Afexq0e7ds8Wrd5tK5RVHd4REIgcgaHf2GSml8NU0BincvmZ1y273fovNtl1RZFWAlSfYJyJVWX5wTBFqhr9MdoZz83OXvhi1/UQKvHlm/abLjLo2G9R9sOl44uRbIW4ms8WprUFT43by16TPaNmR+Tffv3ZDtFctM9nPz4AK+/9CIvvvACL9xAe/HFF3jljQN8cHyQkVQRR3c/abcT5eEVZ5maGOD42dN8duoUn17WTnOod5T+VO6LqjnCQASTtLSu5b67dvPorl08vLWTrsYESUuilIfCIpmIEQ2HMKTAcx3KhSL5oo19lc6yL0XMD7MQeJ5DqZgnWyxRtBVKhojE61nd2cXu7Xexb+c2Huhay5bGJNUhAyk8lFOgmJvk9ECa6ayNa0SpqW9l8/pONrc30lZXQ2NtC6s7OtmzqZWWRBjTKZFNzTE2MUOqUObiPVeBQKIQKMCzyxSKeTKFIiUPpBEkWd3MurVbuWfrdh7avpUHNrSzoS5MzJLI2+JWugJJv5RfKKmIJyrjdkuQTwvyOSjlID8D5Zz/OxyIKZL1imD4iw4V5fkLqMyO+JPubMcfY1y1SlHT6pJMeoRiHtE6RXW7oqbWD3teHgrjknxWUr5Gh6UMKOLtHq27PNbe69G5x6Pzbo/O3S6d2z06VnsEK2O7lSMopgXpaSgX/QmesSZF/TqH2iaPeLVHvFFR1aKorgPzSpPrBH6pwhaP1h0eq3d5rN7i0dA43+sPSkAgCoGYP7TC86BU8P/c+S+wPKcSwmcFdhkIQLjJo67ToaHFI17jkWhQ1LQrkrX+vpe6GpQtsVN+PfNMHpQEWaOoa/eoafCIxD1CCY94o0dd5QFAKCjnBLNTUMj5x7cUI6Bo2++w+3s2Ox53WL/HZfUDLnVJPwDZFwxGL4ZyEAmP9j0eHZ0eZqWEo4x4tO1zWd36xXaUBZMDgmLR/9dg4tJPwtKEpPd9i+7PDbKV3zEZ82i6y2HtJm/J86CtPLd/yFYOTmGWmdFhBnp6uNB9nvM31C5woXeIockM2aKLd9O/Bte0r5gwMa0A0UiEWCRC/LIWIh6yCJkLFqIREiOUoL62ibXNdTQlQkRFkXRqhO7ebo6dPc/n5y9wamSG6XwZ11OgXFSlTvX8VMSbR2AGQsQTSWqSUSKGS6kww/nu0xw8cZxPu89zsn+Ynok5pr0o1Y2r2blpKw9s3siuthoaowEMQDlFypkZzuccMq5AWXESVbW01cSpiQYIGn6pwUi0msbWZpojYeIovHye7GyamWKJUmVWuBWMkkjWUR2NEBIu6ZlRzp49xocnT3Gwu4fTg8P0TxUoyASNrWu5a/NW9m5ey5bmJIngzV/0R7t+wvSIJCHR4C9QgxLkM1CYFRTmBLmUoJgDDEU4pkhUfzERDgBX+j3CKUEh54duKcHwBE5GMjcqmRmRpCYgl/ODqWEAtsDNCor5SydHXkaAGYWaDkXTWpeqeo9YlUd0viU8IgsmGirHL6l3cXiE5T9EJOohGPLrekvTwwoprLC6OBziMgJk2CNc61LVqIglwBL+UJeZXsFYt2T0vGByzO/Fdiv1rl1VKSdYueyVB6Vs5UHFAyuoiNYq4nUQCPjnSloeZkT545KvcC14DhTTgmLWf5DBBCPuB9nidOU8j0q/Wonj1zMHvzRgLi0oFiTeFUZ5Gm0eW+53ScQW/8Q31ytYuNp8oFoRq3UvnUBdGeNfv+7Sz7v0lF+2ESC4waNxwZASlROMHTY48YrJwV8FOPy6ycTMFz/X7gxXugRvI8qv7+u4uLbthwAhMaSJaS6zSQPzip9KmnYLEyaBeCsbuu7n+994kr965tv89TPf5l8vbE8/w5/v28H9HbXUBqwvLn4Bws0wO3qWDz56i396/TWee/0tfnXgXf75vfd48aOPeeloD+cmMxSdpW5jN5MkGErS1Laers51bKoKEpIlUhN9fH70IK8ceIPnXvkX/ssLL/DffvcBvzsxSG/axjMsQkELy5B+f7NTxi3kmFYuRQAriGWFCJp+9ZGLzxiWhRmrpsYKEAOkW6JczjJXdPx6ykAw0UDrqo3sXtVCZ1UIw8kxMdzNwUMf8s9v/o6/e/Ff+M8vvcJz73zKO90jjORcTCtEOGhhLKxSov3BSen3MEbrFZbp/73nU4LsuCA7I5jNQcEDoopADcSiftWRi/xnSsq2X+FC4Q9rGD1scPJVkyMvVtpLJsfeNui9IEkX/F5Vz/XrOS+u1nEJqZARRSTpr1B5tdJwqEoPs1fZv1CIqCIQV5fX9BaVdhUCwJYURiSDHxmc/J3B8TdMTr5jcvY9g+6PDM4fl0xN4PdSL0WB8oR/TMqfABqOQnBB2IRK6cGrVCJSHri2wKtMqlRlsIclve8bHHtlwXl+xeDEx5LRYX+ojQIcG1z3ynW8o2tdEqHF//ULpdylR2WFLj9+ACE9Agk1P1cS8GuvF8oSBYhah7u+59KwMMwrKE4JRo9Lzh8w+PTvAnz4gslcfsE22op2tUv6tiMMg2jjGjbc8w32P/kdvvPt5bRv8/QTD/PAtlZaavyau5p22xACEUxQU9/Kxs51bF+/nh3r17NzYduwlm2rGmmpjhC2KoMYlINXmKL73Alee/9T3jlxjiO9wwzOlXCCCRqa29m4qoPNrbXUx4JYf4BuWRkIE69dxZYde/n+Y4/yvV3r2VxvYTlpJidGuTDQx5ne8xzrPsEHn33AK+9+yGuHLnBhOk/OrSwE4yk818P2y+76n3RSIBCXfugJgZAWQSHws5WDq2xsb75KCchgjJqmDdx990N878EHeGJrB51JiVuYZmRsiO6Bfk5d6ObIyaMc+OQjXnjvI9441U9fzqV4jYVJtK+YATKiCFYrEpbCxJ9omB0SzE4KciW/qkigyp9wGApdWlVk/h/zDX/aA7kJQWpAMtn/RZsaEqTn+GKxG//X8NpMP2wv+8oSlfcn1fJv5Aq8nGT2guTCp5LeE5LxC5K5WXCDikiTR80qj/pmj9jCUobXIvzJhDf0MTF/rioPE15akB6RTC04x5MDkukx4X9rcPEcC/8rhCucBSN05XC/FLFUffOKyx4U3AWVTQRU77C5769ttu32CC5M44BbFKQHJYMfGnzyK4uxBUNUruRKDw7a7WPp38rblJAm8cZ2Nu55iIe/8SRPPvXUstq3Hn+Q+7e00lztjz3VtNuJEBJpmlgBi2AwQCgYILCwBQIEAgbmgt5V5TjkZgY413uGg32jDOcF1KxmU9ddPHb3PXzznj08fvcuHtvcweqaOIEbWrpxuSRmMEZdwyq2b9/No3vu48n79/HM3r08fe8eHr+ri13tddQaJXIzg5ztPsn7J07w8cAkI9lypZyZibRMwqJSpct28RwHRyncBfdzPAevVCDruhQAhYUpgoRNY8EiFQaBcJKm1rXctWM3j997H08/sI9vP7CPb9+3h8e2rWdbU4IEBeYm+jlx9hQHjndzZDDFXNG+vqClfTUEiIDfm11bB8GA/zV+dkwyMyLI5fzUFE5CvFYRsK51U1SEqxQNW13W7nXZuG9Be9Bvmx5y2fSQw9q7PRqb/Yl9V3W9t5r5HDm/vSegKHDLAnepFSGvQjlQmhZM90om+iWZPMh6j7otLp17XNbe47Jmt8uqLn+ceWBxve9LqMoP/d5lx/ZXnLxhAoQFwTaXtt0uGxae5/lzPH+eH3BZ3+VRXa2wjBv7ls0IX/rvTulKPffSr+O98D9VQdT6Yny1sCDW4bL1R2W+/X+0uedhfxLtQm5ZMNUt6fnEuHRfS7hS2NduH9e6/G8vQhAKJ6hpamfV6jWs6eykc+31tTVr1rB6VSvNdQmiQVNXA9BuX8v41fU8h9zMBJNT48wUbWwzQFXLBrZ17eD+rvVs62hlTVMjq2uTJMIm8jofPlXl//z/vSgAKP/nVJYxv+Rnnk0xl2JkbJgzA0Ocn8qSCbewcdPdPLH3Ib7/yCN8f98DPL1nOw90NtAUMbGLKcYnhzk1NMXoXJGSUmAGMCNxmk2DiFBg5yjmMszmbYrzdX4VuKUS+ZlxJkolsghUIEQwmiAZDlQW/iiRy0wxONTP2aER+lMeMrGK7Tvu5emHH+aP9z/M9/fdz7d2bWFnew01AbDzKQYHhznbN8lMwaasu6O+PsIflx2MKWpaFFYIhOeX8ZubFpSKfgiPViniSTAX9j4Kv0kTApY/1loAZtyjar3H6r0uW/Yvao+4bNrnsnGvx/o9Hs2tHuGbWQxZ+pMQjcoCLqoIxTTk8pdO/JsfwnElyoNS2i/hVyyCEopIm0fTNo+2LpemVR61TR7JGkU4cpWebAHSqhyPBMcWFNJQyCy4ritDbq663LwEIwgyUOktNkEmFE3bPb9836LzvPkhl017XTbu89iwxaWu2sNYOMxnGapaLv0WoZwRFOf8ISALeQ6kBi89EaG4vwrmYkJCoNZl3XfLPPN/KvPAI/4qoxcVBNkRyVxl0qS2cl3p0rktCUBKA8sMEggECQavv4VCQQKWhWlWgsSKOjOatjSlFKVygWLZry8thSQaChILhwgFTH9FRrdEtlDwF2e6RrescksUCznSmSyzmRwzmRyZkk3JrQRv5WGXC2RzGVLZDLOZLOlckYJdGZ7hFMjM9HPs80/4l7fe5B/f+5jfnR5ltCgIhJPU1zewum0t2zZuZt+mdjrrIlh4lEtFMukc+VIZRwmEFSYcb6CrKkgyAMKeY2Z2jN6xKUbn8uTLZYqlPHMz0/T1DjCcy5ETEiMeI1FXRV04QFiA8ApMjVzg4Kfv8y+//z2//vAIH/ZMM+NYhOM1NNQ3sWb1BnZt2cSuda20xoMEXIdSNkd2LkfOcS/tOdf+4IQEK6JItPqLzEgBng1OpUqGjHpEkopodImgZniYYUWiThGNgpSCclGQmYFSHkTQIxjzK4wEKysPlrOVSZLCQxo3OHRiKQKEpQhGFNEImKZfbSQ3JZkekuSz/qTIUl5SzEIx748LX5KSuLbAKfrhUUh/LHIg7GFWHijwJHYRyqXKqqZLkAaEEhCM+69xy5CZkKTGJNmcfzx2QVKcExRy/mI3S10LhgWhpEc4rgiYlTHZo4JsGkrKQ4Yq5znqEbD8CZHltKBQ8lddlNaN9/qGtjg0Lhiz7U4KRs5KZjILJng6kB2RDJz5YjskNK5SBCqvddOS9JT0z9eCNykjHqu/U2Lnhkvfuef6Y8m1lW0FREmJYYYJxxIkq6pJxKOEAhJ5A1eckAZWMEIskaQqGScWC2ItHoOlaSuMNEwMw0AKgWeXmZsYoX94kJ7xcQbGBznfc5q3j/ZwfnyOsl3pjvIUanFPtHJxspMMDZzh4KljvHv0GB+cOMORwWlG8y5lDxy7yPT4IKfPHOWDo0d579gpPjk/zOBsnpJSKEMCHuXMDJNDvZw4e5rDJ47xSXcfZ8dmmMjkyZbKFO0yuWKRkm3jCYlpBQhHwoQsC0MaCCNEKNbIjo0tNFWFMSmSmhjk+IkTfHr6PCeHhrgw0M3nZ07w9ulRRtNllBWipraO1c111EWC/hhtYSJUiVJmjIHBCxw/e4JPT53m0/NDfoWTbJFs2aZQKlIuFil7Hq40CIRDRGJhwoa8ZKKU9jUQIEMQaFAkQpXhG/MVMiyFVa0IV/ul9xYHYmGAFVNUr1ZUtSqCQXCzgtlug75Dkt6TBhNDBrMjBpMXBIOfGZx/3+D8ZwaD/ZJc4dL9fVnS8AhVK5ItimAUhBLkRgRjxwyGzxmM9RpMnJMMn5OMDglKSw57qJwTqTBMP2ArR5Abl6QGDGbHJHNjkukeydBpyeSYoFSqXOfepU+MwvQI1fkL54SCIEqCwohk4rRk4LTBRJ/B2Dl/P1Mjfl3vpUK2sDwCNYrqZkVNlcJQ4M5KRo9K+o+YDJ83mBoxSA0ajJ+W9H0qOfWuwfmDBtPT/sTUG/7CKOayfveC1ReVYOygwYnXTfqPGgydNBg8bPH5r03GFqygGWjwaOmo1B0Hsh9a/P7nJic+NBk8YTB6wWB6SJIaMhg/YzI2ueCXq/LgF7xSiUVtxbjtF6Px+8cMjGCS2rbVrN+8mfVr2mlMBAlay53Zr8AwCSSaaelYx6ZNnXR21JMw5U17GtGL0VxKL0ZzgxYvRuOAFW2ko62VrtZqqgLm9YU7z8Wz00zOzDE0XaBgOxSLRfKFNDMz4wwOD3Kmv5/jg5OMpvMUHQ8lgoTCNaxub2ZNY5JY5fpQnkNxuocTZ0/x4dk+TvYN0Ts6Tv/EDJPZIgVX4SqFUy4yNzfF6NgIfZMpxosWiaokjckwQdNAKAc3n2EuM8voXI5iPkumkGdmZpqhsREuDPZzpq+X470D9EwXKcg4dU2r2dm1nq2tNdSHLUwpkcIgGlWk5tKkCwUyhSKZTIbZ7CwT0+P0DvVyuneA02NpcgSpqltF19qN7F7XTkcy7E9cEgLhlLCLaSZSaWayOTLFPHOZDNOpCYZGBjnf38+pnl5ODYwxOGfjWElaOtaya/N6uhpiJALGFUuXaZe6mYvRXCRAoBCGoNAvyKYFxUrlGDMMidWKpnUuNYuHi8y/ViqMkEC4UC4KygVBOSsozgmys4LctGBuWDLdJ5nolcyMCQoKrGpFVY0isnBM7uLFaPC3q+tQVNf5C85c7a0KARKJ5wmKKUEpL/ze5iwUM9LvRR4SpEb992mXK+HzssVoFF7R72GemxWUy5WxyHlBaabyfgYkk0OCzJzAsSuTLKNQ06yob1KYRmWSoAFesbIIT15gFwXlnCA3J8hNSGaGBDMjguycwHH8yaDm4sVoJEhDIAUI29+X4whKWb8ueH5Wkp0QpAYlk32CiUFJakrgKEi0QzThV49xU5KRSxajgchGl7Vrrp7Ao3VQHJGkUpWz7/grSg4eNeg/YjBwQpJesHqnGVO073VZ0+URrKTz0nmTk0ckU+ckg8f8RXUmuiWjpwx6PjaYnF3w+oSi9T6XjrYbmPD6B6YXo7kx84vR3PYhWwgTK5SgunkVa9avZ82qNhqrIoQD8rJeiasSAmEGCccbaGxfw9p1HXS015EMW5hiuWH9ynTIvpQO2TfIc3ALs4xNjnBoYIayZxCIN7KmrZVNLVUkrzNkCwGGaYBS2MUihVKJgl0kl00zOT3FyNQsEwVFqLqKiBAYjounTILBBC0tTaxqriFpSgwBSjmUpns51XuBzwcnGU1lSOfz5MplbOVPzEQIcGxKxTyZfJ500cW2qmhrbmRVXYywYWAKk1DQxDIlruvg2gXScynGJsfpHx2hZ3iEnrEpxjI2bqCKxuZOdm7o4p51bayqChMxpV9FxDCwwjEsz8PExXVs8sU8s5lZJqenGZlOMZkr48gItc0dbF6/md3r17CxMUFV0Kh8fkhM08QyTQQCPIdyKUtqdorR8VH6Rka4MDxC38Q0U3kPGa2ltW0tu7d0sXttE01hi+AVV8TUFvtKQjZ+WAaBNy2ZnYOiLVACgnFF3QaPptX+EIyl7hlC+jWSA2GBZfj78etV+wGwMC3JTAkys4KSC1ZSUdXmUbfKD9nBhWNxXYGd8Re3mZ70Z+VaVYr66wzZAMJUfiB1wCsL7EorZwWFWSjZAiMAwTAoW6AUiFo/0NbP9zgLf6gHCJySwC6AXRK4OUFuxn8/uYLAjPmTHlWlB9owIdGoqG3xJ4kKAUIoDFNg4JfhK5cqDyOZL45Hhvw/V7r+JE0zpKhZ6wf/oPTfszD8MfNW0J+srPwpGjgFSWFOkJ2SpKf8OueeCeE6Rd1qRX2HSzQKlnHjIVuGFVX1AntOkJsRXG0Uh5VUtO112LTHJbmgXF/pvEn3/IqPCtxC5QEh7T9czDMjirZ9Duvv8ojcBj3ZOmTfmBUTshECYVgEgiFC4TChYADLWGbArhBCIq0AwVCIcDhIMOBPgLyBXV2RDtmX0iH7Rnkop0g6n2csD/FEFY31baxra2FdfYyYZVzfty9CIs0Q8WiM6nAAKcAKhIiEwsTCMeLxauoaV7Fz+0bWxsIkTItoPEFNTTXtrU2011eTtPyQjfJwC7NMZQuknQDBcJSqeILqRJLaqipqq6qoq6qiNpmgJhGnOp6gKlFNQ0MzG9oaaa+OEjIkhmERCMWoSVTTmIwQMCSWESAQDBIKBokEQ0TDMaqq6ljVvo4dm7dw34YOOmtixAOVY6m8N2GGiMWT1MQjxIIWhjQJBkJEwyFikThViWqam1axffMO7t3USVdTNbVhC/PiB4hAGgHCkTi1VVXURMOETANpBghYAcLBEJFQkGgsTm1tM2tWr2f35s3cva6NVYkg4UrvnHZ9vtqQrZCeoOQKlAXhpCLe6NGwXlHbpAhaVwi4lbJ0ZkgRSkI4BpYlMEwIBCEQ9lsooYg2Keo2erR1KRqbPT+4L7wQPX8p8EJeUHYE4WRlxcZ2RaKq0ju8YPPLVI7FCCqCCeFXQ5ECI1Q5hri/v7pOj7pmMCVY0coqjK2Kmho/NCP8UBsM+2FcIJDWF+8lmFBEGxRNGxU1DRCQ/uqP4ZiiqlmRaPbHTsv54wkpglHhVyGpjJEOhf2HmFiTon6tX90lHAAjCtEaRW2noqpeYc2HbFF5mIlDtE4RCfkLCBlBP3gHQhCMKMLVkGhVNG/2aN9ceZAJ+MfizNxYyEaAlfSoaYNkrT90xC5WFsbB78UP1Xusustlw8Mea7a6JBOX7sII+/W1JQKnKC4+mAAYAQjVKFp2VF6/w6XqCovj3Gp0yL4x8yFbzFf+qa2pYWxsbPF22k2WyWQ4cOAAL7/8MtFolGeffZYtW7Ygrzh9e2V77rnnePH551lfV8d3H32Urs7OxZtoS1EeyimRL+aYzJT8yX5GmHg0TFXUr2e9rI9Az8YuFkhls+TzJYquwkUijADBUJBEPIRRLlIslCgrUNIkEo0Rj4YJGZXa00rhlrKkC3nSBQf7GpMk/W4wiWlFSEbDxMMBjIVzIDybcqnIXC5HvmhTKNs4nkIpgZQmVtAkFAwTjUSIhwJYV+oxVh5OuUiukCedL1EolnFcD08IpAwQDAeJxWLEQ0FC5pUe0BXKtSkWC2TyBXIlm1LJxvX85emFYWIFQ4SDYWKRMLFQAOvOvKS/lMlUip+9+Dwf9h6gYXuBzQ/EqaoPfPmQTWUcdlGSz/kl2jxVqRwS8whdoRf7Mh64JSjl/AlubtlfbEZUqpAYQbAi/iRIc6nJeAq8UmVyYsG/+coABBdMnLxeygEnLynl/MmJjuuHQSsEVtjDQGIXKgu1WBCIeoSDfm/0RR64RUkhC3be39bFr+5hhiAUAeH5tcEdtxJGox6huL9wzsLDVTY4RUkxB+XK9sIAKwJWyMNQEreIvwKmhGDcIxhdehVI5fg92KW8P3nSdfx61EL6gdWcP8+Vv7f5XXgFSXZaUFwwFj1Q61KV/OLfr8UrQyktKeYErlupsy/8IS7hhH/MS/49qcq5zEA575cznJ8vKiXIgCIY9wjHrvD6W9RQd56DrxWoVrt59qd/y4MPPkgsFtMh+xqsgP81hQ7Zf2A6ZF9Kh+wvq7L4ClS6p67RE3YNSilQfqUPf7cSKfniA3Xh7KIrfMujlj0DSVweRhbw96fwPIWqLO8shMAwxTLfs3+ulOf5JcUECCn9Vfau8F6WcnHCp+Oh1HzINpCVxW6u/3i0xb7SkD1vQU1pcfH/LdP8PiorMCL8QIlYIlhfSWUfN3wM8yol8hSgKgvBXDyGhe/1an9GZSKoqgRpKiO7Fu5n/h9X3Q/+Rl5lBUZROS+L9wPX+Z7nJ6jO9wpXes6FuM7Xa1+aDtk3Zj5k30HJTqE8F9dxKBVLlApLtSKF3Byp8WGGzl2g9/wIk4578WlU0249AiHm25e/7wghENLAMAxMw8A0BLISQMX8z+fb4hdXXLLNdbXFe7iUv430j8kysAIGpiUvvvYaL1/A//OkYWAEDCzLf39Xey9LEcI/J4ZlYAYsrICFafgVjZZ3PNrXohIev1RQm9+H6fdES2tB+LteX/YY5s0fh1npXV64v4Xv9Woq4VVa/n78B+tLf37xeK9lvle/sq+l9nPd73k+VFtfHJuQV3/9ch/xNe2rtPJDtudQzk4xdvYQn31wgLdff503X3+D119/fcn2xuuv87vfvcEbb3zCp0f7mSo52PrC1TRN07Rb3lXyt6b9wa3skO05OIVpZvqPcPDtF3jxN7/iV7/+Jb/69a/49a//aen2/G954eW3ePuj45zqmSbn+l8Ha5qmaZqmfRmXPQRcMnZJW2lWcMhWuHae7Mg5zn78Jm++d5CDR09w+sw5uru76e4+x7lzZznb3U33hfOcv9BN9/luursv0Ns/wuh0lqzt3niBe03TNE3TtAUuixTz4fqyH2grwQoO2TZ2cYqxC6c49M4hzgzMkSlLzFCUWCxKNOyvcmeGY8SSNdTUJEnGQwQtEzMYJFaToKYxScy4eQvRaJqmaZqmaXeGlZsf3RJOZoyhgQGO9WSxrRhNm+7h3oe+weN7d3FXZy3xZIKatbvZ/chTPPPM03zzkXvYtqqWuniIWH01Vc31VJsGpv4mR9M0TdO024DuFL91rNyQbds42RSp9CxDThAztobN93+Dx59+mqceuYudndXEE3Gq197F3Y88zbe/+z2+8+Q3ePSuNbTXhlCuQ6Fo4+nSIpqmaZqm3SZ0p+CtY+WGbM9F2TYl2yWvIgRDHXR0tLOqvYGGumqS8TCWZWEE/eEitbUNtHasYWNXJ43JEPbMNFODI0yUHJwFtUY1TdM0TdM07VpWbsgW/mpW/sxFEykihIKB/z97//kkSXbe+Z7fc9xDi9Q6S+tqVdVaoBtAowESDVCCmiAv79reFe/5B4zZvBtbu7Y79+7eNZt7lyAHMyAHA4JQBEDIVmhd3aVlVqXOjMgMrV2dfeGRXVVZqruQKPl8aD6NqfDw9BDu/vMTzzmHeDxCPJEgkcqglEXg+bh+gNERovEUmcF+MvEIdr1EbXWFfN3Hk4QthBBCCCE+gXs4ZFuoqE0kYhOnhesusVqoUK07YEeJxuNYrkN1fp6V3CoVJ8B1XZxGjXa7Scft4Dgtmo6RyWiEEEIIIcQncu+GbNvGSvfS19PLZLyF2zjLqQ/f5YMTs8zWDVY8RW/g0LpwmA/f+Bk//dnP+MUvX+X1t08wtVSmYRTajhGNfLLZ4ITAmHDqbdOdxnv9410X17l0anTxazGGwAT4QYAfhNOfC7EhzA2We8XaFOtBd7ndr23dvtz2/RHiE7h3Q7YVI5IZZXxiE/s3Z7HdIjPH3+bQsbOcr0SI94yyY8Am2Z7i5Js/4jv/+J/5xje/w/ffPM35QocgniXV189gQmPdoynbGIMJAnzfw3E8PN/HyBns1xK4Lu12k1qjQaXRoNpq03TWlRyZAN/p0Gw1qTYaVBot6q0OroTCX4sJHFqNIrncAmdnFzi7VKDcCXCDeysDiVvLBOC3wWlA6xpLuwWeA8GdEEp/HQa8JjRyFsUZi8KyptkA31u/4q1hAnDrmtqSRWHWopTXtFoQ3M3vsbiv3LshW0WIxAcZ3bmPx559mC2DSaJek0bLoUWWntFt7H9ggol+jV/LsTh9gakLCywWWriRDH2bt7Bl1xY2JSNE1T3WW9cYjOfgNGtUVpdZXJhjNrdKodrClbPXzTM+7XaFlcVZTk2d48Oz5zg6s8B0sUG9418MeoFDo1Fkbn6W42fPcfjcLGeXyhQ7Lt491ih2I8YYguCSluebfvEGr90gN3eWd977Fd959TW+884JjhSbVN1ALsri5hgIHGivWhQv2OTP2uTWL+cs8tMWqwuaSl7TrIHj3J1h23SgsWSx8IHm9GsWp9/VLC1oWp/k9Vza8vxr3nSYjqY2q5l/T3P6dYszH2hWVzSOu37Nm7d2bb+nrvHijnHvhmw0Opqhd2IvDz7/eT7//CPs3TzMQCpBLJomO7KDvU+/wFOP7GLnSJZUPEYkGieZGWJk2wM8/OhBHntgkv64dW+8ScZgAh/P6dBu1qkXciyf/ZB3f/59vvOd7/Ld149ybL5K25EK9JtjMLi0KjnOnTrEL95+g++/8Qbff+cIr59dYrHe4aPGIL9FZWWOI0fe58ev/4ofvPEhrx9fZKnh0P51rkh3m8DHd1o0mg2qtTqVZpt6x8e7qUTs0moWmLlwjsPHT/DuyeO8e+o4r89Wybdc/PvpfRUbxhjw25r6hTDonX1Tc+aN9YvF6VctTr5iceINiwsnLYpF6Dh33w1z0LCoL2iWTmnmT2jmP9TkLijqTT7WAADGA78JnRq0a9BpgO/eZNA2ENQUxWnF/MlwfxZPaFaWVBj6169/k9a2s1HbE+JS90R+vBalLazUEMPbH+P53/odvvzll3npqf3sGcuQ7htieM8zfOrzv88f/uEf8Ye//3t86Utf5nf+4Pf5/S9/kd965iEenOwjei/UipgA47ZoFxeYO/0ub/70B3znW9/km9/6F77zgx/y45+/yq+OTzNTaNLxJWTfvIBOq0ohN8OZC2c5cu4sh0+f5vj5aWZKdRprrS/GodkosLAwy8lzUxyZmuPcUpWK4+PfNyd7g9eusjx7nDfefZ1/ee01vv3ucd6cK1Jo3UwzVUDgO7RaTerNFu12k3azTK7u03KNtGSLm+Y7inZBUZrW5Kc0uXPrlrOa5VOa+SMW0+9rzr1pMX3EYiWvaXfWb+0O54PfUTgt6LShU1O0qwrP/3jnJa+hKZy0mX7F5uQrNlPv26wUNO2bDdqBwmkr2g1wm+DVwGkqHCkBE3eJezpkAyilsRI9DGw9wKPPvMAzj+xi+0iamBUhkhpm4sFnee6Lv8vv/+Ef8od/+Af8we99kc8//zAPbBkkG7Pu+p+QjN+htTrN1JFf8cpP/5V//d53+e6/fJt/+f6P+fGvDnF8Ok+x7uB6Af76J4tPKPyd1ASGIOiWQbQqFAvLnMuVWW1d+g6bcD0TXOz8eMmj9zwDbqfOyuJp3j7yHv/69tv84Mgp3l0oUWxfUlrzsUWIJvqY2LydB/ft5dF9+3h0z16eHEszmLCw1d1+JIvb6pLOgDphSI0HjOz12fSQz6YHAsZ3GgYGIBIoGvOaxcM2c8cVxYLG/eRf5ttGJQyp0YDRnQETewLGH/QZ2mpIJUDf8BDSuHVF5Yxm7i2Lc29ZXDiqKZXA8W4iFCtQKUPvZMD4HsP43oDR3QEDIwGJiJR3iLvDvRGyAw+/Waa4mmdptUK12cHzLwktSmPFkiRSKZKJODFbo5RCaQs7kSTVO8DgyBjjExOMDA/Qn00Sj1kf46Ry5zNuh9rCCY6+9VN+8KOf8/O3jnJqoUS14xD4HTquhy/NfL8xJuhQqxaZWVxhsdKkfZ3RRm7MEPgO7XaLRrNFo+3gXPo9/xiMCfDcDq12i/pHnTLDBGGCILwx8AOCG4Z+Q+C7OO029UbYetx0XLzg+q3GH9Vgex6+6+I4bRqtBrVmg1qzRcNx8Twf3/Xx/XBfwv25yvu2ti0/wPfBjmaZ2LqXpx57mi8+/Sy//eRjvDCZZDBhY13tTLfuNfs32veP/lZYQ369dS9+Vk3qzSb1doe2H3zy1jyz9j63qDea1Bptmh0X74afj/hNiaYNfXt8tj7rs/8zPvs+47PnGZ+tDwQMDhiiClqrsHpOs7qkaLTXb+GisFOlxm1qnJbGc2+iU58JyzS8NjhNjXNJJ8yPY+3mIfCAaEBqImDyoM+up312Px0wucMnneDaAwCs1WB7ELjgdaDTVLSbik4TXEcR+OH2Ay/cr2t2EO3ezKytqyI+vVsDtj7us+sZnx2PB4xOBiSvFbK778Xa800Q/ttVrb3u7mu/Yf24AeOA29I4DXA73dexfr0bMWBcjdfS4efVBu9mW/rFHe9ql567jAG3RbtwgVPHPuBX7x/h8KnzTM0ssJRbpVht0OysBUnFlQ1aKmzttm1isShRy0Kre2fYPhP4uK0a5UqZQsPFj/bQN76NLVvG2TQQR98LdxJ3MENAp1llJbfMTKFC0TX4n+hkajCBQ7tZpbiaY35pganZaU5OT3Nydp5zSyssFsqUWw7ONUcnMRjj47aqFAsrzCzNc3Z6mpPTM5xZXGZutUKhWqFcyjG/vMRcLk+uUqfeCa7YVxO4tFt1SqUCi8tLnJ+d5uSFCxy/MMOpuWXO51ZZrtSptsPAffmTfXynSaVUYCGXY26lQK7apuWFrf/Ga9OqFlheyTGTW2Z2aYnZpRwLqxUq7XWjr5iAwG1RrRRZXF5mbmmZhdUSxZZHYMVIJxJkozYRy0Zf7Wg2BuO2adYKLCwvM7u8zPxqlUKjg7P+RRPgOS2qpQLLuWXmlnMsFioUWi7uZUEmDNatZo1iYYW5pQXOzUxzYnqaEzNznFvMMV+oUGre+ObIBD7tRo1icYWF5SWm5mY4ceECxy9Mc2puifPLqyyVKpSbHRw/kLH8byEdhXifoWciYGBTwOBmn5HdAeMPBIxtMmSSoBxFu6worSga9cufvxasW2VNLacpzSvyM+GyOq+prmgadXCvVzVlwHgat6FprGqqy5rirMXKBUV+ptsJM6eplaHdvnbgNg54lXA/qsuayoqmWYfAgkjKEI0H2HYYaK9yFEEAQQvaBU01r6gWFI0W4XnDhKG7XYJqTlPNaSrLF/fLXd+ZMoCgo+mULll3VdNpA7YhmjTEogGWBmVd8rw1JhwFplW6+HpqxbBk54oAa8K/1Shoqkvhe14rhcH5slW7r8GtaxormvKiRWFakT9vsTKrKS1r6hWN07nBzZGBwNU4dU19VVNeVqzOKlamFSvdz6u8oqlXfo3wLu5I1r+DfwfwHxIJ/vZv/3b943cHt0Z98QRvvv0Or717nOmp80zPzDKXK1FquBil0ZbGmLAlSSnCluz127kFHMdhenqas2fPEo1GOXDgAMPDw6gr0/+GMJ5Ds7hEvh7g925n/4FHefTh/ewfsbBaOc7nWnhWkvTEHnbv3M7e8R5S0audwX4zjhw5wpmTJxlIJtm7bRtDfX3rV7mLuNSLy8zNTHO22KDa7elojEFpjd0zyNjAAIN2k3JhmbPTy8yVmzg6w8DgBPv3jDGaiRH76LtpML5Ds15kYfYc7x8/wntnL3BkeoZTM7OcnV9ganGZ2ZUKTR0nFouRjKy/STSYwMV36uRmjvP2ydO8d3qKoxcucHJ2gamlPNOFBqVyjpWlU7x75gIn55Yp+REiiQzZeIRI91bcGJ9Wo8jiwgUOnzrBe6fOcuTCNCenZzk9N8fU0iLnFnMsVR08K0YiFiHR3R8Aghb1yhInT53mrSMnOTo3y5nFHAvlFk23OxRBp0mtnGd2YY5TMzOcmllitthBpzMk43ESlgp/YTIOnUaOU6dO8tbRUxyZnubkzCxnZuc5N7/AhaUl5osl3J5N9MZtkmvPW3tXTIDXyDM/fZJfHDnFkfOzTBVdOjpGNhUjFb2kVMy0qZWWOX38OO+eOMWRuSUW6g4m0UtvMk7cAoUhcDs0agXm587zwakTvHt6iiMXLoT7tbDI+YVl5ot1GkSJxaIkojbWFechgwk82o0Cc9Nn+ODMad4/c5Yj56c5MTPL2bkFphYXmFrMMV+s0TBRotEIsYiNrddv6+7TbLf58MxJ5srTpEY8hjbFiKesqzSO3CIGvKamMacpLCuaDtg9AdnNhqExQyoJ2gYrZrAjYOqa+qqi3gDPgmi/ITsU0N/b3VwAfkNTX1Lkz1gsnNTkzmtWpjWFOU1xUVFdVbQdBRFDLAbW+tPxWst1TVG6ENaDL57V5Kc1K7Oa4kIY3MvLikpZEWiDHQPbvrzkwwTgVTWV8xazJzRLU+HzV+c0hYUwQJaKmsCGeMYQiYTXzksFDrSWLXKnLeZOK3LTmsqyotFSH5Uf+h1Fc0VRmteszmpWlxUVRxFJhe/f2jaNq3GKisJ5i/NHNSsz3fXnNIVFTWlRUyspdFIRy5qPzktrjAftokXhhGb+lCY3ram3gKQiFjfYa++jAeNonBXNQnfd1bXPNmlIpro3FAYCJwz9xfPhustTitwFRWFWUVzUlPKKRhUCrYjEDRH7yvdoLWC3S4riec3SSc3iWRV+5rOawoKitKApL2tqFUUQVVgxQ8S6yrZug2rRZfGcR4JxDjz8OFu2bCEajf7GMsu9wvr3/z78770RspvUc2d4/733ePO9w5w9c5pzU+c5P7PIYm6VQmGF3FKOXKFEve3hKRvLvvQn5Ku1cP9mrIXsM2fO3JKQHd7CayI9Y2zae4Ann3icg3s2M2qXKC6c5oMLNRydkJC9Ia4M2VprLAuMUrh2L6P9A0ykPerFZc7N3CBkBx2a5Txnz53kzUPv88qRY7x/YZGppRxz+Txzy8ucX5hnaqlAyQU7niabipOKWFjd75MxAV6rQnHxOK+9+y4/O3yaD87PcW45x1x+mdnlJabzZZZX5pmdO8k7p2c5myvgxPoZHBpnLBMj3v06ePU8MzMnefPwB7zywXHenZrmzHKOuZUV5vM5ZpcXmJpfYrZYp+ZrIvE0vakEqbWrodekvDrDex8c4mfvHePYcp6FaouWG2Aw0G1Znl9e5NzCPOcWFjm3sMJKQ9M/MclIX4ps1Ap/tg46tCuzvHfoA3727lE+nJvj9MI8ZxfmODM/z7nFBebKdaKTj7KtJ0ZvTF3+c7fxcJsrLMye5MdvHOLQhTnOl32IZhkb6qU/FcVeW9+tsrJ4mlfeeZdfHjnNsXydhs4wMjHOpt4kSUuhAod6Oc/U1EnePvw+vzx8nEPn5zi/nGc+n2d+eZkLCwtMr5RYaQd4VoJMKkk2eulNkcEYl3ajyOzZw7zxwQe8evQ075+f4dzyCovFIrmVHDNLC0zNLzKVK1ByAogmSSfiZKI21l3+y9RdEbKzhuykYWDEkIxdsqqn8EqaUk5RqYJvQ3TQ0D8OA31hvZNf19RmNEtHLWYOa+ZOa4pLKmwFzisq3eBWb4CPwk4YkpnLf3I2HrgVzeopzewHFjPHNcvTmnJOUS8panlFZSkM7MVVRbulsJMQTa4Lyj44Rc3qCYtzH2oWpzSlhXApzmuKS5piEaxeQ++IIXGVuuygo2nOWMwetpg5pSksXh6wA1fRKiqqSxe3XVpVNCKGniEY6DUXQ7ajaOc0y8ctTr0X3nR8tC/dpV6G2Aj0jBqi3Rb2izsTvp7SCZvzRzWL05q6p9C9AT19hnj0klUbivopzdn3wv2uVMCkDD2jimzWoLo3EO0VzcppzfQhi9njmtxc2BJfXQlbykuLimpJ4big4xBLd4P2pfvlQruoyZ8MP6+17VRXFLWCopbXVBbD11cpKjoeROIQS5rwV4Tb9d3vkpB9c9ZC9j1QLtLtIKFtbNvCthSaAL9do7p4hlPv/Bs//Ke/5+/+0//G//F3/4V//NaP+LdfvsVbh45y5MQU5+dzrFabtJ0b1VjenXQ0TmZiN/sefpQn9m1jsi9J7JrFdWKjJZJJ+rJZYsansjDDhaUcuZZH5xo/314U4DSKzE0f5fX33ufnx+eYbtlEMkNMjE+ya9MkO8cGGctEUK1Vpo4f4rXDJ/hgoUyxs9aJNSBwmlTzMxx/701+fGKRmUoHN5Kkp2+YLZOb2TMxyuZ4g1Yxz9mcT+uqk04YoENx4RQffvAur5+Y5kLVxUoPMjmxlf3btvPAlk3sGs7SG3Wpr5zn6IkjvHpihjPFFk53CyiLaCzD0NA4u7ZuZc/kGJv7UqQiYR8JIknSvcNsm9zM/q1bu8tmdk4MMZSKEteXFH4ojbYSZHsGGB8dY+vYKJuG+hlKxUnaN27RVcommulnaHQT+3tj9FgBpl6mUi6Rb3RoX/I++M0K5cIy8/UmJWNhpwcYHJ5ka1+STHdGWK9VZGH2OG8dOsRrJ+eZroOV7GNsdJKdmzaxa3yQsayNqec4f/oDfn7oCG9eWCHfCi4OjWYCjNOguHSGN95+g9fOzjPf1iT7Rtm5bQcP79rNI7u289CmESayFn5tmTMnP+CNo+c4tlCm1JGykVtpfVmB8QjrobvlGVpDNAqRSHcVR9Nc1iwe1cwc06ysKoIopIYD+jYFDEwasn0QcRT1ac3cYc2FUxbVJnw06FMAQcuiNmsxe8hi/ryi7kFsKGBwe9gxcGRHwMCYIRVXBEXN8vsW00c1+bym41yyzxpUBGJZQ2Y4oHcsoGfIkMqErd4fh7LAThsyowH9mwIGxg3pFKw9XUcgNWzo3RQwtLW7bDIMDBoS8ctrUJTqluL0GHpHA3pGw/1Jprh6n4r1LIhloXdrQCob1pC3alDNK9otPjo2jAGnpagsKTrV8HOMZw29Y4Z0NghDkQGvbFE8pTn/nmb2vKLtQzRryE4EDG4O6Bs2JKMKZ0WzfFhz/n3NUh7cSzt5BhDULarnNNMfaOanFW0FqVHD4PaAsd0BozsCBkYNyQg4ec3C+5qZk5pCUeNd9Xws7ib3Rkt24OG2KhSLNRodiMUTJBOxcPg938NxHVynQ7tZoZSbZfrMMY4dPsKRExeYXSlSbXZwWh3a7RZtx8MzJqzT1nrD7yJveUt2t+Zca43WCqUUxuvQWpniwtnjHDovLdkb5/KW7JqvGBwZY/PoKFmvRbteohXvoy+bQDcKzC8sM19uXaUlG5TfILcwxbuHjvDe9DKLHZtE7zh7H3iczz52gOcf2MXDE30M2AH1aolqu0O9GWDFMgwM9dMbjxA1Dp16jvPTp/jXN08z3fBwI2kGR7fxyAMH+dxjB/jUvm3s7otgOQ0KtSYt36AjMYZGt7J9YpLJbIy4ZcDUmZs6z6nZVVZdi1hmmN17DvDZp57hCwcf5Kldm9ndF9Cp1ShUW7RdDSQZGBxgfDhLcu1GOJqid2CUndt28sDkIIO6SqHWoNQB0zPJzr2P8vITj/LSgQd5bO8eHtu7iwM7t7B9qJe+uE3ko5KIsDAzEu9hZHSc3Vs3s304S9pv0W42qHsGK55m054n2Nsfo299S7ZSoCxU4GHqM0yVGlRcH53K0Dcwyua+DNmoAgJqqzOcPXuCD+dWKXhRBse38uC+fTwy1kNfTKPwKC2e5ejxI7x7Icd8Q2GnR9i552E+/cSjfPrBPRzY3M+A5dGo1ai0WjTbbTwrTU/fEMOpCLFua7hfzzF94QTf+3CO5baN3b+VAw89zstPPc6nH9rPE7u38+CmXvotl9VyC88oNDF6ensZHuqhL2Zfu4PaXeBuaMm2UmFwTGcVEaNwOwqnrmjkNPmTipX5cL1IFvq3B4xsCkgnwStrCqc0C+c0hZIiiBrSmwI2Px6w/YBhfJshkzIEbRUOU9dS+AGY3oC+LGG5gw+doqZ4VjN/QVNrQ3QkYPxRn91PBmx5IGB8u6F/yBBTilYjrBX2bYj3QE9fWIKiuvlWKYUVNySHDP2bDUMjhqgF7SZ0HAUxQ+8mw9C4IXmVlmy0wU6ENwpD2w19gwZdU7SLig4QHwgYf9Jn26MBm/cHjO8NGNsVMLYJensDot0bkJBBdWvB0yOGwW2GgWHQnqJTV3ge2AlD3w5D/7ghtq7FeO31mEBRn1c0KgrXN0QT0DsGyV6DBeBoWnnNwlHN6orCjRp6tgSM7zYMDBlsfXESnLkjFvlFRcdAbDhg5MGAbY8FbHnAMDQAlq/oNBWdFjgdRaChZ9wQjXTfK1/TzitWT2hy85qGA8nxgMlnfHY9GrD5gYDR7Yb+PrAdRbMDGIVJGmJZQ7Y33NbtJC3ZN+ceaslWEEmQGNnDwRde5k//8q/467/6c/74936bz3/qCQ7u28nWyTFGhwfoTdhot06tsMjC9BnOnnifd1/9N3707X/iv/6Xf+A//9d/4l9++Atee+8YJy8ski816FyzM5kQNxZJZBkaHGXbSJqeSJulpUWml1Yot51rT+5gAoJGgUJ+npO5AktNA/EBRif28sxDe3h0xxb2bt7Kvh37eWL/Xp7dlqE3HtBsrrC4usxcqUPDMQSeR6deZCW/xKmaS9soYtkJdu3Yx9MP7OHAjq3s3bKNh/Y/yIFtm9iZsYlf64wQaJIDk+zed5BPP/40v/3EE3z6od08uGWEyaFBxkdG2Lp1G9v7ehlUGsvp0G5UKbdaNNZGTFAWdixFf/8QWycn2D46xFhPnGRUhaE3miDVM8TE2DjbJybYOTnBzslxto0MMJCMhkF0bX+Uxo5lGB6bZP/u3Rzcs5NHtm9ia3+anoj+WCc2pSIkUz1s3rKZoUyKCB61WpWlQnjT4hPWkVeqFRbzdeodsKJZBnuH2DyQJh210RgI6hQKK8wsFllteJholsnNu3jikUd4bOcO9m/dxv6d+3jmwT08uWOAvpjGaVRZWFrmQq5MzXG7HUwNxndxnQ4V1+Cg0dEkmUwvw739jPQPMDo8ztYtu3h434O88PA+nt6zk4c2DzGWiRG9B2qy7wZuU1Gb0ywdCVsnZ963OP+2xZm3NXMzilobiBsSgwF9Q4ZUKgzrnZqiuqhplBUehsRQwPjBgMm9PsNbfIa2B0zsC5jYachkgY6isarIn9N03G5LrAHjgtdRuH74b1bcEO0xJPsC0n0BmRGfga2G0f0+k/sDJvcGDI8b0kmDvvTAUKDjAclhn6EdhrHdhtFthr4hQ/SSMpjrURqsVEByKKB3wtA7bEjFzWUt2YkB6B0P6J/sLuMBvX0B8fi6bVnhttKjhpHdhvHdhtHthp4+Q9QKSziuS4GKBMR6wlKedDrsgOqUFLUqdLodIIN2+G/VRtg6rbOGxJAhlQmI2uF7HDQUjRVNpaxou6Cyhp7tAZMPBIzv8Bnc7DO8z2d8b8DQgCGmFU4l/HyL5e6MlN3zu++C2wavW0NjxQyJPkOyPyDVH5AdNQzsCJh4JGBifzh04uDQ1ctzxN3n41yL7nw6QiQ9zNi2B3jk8ad4+rnn+fSLL/H5L36J3/mDP+SP/uQr/NHvf5Hf+vTTPL5/B1tG+ulJ2thBg2Zhkdkzxzjy/lu8+fqr/OKnP+JH3/sBP/jeK7z65jlyHfc+miBEbDRlxclmB9g8PsRgJopTWmZpeYnFaovmNVK2CXxa9RIrq0vk600axiKS7qFveJSJTIy4Mvi+IdBRMpletgz2kYza+H6LYr3GYqVB2/XwfY9GvUKxUqTiGwKlSfWPsXl8gu1DvQym4iTiSdUJWMkAAIFTSURBVDK9/Yz09zIc0xfrkC+jQMXpH9nM3r37eeKBvRzcuYlN2QimWSa3uspiscxq08MJNNoA+ASBg+v6l43AoZTGjkSIRCNEIha21S0VUeEVW9kRonaEWDRCNBolGo0SiVhYVwRIhbKiJBMpejMZ+rIZetNJMnH76p2PrkYp7Fia3rHtbO3NMGAbvEad0kqJQsuhYyDoVChUSsxVOtQDm0h2kKGhYSazMRIRFV61O2WKlTKLVZe6G8GO9zMxton9mwcZyybJJBKk0v1MTEyya9MIQwkb23OpF8oUVstUXQ8Hg1EKZUeIRWP0WBbRwMdrrLKwOMPx2QWmVkqsNjs4JOkd2sqjDz3Kp594jBce3suDk4MMxmy5KN8CfkNRnQ7LPqbf11w4pJk+HLZQl2sKL2pIjwWM7A4YGAtIRAFX49ahVoW2C0QNiQHDyA6fnj6IJcBOBqSGDf2ThkzWEDHgVxXNWU2zA64Bo8LgasfClm1lwKsoqnOa/JxFqahpNTUmakiNGSYeDtj2RMC2hwKGxwJil9QlAygbrATE0gGJbEAiDbF4WOryselwn6woWJGwo+alT9fWxcft7mJdpRMlKuxEaicDEpm1/TFEYtcZPnAdZYWdF/s3GdL9BhuF21JUi2GrvvHCSW2aK4pWC3wg2W/oHQ3LUtb222lCsxi2UPvKEO8L6Nkc0D8ckExDJAax/oCe8fBGKhELa8qdqqJSDIfkWxN2jA3fBww41bDD6uqsRaWgaXdvytKbAzYdCNj2eMCWfYah4W7oF3e1T3Io3cG6Y15HY8QTKdI9gwxPbGPHA4/xxKde5KUvvMzLL7/Myy9/iS996Uu8/PIXefm3Ps/nP/M0Tz2wncm+GJbfoF7Js3jhFCcOvctbrx3i/aOzrLj+xemwhfhEFFppYqkMw8PjbOtN0+cWyeeXuJAvU7p6ATRg6LTq1Opl2p5HYHwCr06lMMORox/y6nvv8rN33uFn7x/i1RNTHF3tUHfDcN7oOJSbbTq+jx94OJ0WrXYDAyhl0dPbS382QyYSxVZh+ZDWYdi99ugUYbFkKp0gFQvoVPNMz5zlvSMf8up77/CTd97hJ++8z88/OMOxfJlSEBBeY8Jfga4YPis8YsNcfeUDa7/7rn/kKtb2v1sOpcLyro/zzJACO048O8Gu0V5G0hbaqVOrFFistqm74NSLFEsFlpoOHRWhZ2CY8eFhBhMRYir81YF2k1qrQcH1aWsbHc+SyWQZSNjEbY1WCm3ZRFJZenv7GbQjJAIPr1mnVqtR6QQ4QZgQVCxL39AED0/0MhALCCo5Lpw/zquH3uUn77zDv73zLj99/zBvn8+R8+NkBsbYOjHCpr5M2Ily/UsUGy5woVNR1JbDUS+KS+HQdW5giPUHDO0N2HwgYNNen97ebn2yC34rnA7cDQxEIJIOW1vXOiMqDToB0R5DImqIAnTArygaHY3vd7+ySUgPB/T1QzwSdvYrntLMHNKcf8fi/Pth6F+aB0cbUiM+/RMB2d7u31r/grp/W+kwXH+sQ+8TWNvcx9ps9/hf259PdjyHdCQgPWHI9EHMBq8VdgZtVMH1wakrajmF0wEihvSAoWeQy1rv/bbCaRDWRCuIpiDVG9bY60v2MZaCZC9EEt1a7w7UKmFpSzjmQEA0C5mJbumHFXaCXOneoE29G9Z8Tx/VLC2CHzGkxwx94wGZLFgSsu969+A5uVuDbEWJxhMkUmkyPX30Dm1i0+4HePDxp3n2+Rd44VNP8cTDe9i1eYSBbIKYBSoI8D2HdqtFs9Gi1XKv/ZO+EB+HUuhoikzfCHtG+9iU9qhWVpnJr1Jotrth9HImAC/w8X0nnAky8HAqy8yeeY8fvvEq337lFb71yit865VX+fZbh/jZmRyrTQcDuEGA43fHnaY7o2QQhnmlFKl4hEQ0euX46GsXjsv/tcsAAa3aCjNTx3nz/Tf5/htv8P23D/HKsXMcm5nn3FKO2ZVVVpttWt1wfVdQNlY0y8TkCGP9KRK6Tb2xyoXVGpV2h2qpQKFQouIaVCTL2OAgk4NZUrbdfa8MuA4d16MVBHgosC0s28Lqhv7uH0JFokRjSTJaE8NA0MZxWzTccDIdlI2O9TIwuoPnHt3PYzs2s60/QbRTZn76JG+9/xY/fO0VvvWLV/jWq7/iR+8f4+2pGaZKdSruzcySKW6GFQtLPXo3Bwxv6y47A8b2Bmx6NGD70z7bHvEZHORiy3EQTs/uBeBpIBJ2OlwLbB+xw85/UQsiENbnumEg9P2wc5+VNqQ2BUzuCxjfFo6coVqa8lmL2fcszr5mcfJVi1O/spj6ULMwZVGt6PBG7l6nwvdW9wX0Dhp6kqA9aK0ommWN09G0KlArhuOQW32G1FBAOnN5fXjgg++E52LVbY227TBYX0pbYMfDxyEsCem0wffCFZUGO+vTsz38foxuCcimDEFVUzhjMfOuzZlXLU6+En5e549qlqYVjerFmypxd7sHQ3aXMQS+h9NqUC8XWF1ZJr+8xPL8HDPnT3H0w3d45803eeuDE0wtlKi3TVjzpjRWNEYsnSCZjhG5ZvAQ4uNRKkIy2cuWTWNsGslguy1q5Solx+E6k8GFvw13o5PWNrYdC8eKjse6S5xEIkk608fo4BCbhoeZ7O9hMBkhsjbCxmXJy4QzMn7iYXTCuuP5qZO8++Fh3j63wEy5gx/JMjS2lQf3PMCnHn6I5x7czd7BHnq1/qgm886n0HaUvtFJxgcH6I8oOu06c/kCxVqR5ZUiy6tV2kGUaGacTUNDbOqNEItc5SZl7UxhTHhz1H37L/8IwlklDeENGOrS4UMVSkeJZ4bZvvdJfvtTz/HyEw/z1I5NbBvooS8VJ6ENxq1TWp3n1KlD/PLNN/np4XOcyFWpOYEE7Vsg2mMYfNBnz+c9DrzsceBLHge/6PHwiz67DwaMbw7IZLhyKLfw9yQIwPhhS+cVn5e5OAtJmInD/4+6JIyrSECs32fgYZ8dnwrY/VjA+NYwbMcSYd110ITmkiJ/zOLsqxbnjyuKRX39CW7uFQpUtDs6yUhYH+5VusMbriqaJUWlBa4ypCbC9eLRG4Qhc7Emfj1zyUF+taygIpAY8hk/6LPnUwG7Hg0Y3mzI9BpicYNWCr+pqC8qlg9bnHndYvqkolTptqSLu9p1v1d3l4DAd3DaTZqNGtVKieLyHPNnjnHkjV/wk+/9E//0ja/z9X/8R7757e/zo5/9il99cIrT03lWmx5+JEEilaWnb5iRrdvZ/dAe9u6ZYCBiYV/j4BHixhRojR1P0Te2mR2jI4xGwPJdXN//aDzZdc/AwkJrG4VGWTHifRPseOBZfuczL/Hnn/8Cf/mFS5bPf56/eOkl/vxzL/KnzzzCp7cNMBiPYHVLQVS3mcUYqLcdmk4HP7g8kF31gs/aAx4088zMz3NirsBS3aASY+zZe4CXnn6CFx97hOce3s9T+7axu6+HPq0+ZshW4eu79J+MCadCvoWUihDPjjI+0Mdo2sJ2WpSXFllamefcSpmFsoun42SGRxkb7GM4ZvFRxlYKojHidpSUVkSNj3EdOo5DO7hkxkxjMJ027VadahDQRqOsOPFIOI64bXUDuO/guT5Eehge3cxD+w/y4rMv8JUXP8effeYFfvfZgzy/e5JtWY1pFlmcn+Hk6bOcms+TaztXzNApNp6OGeIDhv5NAcPbw5bswa1hp76ewYBEYt2Qc+EBHdYk6zD0KQ9MKyxfuLScyrgavw0dL6zBRoGKhDMvrm1zbWpyK2nITASMPRiw41M++1/0eODTPnseD5jcZsgkFF5NUZlXLJzS5OcVrfUzGq5zvcc+tjvhYmlBagQyw4ZoRGHaUF9VlBfCcalbroJoOGxfz0BYVnLpbmvbYMW6M0uasMba687EeCnPDWu8/e7Ni2VDPAGW3V2xO2NkYCCSgcymgPFHAna/4LH/sx77nvfZ+WjA+GZD0la4JUVlWrE4pVlZWjfkorgr3Rsh2/gEToNafo7pE4d4942f8dMffp/vffd7fPd73+N7P/g+//qDH/KjH/+Un/3yV7x16CRn51YpNgNMPEX/0BZ2PvA4T33mJX7ry1/id3/3i7z8xWd5+uAWBqORe+RNErePQtkxYj3jbJ8YY/tgklTskhkF19OKaDxBOpUlFrHRgFJxkpkJ9u57mGcOPsZnH3+czz3+OC8+9hifPXCA5/bt4Yn9+3l613YeHsnSE7OwLJt4PEkqmUUT1mzXi2WKlRpV18UzAUHgE/gurufheGEr6xWCABol8rU6uY5H24oR7x1j+5btHNi+mZ2jQ4z0ZulNJ0hFNWuFFDeitMayumUVBnA9/I5DJ/BxA0NgDEEQhEu3ZfhyBtN93O8u69czxscPfDzv6o9DGJStSA+jQ4OMD6SImw7NlVnOXZji2HKRhZbCSmSZHB9ifCATTj7z0ZM1xNJkUkkGohZx4xG0ipQrJfJ1j7Yb/s0g8GhXyxRWc+Qch7ZloVMZ0r1ZeuMWUQ2B16ZWXODcmfd59cMPePPMAktugsHJXTz5yGO8+MSTfP7Jp3jpyYM8t3crO9IWUb9FrbjE4uoquYYfBjNxZ1FhGYidNiTjhDMVOuFoI7WKxlmbXjyAoBkOf9dsKVwFJAzWoCEdh4gVDj/XXrVYOWkx+6Fi7qyiYQzZHT6bDvpsfzxg+xPhMHOTOwPScdCBorGoqC5Bq31xvOiPmPAQD7qTrl5xDvC7/+5fXOeadBhw16Y9N0FYlhF0a5SN6TbWB5ffXFymuy9rNxPrVzPd/V1b76rbUeEkOulBQ0/KYAWK2ko4jXlpGbzAYPUYegcM2fSVtc92Ihw7OxIJ/75ThfoqdJyLU8YbV+PUFPWiotPs1mgnDNmB8HkQDgXYzFssHreZPqaYn4Om7TO022fzYz7bn/DY/rjPtgM+m7YFxGJgXEV9VVFZDSe5udrLE3ePeyM/+h3apVnOHnmDn/zgn/nmf/0H/v7v/46v/Zd/5Js/+BmvHDrN1HKdesfH2DGSvUOMbt3Nvkce5/Gnn+OFz/02L//+H/MnX/1r/uZ/+Cv+/A9e5qWnH2T3ZB+pyy6oQtwchY0VyTA2McbWiQF6Y5Fr9phX2iKZHWBkcILRdJIUHq3VZebOHObdczOczRdZqYed7Wq1VZaWL3D0xDHeOXmBU/kqFSdsIddWhHS2n+H+YQYssExAIz/P+ZkZTi2usFisUqqWyeWXmc0XWWpeI6QFBnwHL/DwCGu9feXQdts02g7tdpt6rUxuaZmlap2aWZsM5zoU2JZFPBEnZtvYxkCrQq2QYy6/ylKpRqVWp1yrUqiUKDXatNxLJ4wKCNwW1WqRxVyO2eUV5lfLrNYdmm54sxD4HrVKgaV8ntmVZWZXi+RqbVpXlFUotBWjf2CYieEhBiIBQWORM6fPc3qpzGoQI5EZYs/oABPZ+OX17EpBvJfhvsFwcpqoh9MuML8wzdGpReaLNSqNOpXyKtOzM5y8sMxqq4MXiZIZHmBkpI++iE0UCPwO9eIcpw6/yn/7+U/4x1+8xo8On+H4cpVSx0AkQbZnmC2bd7Bv8zhjSU3UMhg8vMDH9c3VA4e4/aIB0Ww4HF0ypsDTtAua3ClFKQ+tJrRrmuqiYnVaU60oXGWI9EBqV0AyEnagNB40lxWL71qc+oXNsV9YTB3RFFah7YGKBcT7ffo2GfonDIm1MggXAk8RGH3Zdz9wwKlq6nmLyrJFZVXRrIUd9zCAr3DrivqqRSVnUc1pGjVwLp1w5RJahx0zre7wfH5HUV9W1FY0jbKmVde0appGQdNurgv8BoIOtKua6nL37xU0zYbCM+ExZ/xwqLx6Ltzfal7T7HZQvGJ/kob0kGFgCCJa0VzRrM5oigWFb0F8U9jhMb5+pBMF0bQhNWBIJA0Ro2gXNMULmtVFTa2qcZqa1qqiNKso5BTtNqiYIdFrGBiASDS8tzIO1BcUc29anPyZzfHXLC4ctyhXwvptKwGpQcPgZsPwRLfuO2w3xPe6ZUWX7Jq4+9wDk9EY6FSpzRzml6+8xr+9dYLZpTK1loMXmHB4v0SGbP8gg0NjjG/ezs4HH+Px5z/H5z/3BV769LM89dgD7N4yzkhfhlQ8SsQKRwTY6F7W3JbJaK4kk9H8pqyfVl3RNzTJ1s3b2dqXJhtV2BFFvVIlny9QbHRoG4W+YjIahRWJojAE9QrVWp1Su0GtWSFfKFJuNag16xRLeeZmzvDhsUP87MgZPpir41hJhoZ6ycYiRLq9832nQzu3wFLLpe22qLZblOsN6s0K+fwCJ08e572zFzhd6tAKDNb6yWhsH9wKU/NLzOfL1Nouxg3H+XaNT6u2yuzsWd4/fJj3pnPMtT0cbBLJHsY3bWHH+BD9kasMw2Uc2s0q80sr5Mt1Wp0WHbdFo92hVq9SLOWZXVzg/NIyeT9FLB4nE+tOGR84uM1lTp0+wzvHTnN0eoaTs3OcW8yzVGtRdw0BBt9zqBYWmFlcZGq1TsGL05tO0BOz111YFeiAdq1CMZ9nuVan2OrQ6DiQHGR8yz6e2rOJHf3xcLKgi08EFSFCh3arwnKtRqHeolavU6s3aXlt6vUCi/NneOf4ad6eLlBybZI9o+zdvZ+n9mxlUzrWnYwmQHt1KuU8R2YLFOtNKk0XxzMofJx2nVK5yPLyDKfPT/HhhVWKXpRk7yZ2bdvOg5uHGEle++btbnA3TEZzrWnVb0SjCNphiG02FJ06tMsKz1M4bUVjySJ3KpzevFYDEtCzJWDLYz7DPWutrQa/peisasr5MPC2W2Eo1kbhNhWdUhjWCxcscsvhNN2xsYCh3YaRiYBEvBvkAvArmuoFzfwpzfJ5RWEunBq9XlZh/bZRKI/uGNCK4pKm7SuiveG05pf3nzbgKryapl5UlKvg+wqvBW4rnFCmuaooLypK8wo/Es6gaOvu/rjglDTF85oLxzWFme7+LIUjg3hB2E0l8BWtkqI8pyjlNG4Uoomw9Xj9/li+xq0ryqsqHJ/cUXh++BmOPBgwviUgFV//PFCWwnhh+UajGk4447XD99ptK9yKonDGYuFUGNo7CuLDAcN7AzbvCIdt1BoMCr+uaC0oKquaZkXhtMFFofxwEqN2SVGZ1+TOWayugAckJwOGdgQMjV4+HfztIJPR3Jy1yWjugZANuE3q+bN8ePQUx2cq+DpOKttHX/8gQ2Nb2Lz7IQ4+8SxPP/sszz71BI8ffJD9u7exdXyIgb4s6WSceDScll3/hr84ErIvd/+E7BSZqEJZEYJ2hXJ5heVqnbLDVUO20jaRSIR4VGM8l3a7TdPp0GzVKVcKLCwtMDU3y+m5BaZyFQqOJpLoZ3J8nG1j/eHsiEqjtUXE0iTtDvlak7YTzmxarZZZXl1mZmmZuVKNYrOD47i4hstDdk+cuKXA0rRrVRr1GvWOQ7Pdpt6okM8vcX5uhtNzyyyUOzRdNyzPMGDFE/SNTrJ1eISR+LoZFwk7/RH4uPUKlXqNasel0+lQq1XIrS4xvbjAufkFpssN2vGwJGUoESVihSG7U1/i2MlTvHNiirP5FRaLJVZrTRqOj2fCUpIwmBbIlUosdRR+coCtgz0MJ+2rHOsKr12lVl1hplij2PYIjEXP8Gb27tnPo5sHGU2E5Tvrn2dZNkr7+J027U6bRqdDs1FltbjCzMIcZ+cWubBSoeJZpPpG2LZtP0/u3cVDoz30dGejVAq0FY513amVabkuzWadUmmF2aVZTp6f4si5cxw+P83pxVXyHU28d5itO/ZzYOdWdg+lSUevU4Z0F7iXQ3Y43GQY3vwW4UyRLWhXNJVFRXlOU1rWNFugU4bsZMDIHsPmHd0WaRXuj6XDL4vbULjtMMC2iprqgmblvCZ3TpM7rynmwoAdSQcMPWiY2O3T28fFsZcNuFVNecpi7rRmdVFRK2ia1XA0ExOE6/iOol1VNAqKegl0CtLjkIybK27olFGoADoNqJcVvhdOnNOuKGo5TXlBU1jQ1CsQGYD0sAlH9lLhWOLOqmZ1SjN9UlPJK+oFRbMelpyEJTXdsFsOSyqaNYgMGlJ94VjV68f3Vhq8tqKxrGhWVDhmf8SQHDFMPBRO+hK92rj62qC1QiuF1wG3rfAdcGrhJDWleU1hQYXD9WlDfNAwtCec1bK/JxwrXHW3YykFJgzXTlvjNro3G3Ph57U8pclNh2HdIRx/e3SPYXyHT2823NbtJCH75txbIdtr0SktM7WwwkonztCm3ex76ACPPvoojz76KAcefpCHHtzP3l3b2LppnNGhfnqzSRIx+6PJMJS6NWUhd0LIxndwK/Mszs1ybtUQSfUysHUv+3ZsZfdoloSE7Jvk0ayWyOfyLLV8fDvO8Ohmtm/ewubeJOmIAmVh+R067RorDZd2YJOI9zM6Osn+nSOMpKNhyEahbZtYPEkqmSAdtYjgEwQ+vufhOA6tjkPbVZhohuGxbTy0ZxcPbRtnc1+adERjqe748XaUVDpFTIe1yWGds4/nefho4r199Cds4k6DuhuAHWd4bCvbJ9dashVYEaK2ha0MJvBxgwDf9/GcDq2Oh2+n6B3exLaBKD2RAGNFiSYy9AxOsHV0iLGkvmJCGdW9CYhaCmV8HC/Aw4Dx8T2XjuviuAEmkmJgZDPbh3sZTkeJaAXGxW0WmZ4LZ02sB+FkLpZtE43GiMfjxGNRYpbuBgGNSvTQOzjGvpE+hpORdSE73DcdOHQ6DZYrHTrGIhrvZ8vmHTyydzt7BjNkrz5bD9q2iEQTJGNxUhErbHn2PFzHod1xaHsBRifoGxhnz+79PL53F49MDjGcti/O1Kh0OJ52LEkmHiMZsdCBR6fTod5sUG00qDaa1NsujoqTHRhn9859PLZ7J/snBhhKdd+bu9idGLL9lqad01TL4fB78X5Dz6ZwZsTEJwnZ2qAjEImFU5tbhCHUuGFZheeELbWRHkPvVsPYvoDxbeFY22thVqlup7y4Itqt0zaewnXCmSidRtjq6jpgbIgNGYb3BGzaF9A/EtaEf/QVMeDXNY2cprCiwhkRw1MUVhQi8XDSFeuSFmtlQXLE0LfJJxW/8tcppQyWHbYE44evD8K/FXjhsHi+AZUw9GwK6B3uTo+uAE/hVhXVnGIlrz7qZKjtcAKbtf2x1wIs4SQ36c2G3sHua1sfspXBeBp37cbBhmi/oWdbwOSOgJ7suk6qHz0RtBVOGR9NKiI6fJ/XXoPnhEMq6gSkxwNGdhsmdxsGRg2xS8pPFKBthZ2ASFxhW2HNtdsKf3Vwup+Z6wJRSI12A/bugIGh8Hty2777XRKyb85ayFZrgwoM9PezvLy8fr27gAGnQSN/jg9OnOfcakC6d5iJ8TFGhnvpSyWIRiwsO0Kk21J9O78btVqNX/7yl3z/+98nnU7zN3/zNzzwwAPo9WeH3yDjtWjmznDu5FHeOVfF0UnSm/exf9cO9k/2kYrdupD99a9/ne9961vsGhzk9158kX3bt69f5S5hMMaltrrI9PR5zqw0KPvQN7yJHVt3sr0vTbb7s59pFVhYmuPY3AqLlQ5GZRgcmuTB/eOMZ+LEP7rhC8fIbrfqlEt55hYXmS3UqXY8OoHBoNDaJprIMjQ0ztbxISZ6U2RidjjRzNqeGZ/AabKan+HUbJ7Fcp2a4+OjiESipHoSeKuznDtylMNlFy/Wx8NPfJrPPfE4j49l6AkH7MV3GxRXl5mZX2R6tUKh7eEHoHSERKaHwcFRRu0StfIqi1Uf106RHdnK/i2T7MhGrhIADSZwaTfK5JYXObeYZ7HSoun53WnYw9AZT/cwPrmDPWP9jKdj3ZDt4NbznDo3w6mFIrWgOwTntSiNTg0wOLaFg5ODTKSjV/xEjAnwWiVy+QWOXlhmqdbGV2mGxzexe/sEm3uSJK95mHZfS7NGaTXP9PIS06t16o6PbwxGaWw7Rk/vMJsmJ9g61MdQKnqVCYAMQeDSblZZzS8ynVtlqdig5ni4QdhpU2kLHU2Q7Rlgy/gEWwZ7GUiFNxTrX9LdZqVU4mvf+xa/uvBLhh9usf/ZDL1D0dt3zjbgNTT1Gc3KoqLegUjWkN0cMDAalhp8IoZw9JCyproUtja322G3B9MNsdGMITNm6B0xZDIB9iXjN69tw3jd/cppijmoV8OgtlaTr3R3FJQ+Q++koac/nMb80kBpTLdcZE6TW1a02uG2r0fZhvSkYWiHTzoB9vrjobtvbs2iuqBYWQpLLPy12uLurI7RjKF/WzjFerwbso2rcUuK4oIit6Dwr3tAh6yooWdX97NIXBmyAdyapjatWc0pGp3wV4LkWMDYpoBU8tLSr3W6r8Vvamo5TXFRhfXoa50RFVgJQ2rI0DNq6BkIiF8tFJvwRsqtWVTzitIS1OvduvcuZYXbSvQb+sYNmb5wW1d7Pbfa/Nkm7/6oRZ95jL/56v+V559/nnQ6LSH7BiLR8IJ/D4Ts8OIYuB3ajocTKGzbxrYjRGyNvuIidnvdCSE7HCbNwek4dNwAo8KxgiPRCDHr1rYa3TshmzAg+R6e6+L4YejTlk00Eoapiy1IQdhS6/lhvwE0lmUTi9pXtPaG64ejU3iuh+P7uJ6P5xmMVthaY9k2tm0TjdhXDW3GeAROm+WVGsQS2BGN7l6NtTZ4rUWOHXqXn7x5lBNVA6lxnnj6U7z05EM8NJQi/dE9V3c/HA/H83C8cBIVbVnhFOm2ja26o3kEhDcBlk0sErnKfl1kTEDguTiej+P6eL4fXmC7o49EbI1tR4nal7aGhzcgrhvux8e4Hoe/ItgRYnY4u+VVXeOziUav9t5eyXQn/3FcH8f18LzLX0s0Ep6bora+MuRfyhh8Lxz1xfP9cDu+wdfdISFtm4hlEbHCMdGtW3nQ/gbdcSE7/EqErc2+DkOsDsKpsq9WZvAxmaA7tJun8dxw5A4IpznXkQDbDsPodS8L3dbhwAPP0wSXhmwblBVgdfdTr5VkrHPFa7uhIJyKfa185Vq6o4P4brhva+OCr408oq3w5uGy9zD8EYvA1xdbwG9Ehe+XvqI+/CITdMOyd/HzUxbY6zs8Xsva++xqPD/83NZei7bD16Gt8PO67ubW3pO1z2utc2n31wNtdz+vtRlAr7uxW0dC9s25t0L2XeSOCNl3kHsrZN8a5qOrYdgD77qnOuPjd6qUC9P829sr9G/dxubxQQZT4bTgXqdOce4DXnnvA358Kk/Fi5Pu289nnn+Clx7bxrZsnPg1/sCl+7HR59tw2x/j9d3hNuY9CrdxcVM3Dvt3qzsxZN8SlxzSN219SP51trWR7tT9ulmXvp5f57Vs1HZ+wyRk35y1kH1/Jjsh7mIf9SG4YQA1BF6HamGWU+/+jF+deJNv/uR7/B/f/S5/9+Mf8Y2f/YB/+MF3+N9/+h6/PF+g6insRIqRHZvZPDHEYCxC9Dp/4NL92Ggf7/Xd+TbmPVLdkH7r+o6IWyz8iH89a9vYiG1tpDt1v27WRr2WjdqOuKNJyBbinqawdIR4JAp+h3Ixx9T0WT48eZy3jp3g3bMXOJUvU+xAPDvE5l0P88z+7ewbyZCJaDlBCCGEEDdJrqFC3LMUyrKJpweZ2HmQ5w8+xJO7trBzIE1SGzqOwbcz9A1OsnfngzzzyGN89sDDPLlliIlMlOj6oQOEEEII8bFJyBbiHqZ0hEiqj8Etj/DZZz/Fl599is8/9gjPPbCPR/ft47EHH+ZTjz7B5595ji8/8ySf2T3Olt44SUvJyUEIIYT4Nch1VIh7nNIR7HiGwYFRtm/bwxOPPM4Xnn6eP3j+Bf7guSf5wsGHeHLXZnYM9TKUjhG3pO5XCCGE+HVJyBbivqBQKkI8kaa3d5DxkTG2jY2xfWSYif4sfak48YiEayGEEGKjSMgW4j6zNkqF1hqtwqmDJVwLIYQQG0tCthBCCCGEEBtMQrYQQgghhBAbTEK2EEIIIYQQG0xCthDi+owh8B0cx8V1A4L10yTfBYzv4zkOjuvjBeaKmZ6FuN+YAAIHfBfMXXhAmAD8Nvje3bn/4v4gIVsIcQ0GE7i4nRqrS2d5f+oCR3MlKh33miHVGEMQBPifYAkCQ2AuCb7GEJjLH7/aRfTyv7VuG5euF/jUS4ucnznLB9MLTFeaNPyAYP2KQtwPDAQdaOY0+WmL3LKm3Vm/UrieCS5ZzA3C7Pr1u8/56LGrPX61dT8OV9NetVg+YpGf09QbYdgW4k4jIVsIcVUm8Oi0KuQXzvHB0UP84sPTfDhXpND28NevjMEYl3azQaVSpVCpfMylSqHWoNHx8I3BGB/PaVGv1z96vFRv0nR9PMNHIdoEPm67TrW+to061baH618ZtI1xqBYXOHP6CG8cOcbb5xaZKzVp+8EV6wpxTzMQtDWNZYv8KYvZY5qFWUWrffHY4qNWYk27pmmWNY2aptW8TpANwO9Au65plDXNqqbVAM+DIIDABbfe3dZVlmZN026C24HgRi3TJmyBb+cU8x9YzBzR5OY19evtnxC3iYRsIcSVTIDXaVDKzXLs+If84tgs5/N1mm0P15irtAIHmKBJKTfP2TNnOHzqNIc+1nKOI+cWmSs1aASGwOvQrOY5P3u++/hZDk/NM19t0fAuhuLA7VArzjF1/jQfnD7N4fOznCs0KHeuVs7i43sdmtUCcxdO887Rk7w/nWOp7uBdsa4Q967A0bRXFaunNXMnNPllcNrdluS1lQwYB5yyojytWTqjWTqjWJnXNJqXh/FL128VLFbPa5ZOhc8pLGha3XIUr6qpLmiWz3YfX7+c1uSnLFbmNeVVTaPBVY7jSwSKwIVOXbFyymL+hCa/pGl2bvA8IW4x69/BvwP4D4kEf/u3f7v+cbHBHMdhenqaM2fOEI1GOXDgAMPDwyh1f45UfOTIEc6cPMlAMsnebdsY6utbv4q4DQKvTb2wwLmzR/jp0QucrvWwfdc+nti7mW39adK2Xje2tovnFDn74WHeeu8w71yY5tjMDKduuOSYW/WIZHsYHkyT8moUls7x+uGj/PzIaU7NzDJTqGOyQ/Smk/RELSwFXrvC0tSbvHH0CK+dmmWq2KAdH2Aom6IvYWFddjwZNAa33aCQW2KuUGLVixJL9TCeTRK3NPfp4XfHabbbfHjmJHPlaVIjHkObYsRTlnw+GyGATkVROhuG0pW6ITlumNhr6B80RGw+OqaDjqa9aLFw1GL2pGZlTlGrQbQH0v0G6/LDi6CiKZyxOH/YYvGMprgMjoHMZkPUaDrLmsUTmumjmty0ZnX28qUw0/3fc5pyCRwgnjZYGvTVmgK7Y/urtqKSV9RLCl9DrAcSSYNtrX+CuFnVosviOY8E4xx4+HG2bNlCNBq9bzPLx2X9+38P0pIthLiC8XHaRRYWLvDBmXmmq9C3fS8H9+1g/1gPfTHrKicOgx84NCpFlpaXmFlc4PziIheWlphevtayzEwuz3y+QrHp4hgwxqPTqpIv5JlaXGBqcZ7T87McnV1msdKk44dt6H7g0q4XyOUXmF5aZCZfYKXeoeWZK1qylI6S7h1l5/YdPLZzjGG7ycrsaQ6fPc/xYpv2+icIcQ8yLU1rUbN0VrOyCpF+w8jegJHxgETsYsAG0AqsCHgtqC4rSnOK8pymXFI015VzmACcmqa+pKksKEo5RbmuaCuI6jBk+G1Fs6AoLynKi+F/K8sXl/KSojiryJ/TLByxOP+OxcljmnIlLDm5jAIVDYgPGkYfCpgYh7irKM9olqYUjYa+yi9tQtweV14rhRD3tcBzKK8ucm5uhlMFh3ZsjAd3bWPPRC+9sQj29RowAoMJDAaLaKKHiS17eOaxp/itJ5/ii09dZXnyMT57cBf7R7Jktcai+/MzBmMMxgS0W3VyC4ssFqpUXP+jevCAsLPjR0v41KtQ6EiCnoFxdu7Yzv7RFFlnhZnZGT64sELJCfCu+Vwh7g2dYlj+UVgBJ2rIbgoYWgvYlx7T3RAb6Q1IZQ0JG7RR+G1FowLNJpeFWGM0nQo0imFNNbYhmjWkRwzxCBePaROWchjLYA0EDO312fGkz64nfHYcDBjfbsikDH5VUb5gMfe+xeKcptaE7r31ZVQsIDHqMbYroLcPggqUZjQreWg7cjyLO4OEbCHEJQI8p8ry8iIXFlcpeRFSw9vZOzbEWDJK7GP+DKuIkEgMsX33QT77wuf4w89+jj/67Of44xcvXV7kj158jt99dj8HJvvoj1jhBXkd47apFpaYXS2wVHdxr3LBvSGlsRJZ+gfH2T85yGgaaqtLnDs/zXStQ/NmtinE3cLRNPKa1TlFswWRIUPvuCGTBttevzJgg04bsgOGbBoiOmxRbpQVjTKYS3o+G1fRLCtqZYXvhOUdqV5Dz1BA5GoJIwKREcPYwYD9n/HZ/6LPvhd8dj/hM7ndkM2AaUF7zmJ5WlMsaNz1rdmENwM6Bqlthp4hQ9wo2iuK/JwKbwQkZYs7wNUOASHE/Spw6NRzLOVWmC85mHiayW2TTPYmSdv6458wlMa2o6TTWYYGBhgbCpfRwfVLP8P9aTKJ6OV1npcyLu1mkdl8gflSnY53M4lYoVSUZLqXyfEJRnvSRDpFivkLHF1qUm5drcOkEPcGU1XU8opSBTwF2RFDz3BA7JI67PW0HZAegHQ/WNFw1I9GSdGsaIK1jpIe0IRGTdFogWtARw3JHugZAGWvayWnmzoShmivIT0QkB4KyI75DO8M2LLXMDpu0EDQhsqColEC171Gy7QFkZ6A7BCkExA0FOVpRaUcBvOrPkeIW+hjXzOFEPc+47q0ynly5QoFJ0YsMcCu8V76UxGsT3q2UAqlNFpptL7eoq68EK/jdpoUl3Ms5EqsOt7NjQqiFFYsSap/kLFMhkFc6rUix+cLFBsd/OuOGybE3atdVNQLipYTBtxMvyGTBX21Vmy6rcQWJAcN6UFDJBKOIOIWFK2iotUN2SYAt6bo1BRtDwLLYKcNyT5DOhnWdl+VCtOHskBp0FGIpiE1GJAZMB91dnTr4DTBv2T4zsso0JGAVJ8h2QvKV3RWNZWyouVKa7a4/T7pZVMIcc8yeF6HUnGVYq1GW8WIJ/uZ7EmQjq4fTeRj6NZUB0GAd5VJaD6abOYak8gAoC10JEZUeTjVHIv5HDOlNu2bStmAFcFO9DKQSdEfB7/TZmV+idVGm5Z/taEJhbj7tYqKZgk8A1bWkOwxxKPXCcGErcR2T0Cyz5CMgR0oghq0K4qGE9ZJG0/TKUO7Br4PxCA6CMkBQ1xfu5X8qlQYurV1STBZ62hxvcNdQzRriGfCUU+ChqJShFbz8rIWIW4HCdlCiK4A12tRLFapNBz8SJRoOk1fzCb6SS+YJsALHJqNGsVygZVCgdy6JV8osVqtU++4l000c5ECK0E8M8RIb4SkqpHLL3N2sUzJ8fGvfMINKCCCZSXJZmJk0grcFp3VZfKNJlXf3MQ2hbjDBZpmGVpVMBqsHkM0AVF1g2NaA3FI9IYdEqMW4CradUWjqsOJZlxoFhXNkiLwIBIzpAcM6V64ViM5dDtCBhD43clqPPAccJqKTkN9dBxaCbBiYF3n/KM02AlDJBmOZuL7UC1Aq3GDSW2EuAUkZAshujz8oEW16tBqGowdIZpKkIpYRLsR9ePzcNtVlpcvcPTkCd45cYK3j69bTpziw3NzzJSaNNyrTJ2uFNhJUj0T7BgfYDAFjdIK0/MLLNY7tG+q2VljWzHSqTipVAQduPitAqVGh7ob/iwtxD3DAC50mopOC1CGaMIQWTdk3zXZAYnegMygIRIHEyhaNagVw1DsdRSNcvhvvgE7Aem+gHTmOgenAdNSOBWoFzT1VU1tRVOcV+SnFcVcWOahNMQGDPEsWNZ19leBikE0Ht4IKD+sHe+09FVHJRHiVpKQLYQIGZ/AbdFoubRcMJaNFYsS0Z+gw2OXMR6tZpGZc8d49a3X+O7rr/Gdy5bX+c7rb/Fv75/mWK5KxbtaqYYCZRNL9TE5sYnxbIpoe5WV3BznVtvUOjeXiLW2SMSTJOJxlHIJ/DLVpkPzqrNFCnEXM4CjcBxwAgVWOP61ZYch9oYUxLKQGoBYPGwZblWhtgpuU+M1FI26oulcrMfO9EIiuX5Dl3AUXkFROG1x4ZDmwvsWU+9YnHvD4tyHmnxeYQAraRicMGT7AiLXaxZXoKJh3XhMGywP/JrCa12nlluIW+TjHGZCiPtB4OF1alQ6Hs0AbMsmHokQuVGvxKsy+L5Do14hv5JnIZ9n/rIlx3x+laVijUo7nIjm6rpjXPdPsHUoy2jcoVJZ4dhsjpVm5zpjY1+f1haW1mHRp2nj+UFYY3pl0hfi7hUADUXbVXTojsYRA8v6+F90O2WI9xtSMUPUgF9VdFYVrYaiXVE0G4S/KiUN0QFDMgPx6yULH/yCZvW0Zvpdi/PvaqYPWcyf1RRWFK0OWGnD4KMek9t9+nquMczgJZQGpcNRSdZa7z3/Ykm3ELfL9Q4FIcT9JAjwXY+OCfCVwrY1iYiNvm7vqKtTyiaZGmLH7oO89EI4LvaffW798gK/8/QDHBjvod9W1+6EpWwSyV42jwwx3pckaNZYnpnlXKFOYcOG6TJyORb3FtMN2S74XrcUSkOk25L9scUg3mNIZSFmA22FU9ZUS1DLQ7uuCAxEk+HoIPFMcP1gYcKRStrVcDr0elHRqIKLITZgGNrns+M5nz2P+gwNQ/zjlrZchRzR4na77rEghLjPXHI1U93/u7nTRIRYvJ8t2x7g+aee4+Vnn+NL65dnnuRzB3azfyhLNnK9v6KwY2n6h8eYHOxjMGjSLiwwnW+yIpNOCHF9KuzesHZof/TD1MdNrlZANG3IDEI8CfgKt6Eo5xTFJUWnBsYYYilDz8ANSkUIJ7qxBgz9uwO2HPTZ9mh3ORiw7TGf7U/67HjUY2wMEvEbjIAixB3u2tc1IcT9RSss2yKiFRqD5wd0fB9zMzUUSmNHoiTTWfr7+xnp62dk4PJleKCPwZ40mXiEyA2upNqKkuoZYtPwMFuzoL0yqzWHWmuDmqvUR/+PEPcOFZaIaN0NqwF4bjiix8c+bhREEobUoCGWAWXAaSjKi4rysqLdBKIQyxrSWYhG1m9gnYghMhYw/qjPAy9eXPa94LPz8YDJnQG9/RCNhfv9ianujYUc0eIOcDNfYSHEvUhZWJEkGcsiDni+R8t18YObCNldSqlwMhp7/QQ0Fxf1cWq+lU0k2cv46DA7xzOkIgGuG+Dd5Di4xgSYIOheje3uvnzMzmBC3A26AZsERG1DhG7IdsLykU/CSkBiICCZNkQUeHVFbUFTLik6AehMt2472S0puR4NKmlIDhn6JgL6JoPwv2MBPYMByWtN9X4dJlAYc8l5RIcBXYK2uN3kkiKECGkbbSdJJSIkbDCBj+s4uNebLOZW0RrbTtA7OMqWTeNMxmMkbvLqGQQBjtPBcR0MEbTKkIzbxKJXmQJaiLuZAmKGaARiqjtDowu+rz/RMa2iEOkxpDOGhAWmDe2yotUGV4dTpKeGDfH4DeqxfxO6tee+D45R+BboZHd87fXrCnGL3fLjQQhxp7Kw7ATpTIREApTv4bcd2p7PJ2z4+o1Q2iaWGWB0eIJ9Q3F6YjeTiE04vGC7TbvdDdmRQfoScdIRjXUzmxTiTqUA2xBPmPAmMlC4HYXrfMKRdOyASMLQ0wfZTPdm1O/2h1CQzEKmPxy55HYwHXA6io4PxoJ4ryEaB/s6k9gIcStIyBZCdNlE7BQDfWkySRvLadOpVSl0fDp3wnizykbbafr6R9i1bYiBVOwmWqoCfL9Do96m0QgwdpRI7xCDqThpW0nIFvceOyDRA/GMQQXgVhROC9xPeExbMciMGNJDl9RKK1BxQ7I3IJO5wXjWvyk++G2F1wYnCEdOyfQbEulAyr/EbSdfQSFEl8KyY/T199ObSRHx27TqRRaqberOJ7sg/6YoHSGZ6Wd8cisTvSmy15sJ7grh2GFuu0qh1qLQACuWpG9ilOF0grRWckIU9x4FiX5Dsg+sAIIytKqKjvfJph3XkXAGxlS/IabD8KBsg91jSPYZkslwZsZbzRhw69CpKXxjUHFDz4AhmZI+FuL2k6+gEOIjVsQm3TvMULaHHsuh0ywxvVKj0vZvMFSeQiuLaDxBJp2mN5OmJ5UkEbU+Weuw0tiRGKlkir5Mmr5MkmwiStTqdkxUCiueoWd4C3snhtg+lGEgm6E3lSAVsa8/SokB02nTrqywVK2R9y0SqSy7to7Qn0oQUeGAhULca+J9hmS/IWpD0AzHp27UIfgEHYdVBCJ9hvRQQF+vIZUxJHoNmbFweL+YfY3h9hRo2xBJhK3pibQh1i3l2AjG0zSLimYFfA2RfkNfPySiNzk6iRAbSL6CQoiLdIRodpTxwT7G0uB3aszM5MnVm7SCq019vsbGivaxef9BXnzp8/zR51/kD547wJObBxi81sX3aiJp+kZ38dxjn+Krn/8CX/3Ms/zOI5NsycaIKxVesa04qZ5JHjnwLL/7uS/w51/4PH/y/JN8escQY6lrDwdo8Oi066zmFlmqVKnpHrK9kzw8nqU/YckFWdyzrD5DetDQkwLLV1RXoVrSuJ8gZKMDdNLQv9tn12c9HvyCx0Mv+ux73DA6FhCLXP1XJRWBxKhh/FGPBz7Xfc5DAYP9wa/f0diENw21AtSroGKGzERAticgal99f4S4leSyIoS4SEWIxvsYHx9l62gPSb9FceEcZ3NlVlteOGvcVVlYVpaJHft48pln+K1nnuRzB/fx8GgvPdedaGadSJLs0BYOPvgoX3r2ab709EE+s3uU8XSMqF5radZEEj1M7niIpx9/lpeffY7fevRhHp/sZTh5rZbzAOM2qZaWOT2fY6nsEu8ZZtPWHezojZK5RkAQ4p6QCEiPBAyMGeI2tJbDca6b7e5MkB+TigSkJgPGn/TZ8YzPrid9tuz26e259iySKhIQHfQZ3uez82mf3Y/77NwV0NPz64/mYxxoLigqOUXThWifYWizIZUG62OfdIT4zZGvoRDiMtqO0j84yY5NW9jeZxFpzHL0zBSnlyuU2j7eNS/KCqU0lmVhRyxsS6M/CsYf16XbiGBbGkurq46lrZSFZUWwLQtbayylrnHRNhi3Q6OUY2bmPMcX6xToZWLTZh7ZOcZQNIIVtpELcc+KDxr6tgf0DYDd0FRnNSsLmlbrE86aqkDbYY22trvjUd/o4FFhfbS2w+XSGShvlnGhU7TIn9OUiwqTMWQnDUOjkPg1pmIXYiNJyBZCXEbpCIn0EJsnt/DIliFGEx1yUyf44MwM5woNam5wnbKRO5DxaDWLzM9Nc/TsAvNNTWJkG/t2bOWhkSSpiHR4FPc+KwXpScPoNkNfGtrLiuUzmtW8puOuX/vOZlxwS5riGYuFGUUjgPR4wPD2gJ6eQFqxxR1DvopCiHUUVixN//AmHti9myc395B1lzlz7gJHp1dYaTl3xLjZH1cQtCnlZjk9dZ6ThQ5uaoIHd+3m0a2jjCbta5SXCHFvUZGARL9hYHfA6BZD0iiq84qlWRW2Zq9/wp0qANPRNBYtZo8pylWIjRqGdxpGxgPi0oot7iASsoUQV1IWsVQ/o5v28KmDB/nMngFSVodys03nE/WWugME4LYatHywh7fxyEOP8PzeLeweTBH/xOUsQty9dCIgNe4x/pDPpl0Bmbii0wTvLmvJxoDbgUYNUpsDJh7yGd/mk0khN83ijiIhWwhxVUpHiKUGGN1+kM8+/hRfeGwPBzf1Mxi3iaxf+Q6mrDh9w5vZt/8gn33scV56eAd7hjOkLAnY4j6jwEpAeovPxMGA7QcCJrcakom7KAxoUPGA5HjA5kd8dj4VsGmXT08P2NfofCnE7XLXHFdCiFtPaZtILM3gxD6e3rubxzb1MZCI3FXhVCmbdN8kO3fs5fEd42zpS5KM6LvqNQixYcJRMEmO+gzvDhifDEjcpunQb5ayITHkM/F4wOgWn1Tq2qObCHE7ScgWQlyHAh3BTmQZzGboS8WI3G29ipTCiiVIpbP0phIkI1pOfOL+1g3a8UxA4m4MqCqc5j0xEBBLhi3YctMs7kRyrRFC3JhSaK3Qd+usiCocBvCu3X8hNprqDqV3tx4Q3WEB79r9F/cFCdlCCCGEEEJsMAnZQgghhBBCbDAJ2UIIIYQQQmwwCdlCCCGEEEJsMAnZQgghhBBCbDAJ2UIIIYQQQmwwCdlCCCGEEEJsMAnZQgghhBBCbDAJ2UIIIYQQQmwwCdlCCCGEEEJsMAnZQgghhBBCbDAJ2UIIIYQQQmwwCdlCCCGEEEJsMAnZQgghhBBCbDAJ2UIIIYQQQmwwCdlCCCGEEEJsMAnZQgghhBBCbDAJ2UIIIYQQQmwwCdlCCCGEEEJsMAnZQgghhBBCbDAJ2UIIIYQQQmwwCdlCCCGEEEJsMAnZQgghhBBCbDAJ2UIIIYQQQmwwCdlCCCGEEEJsMAnZQgghhBBCbDAJ2UIIIYQQQmwwCdlCCCGEEEJsMAnZQgghhBBCbDAJ2UIIIYQQQmwwCdlCCCGEEEJsMAnZQgghhBBCbDAJ2UIIIYQQQmwwCdlCCCGEEEJsMAnZQgghhBBCbDAJ2UIIIYQQQmwwCdlCCCGEEEJsMAnZQgghhBBCbDAJ2UIIIYQQQmwwCdlCCCGEEEJsMAnZQgghhBBCbDAJ2UIIIYQQQmwwCdlCCCGEEEJsMAnZQgghhBBCbDAJ2UIIIYQQQmwwCdm3mDEGY8xH/9v3/Y/+7X5cgiAI/wuY7v+WRRZZ7tOlew7AAN3/Gt+E/1MWWWS59UuYVsL/6x6n4uNTa+/hQH8/y8vL6x8XG6xarfLzn/+c733veyQSCf70T/+Uffv2ofX9eb/z3/7bf+NH3/0u2wcH+dLzz7Nn69b1qwgh7hOr5TLf+OF3eXv2NQb2t9n7dJaegQhKrV9TCHErLJxvcvinbfrUQf7Hv/6/8elPf4ZMJoOSg/K6ItEoSMi+9dZC9je/+U1WV1c5ePAg4+Pj9+0X9q233uLIoUMMZzI8sncv44OD61cRQtwHDFBvNvnV4UNMFU7TM+ExtjNBMh1Zv6oQ4hYpr3SYP+kz1vsQ/+f/0/+dl19+md7e3vs2s3xcErJvk3q9zjvvvMP3vvc9jh07hu/72La9frX7xuzsLMtLS2TSaSbGx8mk0+tXEULcJxzHYXp2lkq9TE9fhuGRfqLxKAq5oAtxO9RqDVaWS4yPTvI//U//F77yla8wMDAgIfsGJGTfJp1Oh7m5OaampigWi3iet36V+8rrr7/OoUOHGB8f5+mnn2ZycnL9KkKI+0S1WuWXv/wlCwsL7N69m0cffVRazYS4jWZnZ3n11VcJgoC//uu/5stf/rIckx+DhOzbJAgCWq0WrVaLIAjWP3zf+eY3v8lPf/pTdu3axZe//GX27t27fhUhxH1idXWVb3zjG5w9e5YnnniCl156iZGRkfu2z4oQt9vx48f5x3/8R0qlEn/xF3/BZz/7WbLZrITsG5CQfRtJD92Lvv71r/Ov//qv7N27lz/6oz9i//7961cRQtwn8vk8f//3f8+pU6d45plnePnllxkbG5MLuhC3yZEjR/ja175GsVjkz/7sz3j++edJp9NyTN6AhGxxR7g0ZH/lK1/hgQceWL+KEOI+kc/n+drXvvZRyP7Sl77E6OiotGQLcZscPnyYr33taxQKBQnZn8BayJYzlxBCCCGEEBtMQrYQQgghhBAbTEK2EEIIIYQQG0xCthBCCCGEEBtMQrYQQgghhBAbTEK2EEIIIYQQG0xCthBCCCGEEBtMQrYQQgghhBAbTEK2EEIIIYQQG0xCthBCCCGEEBtMQrYQQgghhBAbTEK2EEIIIYQQG0xCthBCCCGEEBtMQrYQQgghhBAbTEK2EEIIIYQQG0xCthBCCCGEEBtMQrYQ4vYxAYHn0Gk1aTbqNBoNmm2HjhcQmPUrCyHuSsZgjEEOaXG/kZAthLj1jCHwHdrNGuWVeeamTnDy6AccPXaC0+fnWVypUW15eIFcmIW4+5iPbqCdVotWvUmr1cGRoC3uMxKyhRC3ljHgt2kWl5k5+SGH3nyFV/7th/zrd7/L9773Q370k1/y6pvvc/j0LIvlDo4EbSHuHsZgfAenWaa4NM2Fkyc5efQs0wtFqm5AsH59Ie5hErKFELeQAePQKc1w7q3v8o3/73/kP/4v/zt/99//lR/+4nV+8bMf8v1/+j/4u//P/8z/+//3j3z73TkWaw4dCdpC3MEMJvDxOy2a9TLl/CxzJ3/FG9/5O/7u//X/5D/+r//M9381Rb7t4q9/qhD3MAnZQohbxgQdOtVZzr7/Cj/911c4NlOg4kWJpbL09A3Q39dDJhlDu3VWz7zLr374L3z/nXnmCm0cKdIW4g5jwmO6USA/d4rDv/ox3/36/8b/+j//P/gP/8vX+cZPP+DD2SLFpocXBBjkZlncXyRkCyFuGb9dpzJ3nFNH3uPw9AolL0Zq08M88dIf8qd//Tf8D3/5x/ze5x5j30QG3SiSP3eC4++eYG61SsORn5qFuKMELn5jmQuHXuMn3/423/nOj/jp6+/y/rGznJtZYiFfodpycAI5csX9SUK2EOIW8XE7FQrTU8xMzZBr+pDoY2Lfozz+/It89sUX+eznPsOnn3uMR7YNMRhzaJeXyU8dZTZXptT28eRaLcQdxMNvF1mePs3xQ0c4cW6e5YqPimfo6Ylj0e2DIc3X4j4lIVsIcYs4eO0qhcUC+cUajmcRTQ0wsW0rW7dOMjzQx8DwOGObtrNj0wDjWYPxqjTKF1hcqVBpeARGrtZC3DGMAePjY2GlhxnZuo8HDj7B008d4MCecXojFhGl1j9LiPuGhGwhxC3i4bkNqsUm1aKBIEos2kd/bw/ZTJSIVigVwY4mSKVsEgkDxsN1a5TKdRpNl0B6TQlx51AaFUnRO7ab/c+8xG/94Z/yZ3/xJ/zR73yap/dP0B+xsQGJ2eJ+JSFbCHFrBD6+26HV8Wh7YIhjW71kkgkSUcB4eM0S1ZUllperFGvh04wxeEFAYIJwdBIhxJ1BRYmkJtjx8FN8+sXneObxB9i3fZKJ4X56U3GiSgK2uL9JyBZC3Bqei++0aHoeTSBAo1QM29JoXNzqAtNHX+PVn/2CVz+cY6a6fgNCiDuKslDRDD1DI4yPDzKQSRCPaKRCRIiQhGwhxK1hDMbzcY2H222TVhgCp051/jTH3voFP/3Ja7xy6BwzhTqeXKiFuAsolFpb1j8mxP1NQrYQ4tZYq/T4qOLDw2mtkrtwlEOv/Zgf/+RN3p3xoW8bW7cNMd578alCCCHE3UZCthDiNjAY06RWPMWRN37Cz14/yplmD6MPv8BnPv8CLzyymcns+ucIIYQQdw8J2UKIW0OBUgqNCjtDGQenU6VSN+jBfRz41Of5wqef5Il9WxjvixO31m9ACCGEuHtIyBZC3Bq2jY7EiNk2cUApm1hqiIm9T/LU8y/x2WcPcmDXKMOZKLZ1teLOq/2bEEIIcWeSkC2EuDW0hRWNkYxGSGiwlE08M8zm/Qc48Mg+do73kUlEsHS3k2S3dlspRcS20FpL0BZCCHHXkJAthLg1lIWOJkgmIySToJRBadCxGPFYjFjEQquAIPBwOj6OC6Cx9NrjGiVnLCGEEHcJuWQJIW6RBJFIHwNjaQZHFUq3aTmr5FZKFCsdPC8gCFq0G0VW8y1KRQVEiUR7GOxNkkpE0FpasoUQQtwdJGQLIW4RTSyRZXzbDjZt20zMVnTKOS68+zpvvv4W758+y6kj7/Le66/wq2PnOVfTkBggOfYgm0b76E9Z2JKxhRBC3CUkZAshbhGFFcvQs/lB9j54gAObkiRpUZ45xqFXfsD3/vs3+e/f+h4/fOUQx+cr1FWa/oldHHjmMbaP9ZGNaaQhWwghxN1CQrYQ4pZRkTjR/m1sf+gpXnj2cQ7uHKY/0qA8f4Kj7/6Kd947zqmFKg2rj5GdB3niued47rHtjPeliFtauj0KcVdQKK3RloVlWdiWRqvu0J1C3EckZAshbh2l0bEMfVse4uALv8VLn3mOpx97gD1bNzMxMsrI2CSbtu9j38GnefbFF/ncZ5/iocksPXFLWrGFuCtoVCRJum+crXv2sffBPezavYnxwSwJSyPD34v7iYRsIcQtpFDKJpoeZHj7QR77zJf43T/+S/7yr/6av/rqV/nLr/4VX/3qV/mLP/49fuezT3Bg+wj9CYuolsH7hLgrKJtIYoTxfc/x8l/+FX/5N3/Bn//JZ3n2wGaGYhEJHeK+It93IcRtoLESWfomdrH3kcd58tnneO5Tn+JTn/oUn3r2SZ48sJfdk/1kY3KSEuKuoixUNEvP2C4efPIpnnzmSZ54fC87J/vJ2FqOZ3Ffke+7EOL2UgptW9jRCJGIha2VlIYIIYS460nIFkLcGZRCKUnXQggh7g0SsoUQQgghhNhgErKFEEIIIYTYYBKyhRBCCCGE2GASsoUQQgghhNhgErKFEEIIIYTYYBKyhRBCCCGE2GASsoUQQgghhNhgErKFEEIIIYTYYBKyhRBCCCGE2GASsoUQQgghhNhgErKFEEIIIYTYYBKyhRBCCCGE2GASsoUQQgghhNhgErKFEEIIIYTYYBKyhRBCCCGE2GASsoUQQgghhNhgyoABGOjvZ3l5ef3jQvxGff3rX+f73/8+u3fv5itf+QoPPPDA+lWEEPeJfD7PP/zDP3Dq1CmefvppXn75ZUZHR9Fa2oOEuB2OHDnC3//931MsFvmzP/sznn/+eTKZDEqp9auKS0SiUZCQLW63r33ta3zjG9+gt7eX559/ni1btqxfRQhxnyiXy/zkJz9hbm6Offv28eSTT9Lf3y8XdCFukwsXLvDTn/4Uz/P46le/yssvv0xPT48ckzcgIVvcEb72ta/xn/7Tf6LZbLJ161YGBgbWryKEuE+0221Onz5NoVBgeHiYLVu2kE6n5YIuxG1SLBaZmpoiHo/z13/91/zJn/wJAwMD8uvSDUjIFneE73//+3zrW9+iUqkwPDxMT0/P+lWEEPcJx3GYn5+nWq2SzWYZGxsjHo9LyBbiNqnX6+RyOSzL4uWXX+Z3f/d36e3tlWPyBiRkizvChQsXmJqaotPpkEwmicVi61cRQtwnfN+nVqvhOA7RaJRUKkUkElm/mhDiFnEch2azCcDWrVvZvn07sVhMQvYNSMgWQgghhBBig62FbCmqEUIIIYQQYoNJyBZCCCGEEGKDScgWQgghhBBig0nIFkIIIYQQYoNJyBZCCCGEEGKDScgWQgghhBBig0nIFkIIIYQQYoNJyBZCCCGEEGKDScgWQgghhBBig0nIFkIIIYQQYoNJyBZCCCGEEGKDScgWQgghhBBig0nIFkIIIYQQYoNJyBZCCCGEEGKDScgWQgghhBBig0nIFkIIIYQQYoNJyBZCCCGEEGKDScgWQtxBDMZcbwGz/ilCCCHEHUitXbMG+vtZXl5e/7gQ4p5zMbBiDAaFUmvL+nVDxgSYbsK9uD6oaz3hZhgfz+nQdjx8/ypRWimUFSUSjRKP6GvuqxB3JoMJAgLPwwsCAjSWHSFiyXdZiHtNJBoFCdlC3G8MJnBx2x3azQ4dP8AohY4mSCSSJKIavf6CbwL8dp1Gu4PjGgI02o4RT8RIJKJY61a/KcZAu0R+cZZzc6sUa+0rmqyVHSMxOMHo5Ga2DadI2Ot3VIg7mPFo14sUlnPkijWaKkPf+Fa2DKZIx+VHZSHuJRKyhbgvBQROnUpukfkLi+SqTRxlEx2YZGzzDrYPx9eFV0PgtKjNn2RqfpXVmodrJUj0jLF5ywSToxliWvFrx93Ag+JZPnz7l/zLK0c5O1/GBJevYid76N/7DE++8BK//fAo/UkJJuLuYZwqK9MfcujNd3jn+Dyr1iTbn/htvvjcdrYNJ4n+2gfRx2eCIPwlC2DtFym1AcexEAIuCdlylRLiPhP4bWr5ac69/RN++v1/5p+//W2+/dO3eeP0KrW2f1kDsjE+nlNh6fAv+dUP/5nvfPtb/MsPf8bPD19gttwhCK5S1nGzAg+306BRrVAqliiVixQLeXIL55mZmeL8zDRzyysUGy7eRv5dIW4B065Qnj3B8eOHOXT4GEfeP8yh145woVCjHhjW3VP+hhgCr0OrUqawtMzyYo58vky15eIGV/x4JIT4NUnIFuK+olAqiq1cjLPI0sJZzp49zYljZzh7fpFKyyFg7WJrwLTx2nnmTk1x+uhpTp8+w+xijpqvwY6jN6qYVGlIDTO+9zle+uIf8hd/8Rf8xZ/9GX/w2y/w5PYEfUmFtUF/SojbwgQEgY/r+vi+wbgurXob1/cJbtF325g2reocU2/+nJ/81//CN/7zf+Ofv/cqH8yWqDph1ZYQYuNIyBbivqJQOkq6t4+hiUGS8SiB69EuFCjOLVFou7TXLrQmAKeJV5nnQr5Kvu7QcSPEY32Mjwww1JfC3qifmJWG5CAjOw7wqc9+gd/93d/jd17+El/4zOM8sjlGT0JdWSsuxF1ExbL0btrPQ48+zbPPPsszn3qaZ57fy+aBFImNOo5uxLi4zTxzx97l7Z/8Gz/58c/45RsfcjpXpREYackWYoNJyBbiPqNtm3jfEEMT2xnKZElgoF6knV9gsdqhvtaiZXyCdo3m0gVmKlWKnsG3e0n1TjIx3MtA9iqdJAmf5zktWo0a9WqNeqNFxwnwb/R7uLKwo3GSmTSZngyZ/gy9mRTpuML+dc5UxhB4Du1Wg3q9Tq3RpNXxbrw/XcYYjB8Q+D6+HxAE3ZFZMBgT4HVaNOs16vUGzbaH4689fi0GEzg47QaNWp1GvUWr433yEpjAx+u0aTXq1Gt16o0WLcfnk27mZpng8vfFhF8aAr9Du9WgUWvQaHZwPnq/rseE3zffx/d9/CC4WD7R/fycVuOj71P4+d1go8YQOB3azQa1ep16o43nB9d+f0x39I+1ffADgrVReK7i8nX98Htx+RpgAsza43aKvk0HeeYzL/OVr/wRf/onX+YPvvwIO4czJBQfL2SbAOM7eO0mjXqNaq1Bo+nQudF3zhhM4BN4Pq7j4LodOk6bdqdNx3FwXR/X8/Euee3+jbZJd7ueQ6cVfpfra9/lGz5xnSDAdzq0Gw0a1Rq1eoNmx8e74j0V4u5i/Tv4dwD/IZHgb//2b9c/LoS4BykV4LSqlE5NsbRSpOJ2iPSkGdh+kC3DWXrjCmU8WqUFlo7+kteOzLBUcTF9W5h44HGefXQ3u0ZTRNbCgQkI/A6tRp1KaYX80jzzM3PMzi2RK9Vptl1czyUwCqUs7GvVfnw0lKAC4+OU55k7/jrHF9pUvTiJke1s272fByazpKI3SN6Bh99uUK+UKOaWWJqbY2ZukcV8mWrbwfHDv2dZFvqanTcDnHqN2kqRYrFCtd7B9UFbfrjt0irLCzPMzs6wsFSk3HDxVDjMYERz+dBsJsB3mjRqJcqFHMvzc8zOzLGwWqHacPA8H4MCy8K+1v6YgMBp02pUKBcLrCzPMT+7wNz8EvlChWrLwfU83CD8dUBb17gR+rX5dGpVaisFiqUatWYHx/UInCqllSUWZuaYm8uxUm3TCgAU2tbYWl/ldRnwO7SrBQqFMuVSnYZj8NEQOHQaZcoryyzPzjI1PcdysUbTVSjbJhqxsda9wMB3cFp16uUCheVFFubmmJ5fZqlYp+N4uH6AAZSlL/vcjdumUy+yulqmVKpSbbk4xsKK2Os+D4PvdGiWS5QKq5TXXr+yseyL6xrfwamXKBdXKRQqVCu1MIQ6AUbb2JEoEStGMh4hal/tfbnIGB+33aRRKVMq5MjNzzEzPc/cwirFaoO26+G7Hr5RKK2x1g3H6TfL1EoFCoU8ueVpzh87zbnpFcqBhZXq/f+3d5/tbZ13vu+/q6GDAFgAggR7FSWqWr25JTvjSSaTsnMymUl29iSzX8G8g3lyzns413EymTOTzNlTHCuOHScusmSrV4qU2BtAEL2XhVXOA1CyREsex5EnzmR9rguPCC4u3FgAf+te//W/Cfb20OYUMMt5SvkihVKVkgqCqGCTP9ra0zS0B/uTS8TZWF1lZTXKRiJLvlZHNUAwBQRZQnrSsUzz5KleLlLIpUltvVcrq1E24hnyNZW6qj4I2pIkPb3yNIvlMyb93d+B1V3EYvljZGLqVfKrU1x/9Sf8y9s3uLHRwBaZZNef/i++9+IEk11OFL1Cbvk6N3/+f/P378wylwbn0DEOfeEbfPOFPeyNuLcCto5WLZCNzTF1/QbTc6ts5EuUyg0amgmyDZvLTUt7N5HRSfbuGmdHTxtu28f3Bzb0OoXFC5z/5/+Tf76YY63qJzD5Is/96Tf51uEIQc8TmgeaBoZeo1bYJD59jcu35lmKpckUK1QaBqYgY3O30NIxQN/YJIf3jdPT4cFtFx9T951l/dpVrr51hZlkhYo9wtDkODvHHRjxOW7eWmB5M02xomKg4A32M3boOY4c2sewn60ZeBNTV2lU0sTn73Dz+k3uriRIFKrU6jqGqGCze/AEQkRGJpg8sJ/JHh9um/RIQDZNjUY5TWrlHndv3ebGXJR0sUK5ujUrL8nIDhcuV4DwyB4mJ8cZGwjS6rFje6pJ2wAyLF24yLWzN5nNqVQ9XfRFfLTZkyzPR9lINoOyoLhwt0foHd3Dvv3j7OjrwGfbFigNHTW/ztq113n9SpR4WcQd2cmOiXEGHRk27k0xM7fGerZEpa5j2v20Dx/i0OG9HNzZTYfbtnVJ1sTQKhQ3l1mavsnNO0usbmbIlevUNBNTsuF2ufF1jzEyMcnkjgH6Ory4bCKCaaLnlliZucib5+dYTVcRAsMM7XyG488MMdTp+bBVpdn8G9PnL3D1+iwx3Ya7c5AdR05yYEc/XV4JSYB6YYPorbe4dO02N6MPv+Ct8ihHiMDQEV56YQfD4Rbsj53Nbl71qBUTLN+6ytT0PAvRFNlihYqqo5sCsmLD7mqhpbWL/ok97JwYZKAzgM8hPzh+MlNnuHLlOteXsmxmcqTXYsQ38xQNEZs7QEdfH50BDy5ZQBQFcLfhHjjAycP7OTzQgl1+6GREr1PJxFifu8WNW7MsriXJlqpUVANTlFDcXjxtPfSN7uXQgR30dXjw2iWkh8+JTQO9XiQbm2fu9i1u31shlilQqDRQNQNTEJHtLlyeAKG+MUZ37mDXcA/BgAu79KTQbrF8ftzvLmLNZFssf3SEZm22XkMvrjK3usl6uooqepH9fewYChEO2BC1PNn1eW6+d4Wp9TxFzUtwaJI9B/exsz9Iq0NsBtpqmtTyLT44d5Z3373A9ZkFlmNp0tkcuXyOXKY5sx2NxUlkKxQNB06vnzafHeWJs1zN2bt69redyTYxGlVKyWWWrr/Lb946x/tX7nB3aZ1oMks2t7U/8RixjU0200WKVRGnrwWXy4HtIzO/WaK3r3Htzfe4cGeehXiJSr1IqTjPzI1rXL52h9mlKBubSZKJPGVVwRsZYmCkj3YHSAKYeo16fp2l25c599ZZzl+6zq25NdYSmeb+pFMkNmPEonHiyRxlXcTh76DF2ZzhbO6PSaOcZnP2MlfOv8Pb565yfXqJ9WSWXKlMqZSnkEuyuRFlbXWdeCpNXpMQHV4CPhdO24eB63dnNE8+rl7m0lvnuTKzwNxGgmRyg43oIvPz68TiSVKpTTbjMWKxOIl8lYrgwuvz0+ZzPDIzbBoGWj7K+o03+OV7t7k9v06yXKNSyZOau8XNq9e4PjPPYjROIpkkmStSdnbR3dPDYNiP1y4jYGJqFfKrd5i+fJZ33vuAC9dnmF2Ns5nOks1lyaYTxNdXicZTZEo6uuiixe/F67IhCyZmI0tm/S5Xz13g+u1ZljfraEqAzr5OQm0e7Fs7bNYzZNZuceGdd3n7/E1mExXq9k56RobpDwfwbvWabxQTbNw9x9VLF/lgOk48vsFGbJ219XXW1mOspeuU5QgTE12EW50oH6nLNsGoo5YSLFz8NefOneODa9PMLEbZyOYpliuUCjly6Q1i0ebVjFSuTB0HDo8Xv9vxYIY8O/8ut65f5ur0GsuxLLlShapmYGBiGA3UaoF8JkU6uUkimSJZqlO0h+jv62Gow9lcMGfrZLGSXGbx5jnefe885y/dZnphnWgqQzaXJZdJkoxvENuIs5HMU2uIKB4vLpcDh/LhsWyoFdIrN7l98W3efe8SV6fmWY6lSBdKlMolKsUMqfg66+sx4ok0mYqBZvPS0uLB7ZCRP+7s3GL5HLg/k22FbIvlj5AAiGYDQ82yshhjLZalYtixO0IMjfXS1eFCqSdJLN7h/fenmU+Wqdu66N9xgGeeac68uWQB02xQS6+wdOMsb713nanlJFUlQGvPCEPDgwz3R+hqd2MzapRyOXLZPNkyKN42uiLtuG0ST1pT5lOFbEOlXthgfeYK7775Ju9cXyFe0JG8IUJ9Awz2R+ju8OEU6lTzaVLJNIl0GcPTTqC1hYCrGWw/VCB57y73rs6wmMqT13QaaoZsujlm+aqBIEnIsowse/H6exnctZPx8W7aFBDRUEspEveucuGdd3j70gwrWRXNHSLcN8jwQC9dwRY8so5aKZBNpcjkqmi2DtpCfrzurbITo0o5scid87/h7Plr3FitoTlCREZ3MDw6zFBfhJ5OP36nSSWbJp9Nk6voGPYW2oIhAh4nNulxM6WfhgkU2Jie4d6NWVYyOXJqnbpmIrg7CHX10B1upd0jQb1CoZCjVCpRqgs4/O2Eu4K4lOZVg2bmMtBLCTZnL/HBzCaJXJWGrlLJpUisRdnMlqkaQrMUQ5ZRnG4CA5PsGBtmuNPXPA6MBmpmmbtXzvLO2Q+4NLNBsmrD1dFNT/8Ag71ddLa5UdQClUKOTL5MRZOw+droaPPhtUuIskCjVia3OMNaLEmmCjZPc5Y3EmrFqzRHr5GLEZ+9wsVrU9xeL2J6w0R2HeXg3mEGOtw4tmZ9dbVKJZcgX9ZQbe20B7y4ZI16tUqx2qAhteAKjXNwXy/dba6PhmzTwKznKG3c5tevvMr7d9ZYLyvYWyMMjY4yOjxMf08X3W1OHNTJZzLks3nKmh27p5VgMIDPqWwF/hTlOgguPx6PC0VVqZeqqKaM3d1GaHiMocEB+rq76OrupisyQM/ACBOD3XQH7MiiAIaOXk0Tnb7I+2+9zbmbS6xlVfA0j+XBgR662jy4xTq1QpZUonksm85W/K0+/B47NklAMBuoxRjzl89y7p3zXJrPUhT8BPuGGRoZZWSwj/7uIKGAhFooUMxlyJaqVHHgCwVp93lwPqaExWL5PLFCtsXyx0wAQTQxzDrp+SU21jbIVEGSXHSNDNPV4cNZihK7d4N3bi4SK9QR2iYY23uAg3v6iLQ6UQQTDJVyMsravRkWNiuokofQyF72Hn+e08ePcnT/JDuHgriMAtlEgmy2RLmkYvN1EB4ZIehSsD+p6uNThGyjXqa0McP01fd57d0Z1rJVhEA/Q7uPcvTkSU4c2cfkaIR2u0Y9nya5mSJXLlLQW2gPdhDu8OK2PzzrWyQ5N8f8zTlWckVKqKi6ji64aGntpru3l97ebrq7uugM99HbO8zYzmEGe1vxiCDoZUrxeW6dP8u7564zm2xgeLvpnTzKidOnOX10H5OjPXR6JajkyKQSJDIVqnWJtoFeggEfXkVA1PJkotNcfvsSV6ajJMwAbYOHeeGlL3Lq+DPs372DnWN99Aad1FMpqg0dwzRxeH20RQYIBby4lW014p+aCRSJz9xj7vYC6/kqNdmFt3uEiSOnOX3iCAd3DzPU6cXWKJLLpCmVa9RUDdHXSSgyQKdbbgYuYStkl5Mk5q9yeTZFuqjSUBs0GiaCI0Ag3E1Pbw+9kW66usJ09UQYGJ1kfKCbSKsTuwyGWiJ79xzn3zvPezfXSdZk3OFxdh4+wcmTxzm2f4IdQ534xRKlTJZMNk+hZtBwBgl1Bun025FlG6LegMIiy7EE8YKK6fTi7RxksLuDDrcM6JQ3F1m4/j5X7yyzWpDxR0bZdewE+0e7CHmVB7OsAgKS4sLTFiHSP8ZYX5A2e518oUimUEdX/LSEd3DoiSG7gVmOk53/gJ/98jpL6Qaab5Dh/Sf44ovPcuLwfnbvHGfHUIg2u0YuU0TVDARctLR10NnbSbvXgSKAZPfiD/XTOzRAX9iNmEmSjmUo6XZcwWH2vPgSz58+zpG9u9g9uYtdO8aZGOqlt92L2y4hCGA2ytRSs9y+cI63z91hOadjtnQzOHmUE6dOc/LIXnYNhQm6TRqFNJvxJLlyjQYefKEOgkEfXpuMaNSoZWa5+d4FPri8SLTqwhvZzcFnn+fZ545yeN9uJidG2NHfgpbPU6vVUDUDxe7E39VPZ0crfsf2K04Wy+fL/ZD90f9SFovlj4AAsgObt4tId4Bwm4JECbW6SiyRJZmtUsxlyaXjFOo1NARcXWHaIl20uhwPLp0jgORpIzhynFMvfpU//9o3+dqfvMjzR3aza6yf3v4++ndMMrFjmKGgG6+tjlbbIJ+Lky7o1PVtu/U7MdHUCpmNVdYW54gVajRMgcDoEfadeI5TRw6wb3KSyb0HOPbscY7sHaXbISBUM6TvTrO6EmOz3KD+xHYGJiYmor2V4Mhxnv369/j+3/wvfviDH/KDH/6QH/7wr/jO//ECRye6aZWaX65mrUgxPs/0/Aozm2VqUgu+zt0cPHqUUycOMDkxwc49hzl09BQnDwwxHpbQainS0dssrmZIFRo0jObJjFYrUyzXqdVNkF04/Z109XTRE+km0ttP39AkO/ae5IXnj3LyxCEO7htntKcDv0P+sJ74M2HDZu+mf/QgJ58/zsH9k0zuPsC+Y89x+theDg56aLE1qJfTrEc3WIgXqTWaNx8+jmmCaUjY/L0MHf8KX/2L/8kP/+Zv+MEPf8gPfvg3/OC73+Vbz+1ld48fl00ENBpqhrWZO8zPrpIuaYjuDnr3HOPQsZPNE72dk+zaf5QXv/wcB8b7CMkGamqTtXvLRONZSrqJgYzT00rv6BidwQ7soka5mGE9ukG2UEEHMCuU8mk21rJksyooPnyBCIO97QRa7I+UMYh2N77wCMO7D3P46GEOH2yeULX7XIiPFCg/gWliag30coF0VadmiAhuHy3BLnojEXoi3fT0DTC4Yx97jp7ihdNHOXHkAHsm+ujp8OKUPqx9t3mDtEeGGRwZYWigh7DPi1ts3oSs2L20d/cxMDrGyPgYo2OjjI0MMNwdIOD+8IRTr5cpxmZZWpplMVejqvjwDR7k0KnTPHt8P3t37WLywCGOPHuKo3vHGHIaUE2RWrvD8nqczYKGZtDsIqNWKFVqlKoaumzH1hIkFO6iN9JNd0+EyMAog7ue5cTpY5w6eYjDByaYGAjR7rahPJ0zRYvlP8Un+KRbLJb/mhQUWwudPZ0Eu/xIkkldLRFNpklk0mQySRIbaeo1DZAJhTro6mrF47h/oxkIgh2Xr4ueXc9w8MQJTp46xv7RLtqFItnYKksLyyyvxklkqqiavtXmTcPQGzS0p734hU5DLZFLZkhulGgYItBC78gwg4PdBAMenHYbNqcff3iQ/v4ehoIKdkFDq6yQTm2SzjeoN7Zv977mzGRocJwDJ09z4uBeJseGGRkaYmhwiKGhPvp6Q7S3OGne8gL1cp70xhKbmSRFzURwt9AyMEBPuIMOG6DpGIaM0xOgM9xFsL0VzAa1ep71RJZssYqhmSDakG0uPHYZh2RALUl6+TLnz37AxauzLMYy5FURxd/D+PGX+NKf/3e+/vWv8aXTh5mM+GhxPK1Z7MeRkaQW/P4gnZ0+PG47NrsLt7+T/sERRgcjuF0OdE0ln8qR2sxS0xo8MWaLNqRAPz27jvHsyYMc2T/B+Mhwc4wHhxgcGCAS9ONzyc2b6Yw6WnmTlZU0G4kqmu7C5eymtydCJOjFKYGhGZg4cIcG6e5sJeSVkLUq9UScTCZPUTXRTRCdXty9uxjpDtPnEBGLRQqrceK5EkUTjGqWXHqDxUSJdFVGbg3TNjjGYIcXv/3REgZBEJFsDhwuDx6PB4/HjdNhQ5EltldfP5YgINhsyF4fbaKEQ1PRNudZvvE+b79/hSuzq8QyFWp4aO2Z5PAXvsJXvvENvvbVL3Lq4Ci9rU62Klya2xJFRFFCkkWkB11emsupi5KIKItIktTs4nG/88qD3TRpNKpk41FSiQQ13cTu9hIZGGGov5eQ34XTbsPuCuALDTIwGGGwR0IRG9RraTaTWTL5Krpugigi2lx4HDbcNhDUHLnoba5fusj7l+5wbzlBpqrRUFrp23ua0y99nT//+jf40//2LAeHQ7RbPfMtf0CskG2x/NESEGUHvnCEULgTvyyBqpKPxknElolupojGa9RUCZQ+ukIhejpcOB+UaQggiMh2O4qsUd2c5ub51/n5v/1//Oyn/8TPfvbTrce/8suz17kTK1Ksf5Z9bzV0rUK5UKOYMzC2QnagxYXXrSDdL/4WJCTZR4u/hVCHiKQYGGaRXKlItlBDbTypgbaIKHvwtYWJ9HTS1mLnMRUrj9AaNaqlHPV6FRMw1RyZhUuc/+W/8I8/+hE/evllXn75Zf7+n/6FV85OcSdaaf6eYZCvVKjWmytwIrvxdPQxtmeE0cFWPEaR0uYMN957g1++8s/87P/9CT/58Y/5+3/6V165sMBKUcHl76Qz2EGr14b9qdVjP44AyIiChCx++HcEUcbl9eL1B5AUGVM30GpVauUyNcNozgw/jiwh+DoIdPfSG/LjdymP6fqyxTTB0DDqBfKlOuUa6IZKrRBl/vIbvPG//4F/+PGPePnll3n55R/z8k/O8O7UCutFFbWhYjQqVGoqNW2rzZbkQGmJMDgYpq/LgZ0ilewKa/EcyRJUcykym1HixRJlFHyhLiKDA3R4HDi2l3v8rgQZwdGOJ7KPEwcH6Gu3I5cSbMxc4dyvXuXf/vmn/ONPfsyPfvQTfvrvv+Hc3TRZoYWWUJCO9mad+RPH7bemozdqFPMlyoUahmmiKDI+nwuPy470II1LyJKTloCfjlALkiygqg2yhSK5UvP3EGwo3m6GJsaY2BGmValTT80zc+Ud3jzzr/zvn/4D//Cjl/nR//P3/Nvbt5iOq5iudjpDIYI+J07bUx5ni+Uz9B/8i7BYLP+VCbKMra2LUDBExClj01RqG2sklxZYim6ykmtQM22IwWHCnZ10tsjYlYc2YBqopSSJuctcfOcNXjvzc868/hve/uAW0wtRNrN58uUSlVodtWE+eSGQp8IEs4FW12jUTDAlwImsKNt69QoIooLdoeB0gyg2F8Ooqw2q9Qa68aSQLSAKzVlah3Orpnj7U7YxDRNda2AYGiagl7OkF65x6d3XOfOLVz98/Oot3ro0w/xGsTnlbEJjazEUEEB04gr0MnLwGCdeeI6Th3YyFrQj5VZYun2RD955k9fPnOHVV17h1TOv8fqb73D22j1mYwUq9Se9nqdv+3iIooysKAiisLU4zFY/Z6MZah97OAgCKDZkhxOHIqH8R/+lDB20Zq18wwTTrFMprjN/433O/uoXvPaLVznzizOc+cUvOPOLt7k4s060pFI3TQwaaLpOw9jaISREuYXgYD+R/k5abDq10iaL60k2MyXyiQSp6Ab5kobhaCPY2cPIQAceh/L0rxQIIoLiwdUxzpEXnuP0qSMc2NVLp6tBef0udy68yzu/+gVnzrzCv7/yKq++9it+/e77XJleJZqp0XjiWcynoWPqdbSahtYwEUwQBQFFlpGkR1txCqKMze7E7nSBIKAbBmVVpaY2tkK2gs0dpGfyAEdffJ6Tx/axq9eHW91k4+4VLp79DW+ceZVXfv7v/PzMGV771TucvXibqeUMudp/3mJLFsvT8B99fVkslv/KBAXZHSTYEWIgZMMuaTSya2wszjK3EiNWUdEUBU/vAB3BDvw26cNL0JgYepXCxjx3L77H2Qs3ub2QpqA58XWNML7vMEdPnubZ505xaM8wA+1OXA8H9M+EiCAKzeCM0SxN0e6H1ftMTJorNxoPSlYEREFohvEnpiWhGcIQkQTxk317Cluh0WhuU5RsOLwBWoOddIbDHz66uunq6WdgZIyJnTvZMT7KSDiA39XsDgECot1DoG83+59/iT/72lf4k+eOcHj3GGP93XQFWwm4RMRahuTiFNfOvs4bb7zNu9dmWc5UqN7PkP+ZTDBNA9PUaSajZllCcxGY7U9+mIAoiAii2FyYaPuPn+DD1yehKC68gXY6Oh8a43CYznA3kf4hBsd2MD4xzthIH13tblwP6pcFBNlGS/cQkZ4+Ol0KQq3A+so68fg6sXiMaDRNqS6g+Prp7hlguNOJ0/7xi8l8OgKINkSXn66JUzz7pT/lpS+9wOmj+9m9Y4iBSJhgmxeP1KCeWWf1zgXe//VrvPnWB1y9GyNV3roK8rSIEsL9QC0AmOim/tGSLxN0Q0fXdDCbh78kNj8zD8ZYcuEJjTFx5Au89NU/409ePMWJfTuZGO6lJ9xOW4sDh1Eitz7L9KV3+M2bv+HXH9zmbqxAqfFZXg2zWJ6uj/2qs1gs/8UJIoLipy0UpKe3BYdNp1GNs7aywNJKnHxVR5DddA90E+zw4ZCVh740DMxGgVx8mbmpBZbXchSrXkKDBzj6xS/xhS+9yHMnj3H0yEH2jA/Q7XfiUD55aPrtiQiiHbtTwe4WEAUdyFGsVqnUdPQHM3sGhtZcBjqTMTG05sy22+XE47Yjf5Kb0j4hQRCRJBuCLDcjuqedzp2nee6r3+F7//Ov+eu/3vb4/v/g+9/7Lt/7zrf4xolxxjo92BURQ1epV6tU64Cjlc7hPex//qt85Vt/yXe++1d851tf4yv/7SRHJ3tpt6lUU2ss37nMrRs3uBPNk6t+giWyfyfNevuHZxlNdOq1MtVSEcPQESQRyWnH4XJiF0XE+1ntdyWKIDdbL8oiCIITp3+YnSde4st/8b3HjPP3+f73/wff++5f8O1vfIHju3oJOT9sJSmIMkpLhFBXD70hB06zTn5pkdjiHebWYizHq9QMJ55IH+H+HsIuGfvTO2Q+ZBroapVaqUDFUHC09TK89xinX/oa3/zOd/nuX/0l3/7ml/nSs/vZ3efH1ciRXllg7voNpu7MsZar8biLGALN3omCAELzTAjDAPMxz/2QjCjacbgUnK7mbbSaplMq16nU1IdOYk00vU65mCefzWMaJoqk0OJ24nHZEAUB09DRamUqtQaa3EJb7ziTx7/IF7/2bb79l9/lL7/z3/nGV7/A84dG6fEJ6IU40dmb3L5+hdvLmyQq1my25Q/HZ/HVYLFY/mAICIINb0eQYF83bocCRpl8LkcmU6LRULDZuhjuaScYsKM83NTaNDG1MuVijkS2TlUVQGmltWuIkR3DjAx2E+5oJeBx47I3l5v+2C8c08TQNVRVpV6vo9ZV1IbWXFbZpDkDbRjomkpDrVOv16mrGppubM3YKcg2F77WFtqCDiTJAArEYnE2EjlKtRqarqOrVer5DeIbCZaSOqohISudtPrbaG1xYLc9legHgGJ34vW343V7m/XbhoAoeAmEhxnbf5CDR45y9Ngxjh09wpED+9m3Y5zxwUFGd+5i50CIYIsDSTBpFJMkZi9w/u1f8ovX3uS9G4skpAjdE89w4MgJTj77HM+/+AVeeO4Ux8f8tHoE9HKSdGKNtc0CharxGYZsHdOoUa8VKZZUVFVvvo/1EunEJhvRTWo1FVGS8Pha8Le24JBEmqcdvyNBAFFBcgZoD7gJuCVk0cAUQfSGCA/sZO+Bgxw5eoxjW+N86MAeJnaMMzI6zvj4MIOdflpsD99MJyAoPtrDEfp6Q7Q4NPTkHMtT17g1t85SXkd3BugZjDDQ14FLaZ4wfMTW8azdP1brdRqavlWO1Ay3pqGjNRpbx7yKqunoRrOLjaHXqKRXWLz4C9547TVef+siU9EatA0xvu8Ix06c5PRzL/DiF7/Isyf2MxF24ZXrVLNRkvEo8WwVVXt4h+4nawlZlhBlQGiga2VKpQq1aoNGQ0fXdXRdQ1N19K0l6EFCtjvxd3Tgb/MhSwJqtUpyfYPNZJpCvYFmGOhqmVoxTjyaYC1aRdNF7A4PoVYfrS0uREnAqJfILF/lyntv8NovX+eti9Os1FvwDexm96FjnDj5LM8+/wW+8KWXOLG7h95WGbGRIZdYZXUjTbbUQP/MjmWL5el67HeDxWL54yGIEvZAiLbuQbpcdlwiGIaOoZtg82BrG6a/s5UOj7y1TPhDmlkBY6u9HWKVcjFLMpEhncmTzySIL06zML/Earby0KVec6vTyEMbUkuUUmsszc9wZ2qKqalpZuZXWU9rVNWtAF7MkFiZ4970HaamppmeXmQ5mqGs6eiIKHYvrV1ddPeHCdgkREEjfu8md27c4M78GtHNBIn1ZeZu3+D29ALL+Qaa6MARHifc1U3Ip2B7iv3uFLef1u5RBrq76PTIiJUsyXtXuXbhA96/Ns38WpzNZJLNjWWW7l7lyvu/4Vevv827F+dYTVWo6iamaUA9T359iqvv/Zozr/6cn7/2Jr/54A73ohmyNR1TduFtDRHu6qarRcEpgSg054qb2fGzTCUqmpZgY+0uUzfusbQaZ3MzyvrCLa7fnOLWQppizcRu8xMOBent8uFQnkrE3iqpsCO7uxge66e/pxW3rU6tuMzs9Ytc+uAaN2aWWY0nyGUSbEbnuXfjAz545y3eOXeJq3ObpMrbZ0bvn3h20TXQR5fXhq0eY3nmLvfmoqQbNmyBHob7uhnsdDcXankMQ61RTq2yOj/F1NQUUzNzzK8myBXrGLoOepVGPsra/F1mpu5wZ3qWheUNkqU6dd3E1DW04ibp2ff4zRs/58yZM/zy1+e5eHuRaLpEVReQ7D5aO7vp7Arht8vNUq4H5RyPIyHJLpw+O26fiCjWqVaSrEzPMHt3kZW1GNFYlOjqGstLUeKpEhWjeRKr2DwEIoNEegYIOWSo5kks3uLmjRtMLawT3UwQj84zf+cat6YWmE8JaJIbT1s/PeEQIb8NRRJAr1FLzjF9+W1ee/XnvHrmdd48e52pxU1SJRVdtONsCRLuHaQr4MFru98NZetFmZ/x4WyxPEXWYjQWyx87QUBQRNRynszsHWLZIqUGmKKEzd9J28RRnjs8xmCHA/sjN/uZmEaNUnKD2OIi65k8ZbWKZhioqkatkCSxNsvMtQtcvnKTu+u5ZiAUFDzhYQZ27GOow47HJjSvVZc3WL13g/MXrnDl+hT3ZmeZnZ1jfmWDRNGgppkYhka9nCMbW2JpfpGFxQJV3AQirbhtMoooIEqg1apk19bYyFWpVfJUSkUKxSKFdJy1+SmuX77CjZkVNisCYks3I0ef48iBccY6vXhsD9fXPrwYTZWazU9oYITRnSNEWp04tp90bCNIMqIkIzfK1HJpUtkipXKOVCpJOp0mW8iSiq+xMnuHO9cvceHCFS7cWidectLZ3027341LFpBQUYsplhcWWV7eIJ4uUiiWaWg1yvk0qc0YsbVFFmenuH79LkvpGpozRPfoHvYd2M1olw+v7Wmtkmc+uhhNoURRV6mWixRzRcrFDKnoArO3LnL5+jTT60WqppeW7gn2HDzM0X39dLge6kSyfTGaqoAY6KV3eJy9A+20uZWPqZOn2fVFlHHYoVYtkslmyORLlLJpsuk0qWyWbCZBemOZ+embXH7/fS5fucm9jQJlZ5DOziBBr4z4aP89BNFELefIr6ywlkiSKlWpVqqYriDB0YMcPjjJ7j4fjoc6qjxMraTZnL3A9UvnOH9tlrnZWWYXl1mNZyhUVEzDQNCrNIoJYitLLC5ESZTAHmjD63HilE3QymilGDenFtlI5kjnypTLNdRaiWI2yWZsjfWle9y7M8XtmTUSFQlbxwjDu/axd/cA3YHmYjT3CQiYeoNGfo1ofJ21dJVyVaWYL1MrZcmlNoiuLrI4v8z8XIaq4sYX9OOQRWRJQFJk9HKR4kaMZL5EqZgjXyxRLJYppKOszt3m1uUrXJ9ZYa0MtrYBRvaf5PD+cUbDPlyKiGBomPUs0eUVFhdXiaeK5IsV6vUKlVKOXGqTeHSV9YVbXLt6h4VogZLoI9A3wZ5n9jPR30Gb01qMxvL5Zq34aLFYtgggKJjVItX4HeY386QrBoh2PMEeRg6f5thEd3Mme1sQQZCgUUUtJknk8xTKzVCbia+yMneXe/fuMbuSJF1q0NA1NE1HR0Jp7yM0OMF42I3PITZDdnGdxekrvPX+dW7cmWN9PcpGPEm6UKfaMNENE0OtUsunSMZjRKObxDdBCXQxMNlNq0NBESQk2Y5NFnBRJJ6voVXLlPIZkrFVludnuTc7z9JagkxdQmntoWfiMM89e5i9oyHa3cq2mcnfLWQjSMiKHXeLE5tgUC8WqNSbs/2ZRIzYyiIL9+5y7+4c8ysx4rkGhi1AR9cwO3YNEG51N5cgl2UESUKoFqiVC+QKJUrZDeKrC8xNTzF18wY3btzi9vQCK6kaDZuf9rGD7HnmKId39dIdsDeXZ9++f5/K9pBdpSooKLKAoabYWJ5j9t5dZhdWWEsUqZgOPKFhhvcf49jhvUxGvDilh0qHfueQLSAIMorLh9sGklGmUKpSLRcp5VMk4+usLsxxb+YuM3fnWYqmyTdE7IEQ4f5RRvs6CXqVR0M2zfaUQr1ENbvCUrS5AqRmiHjCg4wePMLBySH6/R/2jN+uUUgQmz7LpYvnOXdrnfXYBvFUjmK5jqZvtR6slchnN4nHYmxsFKhLPoKDA3S2efHYJGRFQXE4UVMblKs1SoUc2c11VhbuMT11k5vXr3P95lSzk08ZbK3d9O85zP5n9rGnvx2/c9sVA0FAwkSmRqGQI54sUi5XqJZy5FJR1lfmmZ+dY24hRjSh4+iMEBkI4rPJKKKIKDpw2kA0K+QLFcpbY5yIrbIyd4979xZYWkuSqYkogV4Gdh7k2IlD7B4K0+5tfrYEUURUbAhqiUY53wzp2STJ2BIL9+4wdfMmN27c4MbtaebXc5QED97enYw/c5yje0cZ7HA9WLreYvm8skK2xWJ5iIisVzEqm8xH86TLINsDBCNj7Dl+kMm+NnyP1K3yINzIDhcerwcXVcqVMqWKSkOtUa1UqagCSscYY+ND9LeCpmnUdAnJF6ajZ4idPT4CLgXBNKCSYH15jpt314hnSuj61mV8UUaWFRRFRpYEBJq1rLoOJm109g+zY28PbU4FRRAQJRt2l49AKEx30IFQK1GrVCiVq5SrVao1FV104u0aZ8fBF/nSl05weCJCp2/7TD1AmfTyMiszy8QqOrqzlfDQCKMTQ3QHPkHIRkCQZGwuH/5giPb2FtyiSqNaoVyuUq1uPeoauuzD1zPB3uPP8uLz+9nR107ApaCIAoIoI9u8+No6aG/z4pJrlPMZcoUihUKh+SiWKddNcHUxsP8Ux0+f4viBUYaCXtzK0+x+sT1k62iOCANjQwwP2qmmUuRzRco1A1Ny4QuPMHHkOU6dfIYDo520OaRHjyPTQK9mSS3f5NZKkaKmoHT00T88xt6+dgLuT9AeTxAQZAcOb4C29nbavHZko0K9WqZSbh6L5UqValXDbOmib9czHDp2nGN7RhkMenEqj7ahY2vWVzAbaGqe9fUUqbyKaA/SPbSXA0f3sWs4ROvH1O9rlTSp5Zvcm19gPtGsxTbZurFSuX8807xhVDcwTCfeUA+DE6NEOlrw2iQkyYbiaqU9GCTgkREbNUqFPNlcjnyhQKFQpFiqUjccuMKj7Dx6mlMnDnFgLEKn34HykeleAUGUUBxenA4FWatQLlWpqg00TaVeqzVrw3UJyd1Oz44xhgfvl6IIiKKM4mzB19bsACJpJSrFIuVylcqDz5YLb3iUnYee54tfOMmBHRHCfgcO+X5nEhFRceLxt9Pe5seraKjVPIV8Yes1bb2usorh7KBr/BkOnTjFqcO72BkJ0GLfdvxYLJ9D90O2YG5VN7W1thKPx7c/z2Kx/LGoFyhuznPj3jrxdAUdJ572MP07d9Af9OJ+0oImpo5ayZONzjG3tE40VaauGhgISHY37mAvkXYntlqCeCJHtqIhekN0Doyxu78Nv8u2FbJTxNYWubOwQTJf3Vaz/TgyktxOeGCQ8d09BBzyg5UWmx1E6qi5KItzi6xtpMiUVFTNxEREsrtwt4UJ9w4xMtCG32F70F3iUSVSS0ss31lgPV+jZvMS7BlkYKyfsO+ThOz7TExTpZpPsbmyxOraJolcmWpDxzAFBElBcXhp6eiiu7+Pwe5W3LbmYiIf7paJoanUCgniq4ssrcbJFGtUG83uEAgiomzH7vLT0TdIf08nnQE3zkfKX54GHYhy419f4bV//BUX1qpUWnZy8IWjnH4+iLaRoZivoGoGSHbcrV10Dw3TH2kn6LV/dIEU00CvpEku3+LmQoZMVUAIdBHpG2JXTxs+p/yRAPxEpoleL1JMR1lbXSUaz5AtNVC3lnEXZRv2lnaCkR56Il2EW724njg+Jka9SCG5xt2ZRdYTBRqil0BnL/3jg0RCLXg+5v3XKjnSa7dZWFplKb39p9uJiKKLQGcP/TuG6W714nmw6IqBoVbJb66wuhZlI54mW6yj6gYmQnMFRbsbT2uISN8AveFWWj0ObB8Z6A+ZhoZaTLK5tsTC0gabuTL1xlY7PklCtnlw+YL0jAwz0Nts3fngfgzTxGhUKKc3WFteZC12/0qViSmISDYX7kAn4f4hhnuD+JxS80Rx2+6Yhka9lCYVXWZ5LUYyU6Jc09GaZ9YgyTjcAdq6eoj0dtPd3oLHIT/xyoHF8nmi2Jr/jayQbbFYmkwDw9BQVQ3DMDERECQJ2aYgb7VcexLTNJpLpTcaNFQNrWEAAqIiI9maNzwJpoFuNPtTN1ddVLAp4oeX6U0DvdFA1fXmcz4JQUKSZGw26TE9lU3Y6t7QUBtomo6mN1+XqDQXSVFsNhTp4+o7DQytQUPV0U2zGWQlBcUmIX7k7/1HmjcxGg2NhqahNTS0ho6BgChJSLKEpDRn7WW5Gfw+uv1mhxVDa9DQNHRNQ9MMDF3AlERESUKRJURZQVEkJOGj4eZ3tz1k16j4dnP0z77Mt/7qGSKKgKRqGLqJKUvIig2boqDIzaW6H8s00HUVVW3eZCeIIqJsw/ax782TmBj61vvdaI6Prm2FbEVBkiUUWUH+JOOz9Zlodt0wMNkaY2VrEZbtz3+IaRqYuora0NE/tj3efc3jQFFsiA+X08Ajr0lvaOiajqY1O8aYsoQoyyiyjKzcL+v4uD3bYhroegNV1dDURnN7D8ZeRpZlZJuCIj1u5tjE1HUajQa6tjXWWvOzJSkysmLbuvokNK8IfOT3t2ztQ/N9un8sm5imgKAoKHLzc/FJxtti+TyxQrbFYvkMmJj3W+5tBZiPr6f9z9LsZnJ/clxo7tjv9Z+2aW61cXswVh8TRp7EfOh1fdpt/NYeE7L9ezn2Z1/m298/woDbjsPY6h6ztbjPZ75LH+PBONPsW84jVwf+MG0/dhC2l3J9co9si+aZXfM4+oQbNJudhR7+bH3i331I88rV1naaaf/+S7NY/uDcD9kfNzllsVgsv6WtG5uk5mzap/ln+9kQEAQRUWw+ft/Bj/th5JGx2v6MT+BpbON3cr/38rbxFJurO/72s/1P34NxFrdC2/Yn/AHafux82oDN9m1JH34+PjHho5+tT6MZzre2s7Uq6KfclMXyuWGFbIvFYrH8lprBTJKlZlmBLG31MrZYLBbLfVbItlgsFstvScbR0kpHXx+9w/0MDoQItruwib//mWuLxWL5vLBqsi0Wi8XyWzCBEsmFRVbm19gs6+hKG6GBAUbGw7TIIvL2X7FYLJY/ItaNjxaLxWL5lHTUSoVarUa9YYJow+Z04HTbUT4HddgWi8Xy+2SFbIvFYrF8eo90lfg8dZKxWCyW3y+ru4jFYrFYPr1Hukp8njrJWCwWy+eDFbItFovFYrFYLJanzArZFovFYrFYLBbLU2aFbIvFYrFYLBaL5SmzQrbFYrFYLBaLxfKUWSHbYrFYLBaLxWJ5yqyQbbFYLBaLxWKxPGVWyLZYLBaLxWKxWJ4yK2RbLBaLxWKxWCxP2YMVH/8vp5O//du/3f5zi8VisVgsFovF8glJf/d38HDItlgsFovFYrFYLE/H/w9oYgXfyG+cpAAAAABJRU5ErkJggg==)"
      ],
      "metadata": {
        "id": "vdnc1Qwvt2Lk"
      }
    },
    {
      "cell_type": "markdown",
      "source": [
        "Cada elemento de la matriz está identificado por un nombre de acuerdo con la intersección entre la predicción y el valor real. La diagonal principal de la matriz, que está destacada por el color verde, representa los elementos que tienen la predicción igual al valor real, por lo tanto son los aciertos del modelo. Por otro lado, la diagonal secundaria, que está destacada por el color rojo, representa los elementos con predicciones diferentes del valor real, por lo tanto son los errores del modelo. La descripción de cada uno de los elementos es la siguiente:\n",
        "\n",
        "Verdaderos Negativos (VN): Cuando el valor real es 0 y la predicción también es 0. Indica que el modelo clasificó correctamente los valores de la clase negativa.\n",
        "Falsos Positivos (FP): Cuando el valor real es 0 y la predicción es 1. Indica que el modelo clasificó erróneamente un elemento de la clase negativa como si fuera de la clase positiva.\n",
        "Falsos Negativos (FN): Cuando el valor real es 1 y la predicción es 0. Indica que el modelo clasificó erróneamente un elemento de la clase positiva como si fuera de la clase negativa.\n",
        "Verdaderos Positivos (VP): Cuando el valor real es 1 y la predicción también es 1. Indica que el modelo clasificó correctamente los valores de la clase positiva.\n",
        "Estos valores son muy útiles para un análisis más profundo del modelo de clasificación. Esto permite identificar las capacidades y limitaciones de la predicción, si hay un equilibrio entre los aciertos y errores o si el resultado está sesgado hacia una clase en detrimento de la otra. Con esto, es evidente que la matriz de confusión es una herramienta mucho más completa que la métrica de precisión, que representa solo el porcentaje de aciertos del modelo, sin considerar las clases de manera aislada.\n",
        "\n"
      ],
      "metadata": {
        "id": "g4RPoe47t7YU"
      }
    },
    {
      "cell_type": "markdown",
      "source": [
        "##**Matriz de confusión**"
      ],
      "metadata": {
        "id": "ynSeCIj72MQP"
      }
    },
    {
      "cell_type": "markdown",
      "source": [
        "Para evaluar un modelo de clasificación, podemos utilizar la precisión, que es un resultado general de aciertos del modelo expresado en porcentaje. Sin embargo, la precisión no siempre será suficiente para entender cómo está el desempeño del modelo.\n",
        "\n",
        "Es posible utilizar la matriz de confusión para devolver un resultado más completo en relación al desempeño del modelo, conteniendo la cantidad de aciertos y errores del modelo para cada clase de la variable objetivo. Así, a partir de la matriz de confusión a continuación, que contiene los valores reales en las filas y valores predichos en las columnas y donde el valor 0 representa clientes cumplidores y 1 representa clientes morosos:"
      ],
      "metadata": {
        "id": "WXhP_O9t2TN_"
      }
    },
    {
      "cell_type": "markdown",
      "source": [
        "![0111.png](data:image/png;base64,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)\n",
        "\n"
      ],
      "metadata": {
        "id": "ifJCH57s2d__"
      }
    },
    {
      "cell_type": "markdown",
      "source": [
        "20 representa a los clientes morosos que el modelo clasificó correctamente como morosos.Correcto, como la segunda fila representa a los clientes morosos reales y la segunda columna representa la predicción del modelo como morosos, 20 sería la cantidad de personas morosos que el modelo clasificó correctamente como morosos."
      ],
      "metadata": {
        "id": "PKjJFHns264-"
      }
    }
  ]
}